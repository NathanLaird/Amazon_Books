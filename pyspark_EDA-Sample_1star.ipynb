{
 "cells": [
  {
   "cell_type": "code",
   "execution_count": 1,
   "metadata": {},
   "outputs": [],
   "source": [
    "import pyspark as ps\n",
    "from collections import Counter\n",
    "import pandas as pd\n",
    "import time\n",
    "import matplotlib.pyplot as plt\n",
    "spark = (ps.sql.SparkSession.builder \n",
    "        .master(\"local[4]\") \n",
    "        .appName(\"nathanscope\") \n",
    "        .getOrCreate()\n",
    "        )"
   ]
  },
  {
   "cell_type": "code",
   "execution_count": 2,
   "metadata": {},
   "outputs": [],
   "source": [
    "sc = spark.sparkContext"
   ]
  },
  {
   "cell_type": "code",
   "execution_count": 3,
   "metadata": {},
   "outputs": [
    {
     "name": "stdout",
     "output_type": "stream",
     "text": [
      "0: marketplace\n",
      "1: customer_id\n",
      "2: review_id\n",
      "3: product_id\n",
      "4: product_parent\n",
      "5: product_title\n",
      "6: product_category\n",
      "7: star_rating\n",
      "8: helpful_votes\n",
      "9: total_votes\n",
      "10: vine\n",
      "11: verified_purchase\n",
      "12: review_headline\n",
      "13: review_body\n",
      "14: review_date\n"
     ]
    }
   ],
   "source": [
    "col_names = ['marketplace','customer_id','review_id','product_id','product_parent','product_title','product_category','star_rating','helpful_votes','total_votes','vine','verified_purchase','review_headline','review_body','review_date']\n",
    "cols = {}\n",
    "for i in range(len(col_names)):\n",
    "    print (str(i)+': '+col_names[i])\n",
    "    cols[col_names[i]] = i "
   ]
  },
  {
   "cell_type": "code",
   "execution_count": 4,
   "metadata": {},
   "outputs": [],
   "source": [
    "def casting_function(row):\n",
    "    if row[0] == 'marketplace':\n",
    "        return ()\n",
    "    if len(row)!=15:\n",
    "        return(len(row))\n",
    "    (marketplace, customer_id, review_id, product_id, product_parent, product_title,product_category,star_rating,helpful_votes,total_votes,vine,verified_purchase,review_headline,review_body,review_date) = row\n",
    "    \n",
    "    \n",
    "    return (marketplace, str(customer_id), str(review_id), str(product_id), product_parent, str(product_title),str(product_category),int(star_rating),int(helpful_votes),int(total_votes),vine,verified_purchase,str(review_headline),str(review_body),review_date)\n",
    "\n",
    "\n"
   ]
  },
  {
   "cell_type": "code",
   "execution_count": 5,
   "metadata": {},
   "outputs": [],
   "source": [
    "def time_cast(row):\n",
    "    pattern = '%Y-%m-%d'\n",
    "    row =list(row)\n",
    "    row[14] = int(time.mktime(time.strptime(row[14], pattern)))/86400\n",
    "    return tuple(row)"
   ]
  },
  {
   "cell_type": "code",
   "execution_count": 6,
   "metadata": {},
   "outputs": [],
   "source": [
    "def toCSVLine(data):\n",
    "  return ','.join(str(d) for d in data)"
   ]
  },
  {
   "cell_type": "code",
   "execution_count": null,
   "metadata": {},
   "outputs": [],
   "source": []
  },
  {
   "cell_type": "code",
   "execution_count": 7,
   "metadata": {},
   "outputs": [],
   "source": [
    "rdd_books = (sc.textFile('s3://amazon-reviews-pds/tsv/amazon_reviews_us_Books_v1_02.tsv.gz')\n",
    "            .map(lambda rowstr : rowstr.split(\"\\t\"))\n",
    "            .map(casting_function)\n",
    "           )"
   ]
  },
  {
   "cell_type": "code",
   "execution_count": 8,
   "metadata": {},
   "outputs": [],
   "source": [
    "rdd_books =rdd_books.filter(lambda x: len(x)==15).map(time_cast)"
   ]
  },
  {
   "cell_type": "code",
   "execution_count": 9,
   "metadata": {},
   "outputs": [],
   "source": [
    "rdd_sample = rdd_books.filter(lambda x: x[14]%33>7).filter(lambda x: x[7]==1).filter(lambda x: x[9]>10)\n",
    "#rdd_sample = rdd_books.filter(lambda x: x[7]==1)\n"
   ]
  },
  {
   "cell_type": "markdown",
   "metadata": {},
   "source": [
    "star_counts = rdd_books.map(lambda x: Counter({x[cols['star_rating']]:1})).reduce(lambda x, y: x+y)"
   ]
  },
  {
   "cell_type": "markdown",
   "metadata": {},
   "source": [
    "rdd_sample.count()"
   ]
  },
  {
   "cell_type": "code",
   "execution_count": 10,
   "metadata": {},
   "outputs": [
    {
     "data": {
      "text/html": [
       "<div>\n",
       "<style scoped>\n",
       "    .dataframe tbody tr th:only-of-type {\n",
       "        vertical-align: middle;\n",
       "    }\n",
       "\n",
       "    .dataframe tbody tr th {\n",
       "        vertical-align: top;\n",
       "    }\n",
       "\n",
       "    .dataframe thead th {\n",
       "        text-align: right;\n",
       "    }\n",
       "</style>\n",
       "<table border=\"1\" class=\"dataframe\">\n",
       "  <thead>\n",
       "    <tr style=\"text-align: right;\">\n",
       "      <th></th>\n",
       "      <th>0</th>\n",
       "      <th>1</th>\n",
       "      <th>2</th>\n",
       "      <th>3</th>\n",
       "      <th>4</th>\n",
       "      <th>5</th>\n",
       "      <th>6</th>\n",
       "      <th>7</th>\n",
       "      <th>8</th>\n",
       "      <th>9</th>\n",
       "      <th>10</th>\n",
       "      <th>11</th>\n",
       "      <th>12</th>\n",
       "      <th>13</th>\n",
       "      <th>14</th>\n",
       "    </tr>\n",
       "  </thead>\n",
       "  <tbody>\n",
       "    <tr>\n",
       "      <td>0</td>\n",
       "      <td>US</td>\n",
       "      <td>27908248</td>\n",
       "      <td>R2YFB0IZEB4T6T</td>\n",
       "      <td>0786803207</td>\n",
       "      <td>215675580</td>\n",
       "      <td>William Wegman: Puppies</td>\n",
       "      <td>Books</td>\n",
       "      <td>1</td>\n",
       "      <td>2</td>\n",
       "      <td>12</td>\n",
       "      <td>N</td>\n",
       "      <td>N</td>\n",
       "      <td>Wegman Puppies - a little disturbing</td>\n",
       "      <td>Every year I buy my dad the Wegman puppies cal...</td>\n",
       "      <td>13067.0</td>\n",
       "    </tr>\n",
       "    <tr>\n",
       "      <td>1</td>\n",
       "      <td>US</td>\n",
       "      <td>39508730</td>\n",
       "      <td>R1PKZ1DV380CGE</td>\n",
       "      <td>0393327655</td>\n",
       "      <td>2927274</td>\n",
       "      <td>The End of Faith: Religion, Terror, and the Fu...</td>\n",
       "      <td>Books</td>\n",
       "      <td>1</td>\n",
       "      <td>30</td>\n",
       "      <td>121</td>\n",
       "      <td>N</td>\n",
       "      <td>N</td>\n",
       "      <td>sophistry for dummies (yawn)</td>\n",
       "      <td>All the world loves a villain; especially an a...</td>\n",
       "      <td>13067.0</td>\n",
       "    </tr>\n",
       "    <tr>\n",
       "      <td>2</td>\n",
       "      <td>US</td>\n",
       "      <td>23488741</td>\n",
       "      <td>R1TXSUPD0SNJ02</td>\n",
       "      <td>0060545607</td>\n",
       "      <td>485010020</td>\n",
       "      <td>With No One As Witness (Thomas Lynley and Barb...</td>\n",
       "      <td>Books</td>\n",
       "      <td>1</td>\n",
       "      <td>17</td>\n",
       "      <td>26</td>\n",
       "      <td>N</td>\n",
       "      <td>N</td>\n",
       "      <td>Longer and longer, worse and worse</td>\n",
       "      <td>Unlike PD James, Ruth Rendall, or Donna Leon, ...</td>\n",
       "      <td>13067.0</td>\n",
       "    </tr>\n",
       "    <tr>\n",
       "      <td>3</td>\n",
       "      <td>US</td>\n",
       "      <td>49989805</td>\n",
       "      <td>R2W8FRD0MADJ6Q</td>\n",
       "      <td>0393317552</td>\n",
       "      <td>733405472</td>\n",
       "      <td>Guns, Germs, and Steel: The Fates of Human Soc...</td>\n",
       "      <td>Books</td>\n",
       "      <td>1</td>\n",
       "      <td>22</td>\n",
       "      <td>55</td>\n",
       "      <td>N</td>\n",
       "      <td>N</td>\n",
       "      <td>This book is intellectually dishonest</td>\n",
       "      <td>The author cleary has an agenda.  He is out to...</td>\n",
       "      <td>13067.0</td>\n",
       "    </tr>\n",
       "    <tr>\n",
       "      <td>4</td>\n",
       "      <td>US</td>\n",
       "      <td>42323108</td>\n",
       "      <td>R3E2DC2JLVRUFK</td>\n",
       "      <td>0441008534</td>\n",
       "      <td>486021067</td>\n",
       "      <td>Dead Until Dark  (Sookie Stackhouse/True Blood...</td>\n",
       "      <td>Books</td>\n",
       "      <td>1</td>\n",
       "      <td>32</td>\n",
       "      <td>45</td>\n",
       "      <td>N</td>\n",
       "      <td>N</td>\n",
       "      <td>Disappointing.</td>\n",
       "      <td>I read a lot, most of it this sort of thing, h...</td>\n",
       "      <td>13067.0</td>\n",
       "    </tr>\n",
       "    <tr>\n",
       "      <td>5</td>\n",
       "      <td>US</td>\n",
       "      <td>12096689</td>\n",
       "      <td>R1AJMOQSMHFSAS</td>\n",
       "      <td>1558687785</td>\n",
       "      <td>517014259</td>\n",
       "      <td>Thailand: A Quick Guide to Customs &amp; Etiquette...</td>\n",
       "      <td>Books</td>\n",
       "      <td>1</td>\n",
       "      <td>8</td>\n",
       "      <td>11</td>\n",
       "      <td>N</td>\n",
       "      <td>N</td>\n",
       "      <td>theft</td>\n",
       "      <td>This book is a copy of Culture Shock! Thailand...</td>\n",
       "      <td>13067.0</td>\n",
       "    </tr>\n",
       "    <tr>\n",
       "      <td>6</td>\n",
       "      <td>US</td>\n",
       "      <td>23495398</td>\n",
       "      <td>RP9FT9CT39Z1F</td>\n",
       "      <td>0751537683</td>\n",
       "      <td>402742988</td>\n",
       "      <td>The Asti Spumante Code: A Parody</td>\n",
       "      <td>Books</td>\n",
       "      <td>1</td>\n",
       "      <td>0</td>\n",
       "      <td>16</td>\n",
       "      <td>N</td>\n",
       "      <td>N</td>\n",
       "      <td>Ugly shape for a book? If only it wasn't!</td>\n",
       "      <td>I agree with Plate of Pasta and Plate of Shrim...</td>\n",
       "      <td>13067.0</td>\n",
       "    </tr>\n",
       "    <tr>\n",
       "      <td>7</td>\n",
       "      <td>US</td>\n",
       "      <td>23496178</td>\n",
       "      <td>R2AA739QQ74G8</td>\n",
       "      <td>0060554738</td>\n",
       "      <td>80485164</td>\n",
       "      <td>The Game: Penetrating the Secret Society of Pi...</td>\n",
       "      <td>Books</td>\n",
       "      <td>1</td>\n",
       "      <td>13</td>\n",
       "      <td>39</td>\n",
       "      <td>N</td>\n",
       "      <td>N</td>\n",
       "      <td>another boring pickup book</td>\n",
       "      <td>This is \\\\\"NOT\\\\\" a book to pickup women nor d...</td>\n",
       "      <td>13067.0</td>\n",
       "    </tr>\n",
       "    <tr>\n",
       "      <td>8</td>\n",
       "      <td>US</td>\n",
       "      <td>50785465</td>\n",
       "      <td>R2EC3FWX5NALN7</td>\n",
       "      <td>094261741X</td>\n",
       "      <td>120755327</td>\n",
       "      <td>World War II: The Rest of the Story and How It...</td>\n",
       "      <td>Books</td>\n",
       "      <td>1</td>\n",
       "      <td>3</td>\n",
       "      <td>13</td>\n",
       "      <td>N</td>\n",
       "      <td>N</td>\n",
       "      <td>absurd view sprinkled with real facts</td>\n",
       "      <td>The premise of this ridiculous book is that th...</td>\n",
       "      <td>13067.0</td>\n",
       "    </tr>\n",
       "    <tr>\n",
       "      <td>9</td>\n",
       "      <td>US</td>\n",
       "      <td>52691483</td>\n",
       "      <td>R1E4NV2YM102KM</td>\n",
       "      <td>0972437746</td>\n",
       "      <td>774056158</td>\n",
       "      <td>No Mercy</td>\n",
       "      <td>Books</td>\n",
       "      <td>1</td>\n",
       "      <td>7</td>\n",
       "      <td>12</td>\n",
       "      <td>N</td>\n",
       "      <td>Y</td>\n",
       "      <td>A disapointing book in a good series</td>\n",
       "      <td>Giselle McKenzie decided that she was virgin l...</td>\n",
       "      <td>13067.0</td>\n",
       "    </tr>\n",
       "  </tbody>\n",
       "</table>\n",
       "</div>"
      ],
      "text/plain": [
       "    0         1               2           3          4  \\\n",
       "0  US  27908248  R2YFB0IZEB4T6T  0786803207  215675580   \n",
       "1  US  39508730  R1PKZ1DV380CGE  0393327655    2927274   \n",
       "2  US  23488741  R1TXSUPD0SNJ02  0060545607  485010020   \n",
       "3  US  49989805  R2W8FRD0MADJ6Q  0393317552  733405472   \n",
       "4  US  42323108  R3E2DC2JLVRUFK  0441008534  486021067   \n",
       "5  US  12096689  R1AJMOQSMHFSAS  1558687785  517014259   \n",
       "6  US  23495398   RP9FT9CT39Z1F  0751537683  402742988   \n",
       "7  US  23496178   R2AA739QQ74G8  0060554738   80485164   \n",
       "8  US  50785465  R2EC3FWX5NALN7  094261741X  120755327   \n",
       "9  US  52691483  R1E4NV2YM102KM  0972437746  774056158   \n",
       "\n",
       "                                                   5      6  7   8    9 10 11  \\\n",
       "0                            William Wegman: Puppies  Books  1   2   12  N  N   \n",
       "1  The End of Faith: Religion, Terror, and the Fu...  Books  1  30  121  N  N   \n",
       "2  With No One As Witness (Thomas Lynley and Barb...  Books  1  17   26  N  N   \n",
       "3  Guns, Germs, and Steel: The Fates of Human Soc...  Books  1  22   55  N  N   \n",
       "4  Dead Until Dark  (Sookie Stackhouse/True Blood...  Books  1  32   45  N  N   \n",
       "5  Thailand: A Quick Guide to Customs & Etiquette...  Books  1   8   11  N  N   \n",
       "6                   The Asti Spumante Code: A Parody  Books  1   0   16  N  N   \n",
       "7  The Game: Penetrating the Secret Society of Pi...  Books  1  13   39  N  N   \n",
       "8  World War II: The Rest of the Story and How It...  Books  1   3   13  N  N   \n",
       "9                                           No Mercy  Books  1   7   12  N  Y   \n",
       "\n",
       "                                          12  \\\n",
       "0       Wegman Puppies - a little disturbing   \n",
       "1               sophistry for dummies (yawn)   \n",
       "2         Longer and longer, worse and worse   \n",
       "3      This book is intellectually dishonest   \n",
       "4                             Disappointing.   \n",
       "5                                      theft   \n",
       "6  Ugly shape for a book? If only it wasn't!   \n",
       "7                 another boring pickup book   \n",
       "8      absurd view sprinkled with real facts   \n",
       "9       A disapointing book in a good series   \n",
       "\n",
       "                                                  13       14  \n",
       "0  Every year I buy my dad the Wegman puppies cal...  13067.0  \n",
       "1  All the world loves a villain; especially an a...  13067.0  \n",
       "2  Unlike PD James, Ruth Rendall, or Donna Leon, ...  13067.0  \n",
       "3  The author cleary has an agenda.  He is out to...  13067.0  \n",
       "4  I read a lot, most of it this sort of thing, h...  13067.0  \n",
       "5  This book is a copy of Culture Shock! Thailand...  13067.0  \n",
       "6  I agree with Plate of Pasta and Plate of Shrim...  13067.0  \n",
       "7  This is \\\\\"NOT\\\\\" a book to pickup women nor d...  13067.0  \n",
       "8  The premise of this ridiculous book is that th...  13067.0  \n",
       "9  Giselle McKenzie decided that she was virgin l...  13067.0  "
      ]
     },
     "execution_count": 10,
     "metadata": {},
     "output_type": "execute_result"
    }
   ],
   "source": [
    "tiny_df = pd.DataFrame(rdd_sample.take(10))\n",
    "tiny_df"
   ]
  },
  {
   "cell_type": "code",
   "execution_count": null,
   "metadata": {},
   "outputs": [],
   "source": []
  },
  {
   "cell_type": "code",
   "execution_count": 11,
   "metadata": {},
   "outputs": [],
   "source": [
    "#star_counts = rdd_sample.map(lambda x: Counter({x[cols['star_rating']]:1})).reduce(lambda x, y: x+y)"
   ]
  },
  {
   "cell_type": "code",
   "execution_count": 12,
   "metadata": {},
   "outputs": [],
   "source": [
    "#rdd_sample.saveAsTextFile('file:///home/ec2-user/Amazon_Books/data/sample_02.tsv')"
   ]
  },
  {
   "cell_type": "code",
   "execution_count": 13,
   "metadata": {},
   "outputs": [],
   "source": [
    "temp = pd.DataFrame(rdd_sample.collect())"
   ]
  },
  {
   "cell_type": "markdown",
   "metadata": {},
   "source": [
    "sum(['x8b'in x for x in temp[14]])"
   ]
  },
  {
   "cell_type": "markdown",
   "metadata": {},
   "source": [
    "temp.to_csv('cows.csv')"
   ]
  },
  {
   "cell_type": "markdown",
   "metadata": {},
   "source": [
    "a = u'\\xa1'\n",
    "unicode(a, \"utf-8\")"
   ]
  },
  {
   "cell_type": "markdown",
   "metadata": {},
   "source": [
    "a.decode('utf-8', 'ignore')"
   ]
  },
  {
   "cell_type": "code",
   "execution_count": null,
   "metadata": {},
   "outputs": [],
   "source": []
  },
  {
   "cell_type": "code",
   "execution_count": 14,
   "metadata": {},
   "outputs": [],
   "source": [
    "temp.to_csv('data/books_sample_1star_10vote.csv',index=False)"
   ]
  },
  {
   "cell_type": "code",
   "execution_count": 15,
   "metadata": {},
   "outputs": [],
   "source": [
    "new_sample = pd.read_csv('data/books_sample_1star_10vote.csv')"
   ]
  },
  {
   "cell_type": "code",
   "execution_count": null,
   "metadata": {},
   "outputs": [],
   "source": []
  },
  {
   "cell_type": "code",
   "execution_count": 16,
   "metadata": {},
   "outputs": [],
   "source": [
    "helpful_percentage = []\n",
    "for pos, total in zip(new_sample['8'],new_sample['9']):\n",
    "    if total>0:\n",
    "        helpful_percentage.append(float(pos)/float(total))\n",
    "    else:\n",
    "        helpful_percentage.append(0)"
   ]
  },
  {
   "cell_type": "code",
   "execution_count": 17,
   "metadata": {},
   "outputs": [],
   "source": [
    "new_sample['15'] = helpful_percentage"
   ]
  },
  {
   "cell_type": "code",
   "execution_count": 18,
   "metadata": {},
   "outputs": [],
   "source": [
    "help_df = new_sample[new_sample['8']>0]"
   ]
  },
  {
   "cell_type": "code",
   "execution_count": 19,
   "metadata": {},
   "outputs": [
    {
     "data": {
      "text/html": [
       "<div>\n",
       "<style scoped>\n",
       "    .dataframe tbody tr th:only-of-type {\n",
       "        vertical-align: middle;\n",
       "    }\n",
       "\n",
       "    .dataframe tbody tr th {\n",
       "        vertical-align: top;\n",
       "    }\n",
       "\n",
       "    .dataframe thead th {\n",
       "        text-align: right;\n",
       "    }\n",
       "</style>\n",
       "<table border=\"1\" class=\"dataframe\">\n",
       "  <thead>\n",
       "    <tr style=\"text-align: right;\">\n",
       "      <th></th>\n",
       "      <th>0</th>\n",
       "      <th>1</th>\n",
       "      <th>2</th>\n",
       "      <th>3</th>\n",
       "      <th>4</th>\n",
       "      <th>5</th>\n",
       "      <th>6</th>\n",
       "      <th>7</th>\n",
       "      <th>8</th>\n",
       "      <th>9</th>\n",
       "      <th>10</th>\n",
       "      <th>11</th>\n",
       "      <th>12</th>\n",
       "      <th>13</th>\n",
       "      <th>14</th>\n",
       "      <th>15</th>\n",
       "    </tr>\n",
       "  </thead>\n",
       "  <tbody>\n",
       "    <tr>\n",
       "      <td>0</td>\n",
       "      <td>US</td>\n",
       "      <td>27908248</td>\n",
       "      <td>R2YFB0IZEB4T6T</td>\n",
       "      <td>0786803207</td>\n",
       "      <td>215675580</td>\n",
       "      <td>William Wegman: Puppies</td>\n",
       "      <td>Books</td>\n",
       "      <td>1</td>\n",
       "      <td>2</td>\n",
       "      <td>12</td>\n",
       "      <td>N</td>\n",
       "      <td>N</td>\n",
       "      <td>Wegman Puppies - a little disturbing</td>\n",
       "      <td>Every year I buy my dad the Wegman puppies cal...</td>\n",
       "      <td>13067.0</td>\n",
       "      <td>0.166667</td>\n",
       "    </tr>\n",
       "    <tr>\n",
       "      <td>1</td>\n",
       "      <td>US</td>\n",
       "      <td>39508730</td>\n",
       "      <td>R1PKZ1DV380CGE</td>\n",
       "      <td>0393327655</td>\n",
       "      <td>2927274</td>\n",
       "      <td>The End of Faith: Religion, Terror, and the Fu...</td>\n",
       "      <td>Books</td>\n",
       "      <td>1</td>\n",
       "      <td>30</td>\n",
       "      <td>121</td>\n",
       "      <td>N</td>\n",
       "      <td>N</td>\n",
       "      <td>sophistry for dummies (yawn)</td>\n",
       "      <td>All the world loves a villain; especially an a...</td>\n",
       "      <td>13067.0</td>\n",
       "      <td>0.247934</td>\n",
       "    </tr>\n",
       "    <tr>\n",
       "      <td>2</td>\n",
       "      <td>US</td>\n",
       "      <td>23488741</td>\n",
       "      <td>R1TXSUPD0SNJ02</td>\n",
       "      <td>0060545607</td>\n",
       "      <td>485010020</td>\n",
       "      <td>With No One As Witness (Thomas Lynley and Barb...</td>\n",
       "      <td>Books</td>\n",
       "      <td>1</td>\n",
       "      <td>17</td>\n",
       "      <td>26</td>\n",
       "      <td>N</td>\n",
       "      <td>N</td>\n",
       "      <td>Longer and longer, worse and worse</td>\n",
       "      <td>Unlike PD James, Ruth Rendall, or Donna Leon, ...</td>\n",
       "      <td>13067.0</td>\n",
       "      <td>0.653846</td>\n",
       "    </tr>\n",
       "    <tr>\n",
       "      <td>3</td>\n",
       "      <td>US</td>\n",
       "      <td>49989805</td>\n",
       "      <td>R2W8FRD0MADJ6Q</td>\n",
       "      <td>0393317552</td>\n",
       "      <td>733405472</td>\n",
       "      <td>Guns, Germs, and Steel: The Fates of Human Soc...</td>\n",
       "      <td>Books</td>\n",
       "      <td>1</td>\n",
       "      <td>22</td>\n",
       "      <td>55</td>\n",
       "      <td>N</td>\n",
       "      <td>N</td>\n",
       "      <td>This book is intellectually dishonest</td>\n",
       "      <td>The author cleary has an agenda.  He is out to...</td>\n",
       "      <td>13067.0</td>\n",
       "      <td>0.400000</td>\n",
       "    </tr>\n",
       "    <tr>\n",
       "      <td>4</td>\n",
       "      <td>US</td>\n",
       "      <td>42323108</td>\n",
       "      <td>R3E2DC2JLVRUFK</td>\n",
       "      <td>0441008534</td>\n",
       "      <td>486021067</td>\n",
       "      <td>Dead Until Dark  (Sookie Stackhouse/True Blood...</td>\n",
       "      <td>Books</td>\n",
       "      <td>1</td>\n",
       "      <td>32</td>\n",
       "      <td>45</td>\n",
       "      <td>N</td>\n",
       "      <td>N</td>\n",
       "      <td>Disappointing.</td>\n",
       "      <td>I read a lot, most of it this sort of thing, h...</td>\n",
       "      <td>13067.0</td>\n",
       "      <td>0.711111</td>\n",
       "    </tr>\n",
       "    <tr>\n",
       "      <td>...</td>\n",
       "      <td>...</td>\n",
       "      <td>...</td>\n",
       "      <td>...</td>\n",
       "      <td>...</td>\n",
       "      <td>...</td>\n",
       "      <td>...</td>\n",
       "      <td>...</td>\n",
       "      <td>...</td>\n",
       "      <td>...</td>\n",
       "      <td>...</td>\n",
       "      <td>...</td>\n",
       "      <td>...</td>\n",
       "      <td>...</td>\n",
       "      <td>...</td>\n",
       "      <td>...</td>\n",
       "      <td>...</td>\n",
       "    </tr>\n",
       "    <tr>\n",
       "      <td>109257</td>\n",
       "      <td>US</td>\n",
       "      <td>53091466</td>\n",
       "      <td>R1ZXYK1K2H0VG3</td>\n",
       "      <td>1884849105</td>\n",
       "      <td>595601916</td>\n",
       "      <td>Six Guns</td>\n",
       "      <td>Books</td>\n",
       "      <td>1</td>\n",
       "      <td>22</td>\n",
       "      <td>34</td>\n",
       "      <td>N</td>\n",
       "      <td>N</td>\n",
       "      <td>Sixguns by Keith is the one book on handguns y...</td>\n",
       "      <td>Sixguns by Keith This book is an American clas...</td>\n",
       "      <td>9652.0</td>\n",
       "      <td>0.647059</td>\n",
       "    </tr>\n",
       "    <tr>\n",
       "      <td>109258</td>\n",
       "      <td>US</td>\n",
       "      <td>53074676</td>\n",
       "      <td>R3ISSIT4JY6630</td>\n",
       "      <td>0192815857</td>\n",
       "      <td>234514402</td>\n",
       "      <td>Can You Forgive Her? (The World's Classics)</td>\n",
       "      <td>Books</td>\n",
       "      <td>1</td>\n",
       "      <td>2</td>\n",
       "      <td>20</td>\n",
       "      <td>N</td>\n",
       "      <td>N</td>\n",
       "      <td>The story of a marriage, told thru 6 volumes, ...</td>\n",
       "      <td>Lady Glencora McCloskie is &amp;quot;cumbered&amp;quot...</td>\n",
       "      <td>9649.0</td>\n",
       "      <td>0.100000</td>\n",
       "    </tr>\n",
       "    <tr>\n",
       "      <td>109259</td>\n",
       "      <td>US</td>\n",
       "      <td>53040115</td>\n",
       "      <td>RGEE1GJEK9RY5</td>\n",
       "      <td>9812041087</td>\n",
       "      <td>138675684</td>\n",
       "      <td>Orchid Growing in the Tropics</td>\n",
       "      <td>Books</td>\n",
       "      <td>1</td>\n",
       "      <td>1</td>\n",
       "      <td>13</td>\n",
       "      <td>N</td>\n",
       "      <td>N</td>\n",
       "      <td>Well illustrated book of growing tropical orch...</td>\n",
       "      <td>Written by the Orhcid Society of South East As...</td>\n",
       "      <td>9523.0</td>\n",
       "      <td>0.076923</td>\n",
       "    </tr>\n",
       "    <tr>\n",
       "      <td>109260</td>\n",
       "      <td>US</td>\n",
       "      <td>53092360</td>\n",
       "      <td>R3J0DPW1Q0HQGB</td>\n",
       "      <td>0380703882</td>\n",
       "      <td>948818246</td>\n",
       "      <td>Communion: A True Story</td>\n",
       "      <td>Books</td>\n",
       "      <td>1</td>\n",
       "      <td>23</td>\n",
       "      <td>43</td>\n",
       "      <td>N</td>\n",
       "      <td>N</td>\n",
       "      <td>crock of bull for the gullible</td>\n",
       "      <td>Strieber claims to be an innocent joe off the ...</td>\n",
       "      <td>9517.0</td>\n",
       "      <td>0.534884</td>\n",
       "    </tr>\n",
       "    <tr>\n",
       "      <td>109261</td>\n",
       "      <td>US</td>\n",
       "      <td>53096316</td>\n",
       "      <td>R3RRC9ZELZT51B</td>\n",
       "      <td>0676312977</td>\n",
       "      <td>178447398</td>\n",
       "      <td>Hero and the Crown</td>\n",
       "      <td>Books</td>\n",
       "      <td>1</td>\n",
       "      <td>13</td>\n",
       "      <td>33</td>\n",
       "      <td>N</td>\n",
       "      <td>N</td>\n",
       "      <td>Read it aloud yourself, instead.</td>\n",
       "      <td>The book in print is magical, evocative, and l...</td>\n",
       "      <td>9456.0</td>\n",
       "      <td>0.393939</td>\n",
       "    </tr>\n",
       "  </tbody>\n",
       "</table>\n",
       "<p>108329 rows × 16 columns</p>\n",
       "</div>"
      ],
      "text/plain": [
       "         0         1               2           3          4  \\\n",
       "0       US  27908248  R2YFB0IZEB4T6T  0786803207  215675580   \n",
       "1       US  39508730  R1PKZ1DV380CGE  0393327655    2927274   \n",
       "2       US  23488741  R1TXSUPD0SNJ02  0060545607  485010020   \n",
       "3       US  49989805  R2W8FRD0MADJ6Q  0393317552  733405472   \n",
       "4       US  42323108  R3E2DC2JLVRUFK  0441008534  486021067   \n",
       "...     ..       ...             ...         ...        ...   \n",
       "109257  US  53091466  R1ZXYK1K2H0VG3  1884849105  595601916   \n",
       "109258  US  53074676  R3ISSIT4JY6630  0192815857  234514402   \n",
       "109259  US  53040115   RGEE1GJEK9RY5  9812041087  138675684   \n",
       "109260  US  53092360  R3J0DPW1Q0HQGB  0380703882  948818246   \n",
       "109261  US  53096316  R3RRC9ZELZT51B  0676312977  178447398   \n",
       "\n",
       "                                                        5      6  7   8    9  \\\n",
       "0                                 William Wegman: Puppies  Books  1   2   12   \n",
       "1       The End of Faith: Religion, Terror, and the Fu...  Books  1  30  121   \n",
       "2       With No One As Witness (Thomas Lynley and Barb...  Books  1  17   26   \n",
       "3       Guns, Germs, and Steel: The Fates of Human Soc...  Books  1  22   55   \n",
       "4       Dead Until Dark  (Sookie Stackhouse/True Blood...  Books  1  32   45   \n",
       "...                                                   ...    ... ..  ..  ...   \n",
       "109257                                           Six Guns  Books  1  22   34   \n",
       "109258        Can You Forgive Her? (The World's Classics)  Books  1   2   20   \n",
       "109259                      Orchid Growing in the Tropics  Books  1   1   13   \n",
       "109260                            Communion: A True Story  Books  1  23   43   \n",
       "109261                                 Hero and the Crown  Books  1  13   33   \n",
       "\n",
       "       10 11                                                 12  \\\n",
       "0       N  N               Wegman Puppies - a little disturbing   \n",
       "1       N  N                       sophistry for dummies (yawn)   \n",
       "2       N  N                 Longer and longer, worse and worse   \n",
       "3       N  N              This book is intellectually dishonest   \n",
       "4       N  N                                     Disappointing.   \n",
       "...    .. ..                                                ...   \n",
       "109257  N  N  Sixguns by Keith is the one book on handguns y...   \n",
       "109258  N  N  The story of a marriage, told thru 6 volumes, ...   \n",
       "109259  N  N  Well illustrated book of growing tropical orch...   \n",
       "109260  N  N                     crock of bull for the gullible   \n",
       "109261  N  N                   Read it aloud yourself, instead.   \n",
       "\n",
       "                                                       13       14        15  \n",
       "0       Every year I buy my dad the Wegman puppies cal...  13067.0  0.166667  \n",
       "1       All the world loves a villain; especially an a...  13067.0  0.247934  \n",
       "2       Unlike PD James, Ruth Rendall, or Donna Leon, ...  13067.0  0.653846  \n",
       "3       The author cleary has an agenda.  He is out to...  13067.0  0.400000  \n",
       "4       I read a lot, most of it this sort of thing, h...  13067.0  0.711111  \n",
       "...                                                   ...      ...       ...  \n",
       "109257  Sixguns by Keith This book is an American clas...   9652.0  0.647059  \n",
       "109258  Lady Glencora McCloskie is &quot;cumbered&quot...   9649.0  0.100000  \n",
       "109259  Written by the Orhcid Society of South East As...   9523.0  0.076923  \n",
       "109260  Strieber claims to be an innocent joe off the ...   9517.0  0.534884  \n",
       "109261  The book in print is magical, evocative, and l...   9456.0  0.393939  \n",
       "\n",
       "[108329 rows x 16 columns]"
      ]
     },
     "execution_count": 19,
     "metadata": {},
     "output_type": "execute_result"
    }
   ],
   "source": [
    "help_df"
   ]
  },
  {
   "cell_type": "code",
   "execution_count": 20,
   "metadata": {},
   "outputs": [
    {
     "data": {
      "text/plain": [
       "(array([ 6211., 11025., 12318., 13201., 13911., 11855., 11667., 11267.,\n",
       "         8735.,  8139.]),\n",
       " array([0.00454545, 0.10409091, 0.20363636, 0.30318182, 0.40272727,\n",
       "        0.50227273, 0.60181818, 0.70136364, 0.80090909, 0.90045455,\n",
       "        1.        ]),\n",
       " <a list of 10 Patch objects>)"
      ]
     },
     "execution_count": 20,
     "metadata": {},
     "output_type": "execute_result"
    },
    {
     "data": {
      "image/png": "[encoded data removed]",
      "text/plain": [
       "<Figure size 432x288 with 1 Axes>"
      ]
     },
     "metadata": {
      "needs_background": "light"
     },
     "output_type": "display_data"
    }
   ],
   "source": [
    "plt.hist(help_df['15'])"
   ]
  },
  {
   "cell_type": "code",
   "execution_count": 21,
   "metadata": {},
   "outputs": [],
   "source": [
    "#help_df = help_df.sample(frac=.5, random_state=1)"
   ]
  },
  {
   "cell_type": "code",
   "execution_count": 22,
   "metadata": {},
   "outputs": [
    {
     "data": {
      "text/plain": [
       "<matplotlib.collections.PathCollection at 0x7f367dc23890>"
      ]
     },
     "execution_count": 22,
     "metadata": {},
     "output_type": "execute_result"
    },
    {
     "data": {
      "image/png": "[encoded data removed]",
      "text/plain": [
       "<Figure size 432x288 with 1 Axes>"
      ]
     },
     "metadata": {
      "needs_background": "light"
     },
     "output_type": "display_data"
    }
   ],
   "source": [
    "plt.scatter(help_df['15'],help_df['7'])"
   ]
  },
  {
   "cell_type": "code",
   "execution_count": 23,
   "metadata": {},
   "outputs": [
    {
     "name": "stderr",
     "output_type": "stream",
     "text": [
      "/home/ec2-user/anaconda3/lib/python3.7/site-packages/ipykernel_launcher.py:4: MatplotlibDeprecationWarning: \n",
      "The 'normed' kwarg was deprecated in Matplotlib 2.1 and will be removed in 3.1. Use 'density' instead.\n",
      "  after removing the cwd from sys.path.\n",
      "/home/ec2-user/anaconda3/lib/python3.7/site-packages/numpy/lib/histograms.py:898: RuntimeWarning: invalid value encountered in true_divide\n",
      "  return n/db/n.sum(), bin_edges\n",
      "/home/ec2-user/anaconda3/lib/python3.7/site-packages/ipykernel_launcher.py:5: MatplotlibDeprecationWarning: \n",
      "The 'normed' kwarg was deprecated in Matplotlib 2.1 and will be removed in 3.1. Use 'density' instead.\n",
      "  \"\"\"\n"
     ]
    },
    {
     "data": {
      "text/plain": [
       "(array([nan, nan, nan, nan, nan, nan, nan, nan, nan, nan]),\n",
       " array([0. , 0.1, 0.2, 0.3, 0.4, 0.5, 0.6, 0.7, 0.8, 0.9, 1. ]),\n",
       " <a list of 10 Patch objects>)"
      ]
     },
     "execution_count": 23,
     "metadata": {},
     "output_type": "execute_result"
    },
    {
     "data": {
      "image/png": "[encoded data removed]",
      "text/plain": [
       "<Figure size 432x288 with 1 Axes>"
      ]
     },
     "metadata": {
      "needs_background": "light"
     },
     "output_type": "display_data"
    }
   ],
   "source": [
    "#plt.hist(help_df[help_df['7']==1]['15'],normed=True,alpha=.5,color='red')\n",
    "#plt.hist(help_df[help_df['7']==2]['15'],normed=True,alpha=.5,color='orange')\n",
    "#plt.hist(help_df[help_df['7']==3]['15'],normed=True,alpha=.5,color='yellow')\n",
    "plt.hist(help_df[help_df['7']==4]['15'],normed=True,alpha=.5,color='blue')\n",
    "plt.hist(help_df[help_df['7']==5]['15'],normed=True,alpha=.5,color='green')"
   ]
  },
  {
   "cell_type": "code",
   "execution_count": 24,
   "metadata": {},
   "outputs": [
    {
     "data": {
      "text/plain": [
       "91453"
      ]
     },
     "execution_count": 24,
     "metadata": {},
     "output_type": "execute_result"
    }
   ],
   "source": [
    "sum(help_df['15']<=.8)"
   ]
  },
  {
   "cell_type": "code",
   "execution_count": 25,
   "metadata": {},
   "outputs": [
    {
     "data": {
      "text/plain": [
       "<matplotlib.collections.PathCollection at 0x7f367db208d0>"
      ]
     },
     "execution_count": 25,
     "metadata": {},
     "output_type": "execute_result"
    },
    {
     "data": {
      "image/png": "[encoded data removed]",
      "text/plain": [
       "<Figure size 432x288 with 1 Axes>"
      ]
     },
     "metadata": {
      "needs_background": "light"
     },
     "output_type": "display_data"
    }
   ],
   "source": [
    "plt.scatter(help_df['15'],help_df['9'])"
   ]
  },
  {
   "cell_type": "code",
   "execution_count": 26,
   "metadata": {},
   "outputs": [
    {
     "data": {
      "text/plain": [
       "(0, 200)"
      ]
     },
     "execution_count": 26,
     "metadata": {},
     "output_type": "execute_result"
    },
    {
     "data": {
      "image/png": "[encoded data removed]",
      "text/plain": [
       "<Figure size 432x288 with 1 Axes>"
      ]
     },
     "metadata": {
      "needs_background": "light"
     },
     "output_type": "display_data"
    }
   ],
   "source": [
    "plt.scatter(help_df['15'],help_df['9'])\n",
    "plt.ylim(0,200)"
   ]
  },
  {
   "cell_type": "code",
   "execution_count": 27,
   "metadata": {},
   "outputs": [
    {
     "data": {
      "text/plain": [
       "0.4996124017445298"
      ]
     },
     "execution_count": 27,
     "metadata": {},
     "output_type": "execute_result"
    }
   ],
   "source": [
    "help_df[help_df['9']>0]['15'].mean()"
   ]
  },
  {
   "cell_type": "code",
   "execution_count": 28,
   "metadata": {},
   "outputs": [
    {
     "data": {
      "text/plain": [
       "0.4821437825617578"
      ]
     },
     "execution_count": 28,
     "metadata": {},
     "output_type": "execute_result"
    }
   ],
   "source": [
    "help_df[help_df['9']>15]['15'].mean()"
   ]
  },
  {
   "cell_type": "code",
   "execution_count": 29,
   "metadata": {},
   "outputs": [
    {
     "data": {
      "text/plain": [
       "27.0"
      ]
     },
     "execution_count": 29,
     "metadata": {},
     "output_type": "execute_result"
    }
   ],
   "source": [
    "help_df['9'].median()"
   ]
  },
  {
   "cell_type": "code",
   "execution_count": 30,
   "metadata": {},
   "outputs": [
    {
     "data": {
      "text/plain": [
       "(0, 100)"
      ]
     },
     "execution_count": 30,
     "metadata": {},
     "output_type": "execute_result"
    },
    {
     "data": {
      "image/png": "[encoded data removed]",
      "text/plain": [
       "<Figure size 432x288 with 1 Axes>"
      ]
     },
     "metadata": {
      "needs_background": "light"
     },
     "output_type": "display_data"
    }
   ],
   "source": [
    "plt.hist(help_df['9'],bins=100)\n",
    "plt.xlim(0,100)"
   ]
  },
  {
   "cell_type": "code",
   "execution_count": 31,
   "metadata": {},
   "outputs": [
    {
     "data": {
      "text/plain": [
       "108329"
      ]
     },
     "execution_count": 31,
     "metadata": {},
     "output_type": "execute_result"
    }
   ],
   "source": [
    "len(help_df[help_df['9']>3])"
   ]
  },
  {
   "cell_type": "code",
   "execution_count": 32,
   "metadata": {},
   "outputs": [
    {
     "data": {
      "text/plain": [
       "33067"
      ]
     },
     "execution_count": 32,
     "metadata": {},
     "output_type": "execute_result"
    }
   ],
   "source": [
    "sum(help_df['15']>=.66)"
   ]
  },
  {
   "cell_type": "code",
   "execution_count": 33,
   "metadata": {},
   "outputs": [
    {
     "data": {
      "text/plain": [
       "75262"
      ]
     },
     "execution_count": 33,
     "metadata": {},
     "output_type": "execute_result"
    }
   ],
   "source": [
    "sum(help_df['15']<.66)"
   ]
  },
  {
   "cell_type": "code",
   "execution_count": 34,
   "metadata": {},
   "outputs": [],
   "source": [
    "good_df = help_df[help_df['15']>=.66]\n",
    "bad_df = help_df[help_df['15']<.66]"
   ]
  },
  {
   "cell_type": "code",
   "execution_count": null,
   "metadata": {},
   "outputs": [],
   "source": []
  },
  {
   "cell_type": "code",
   "execution_count": null,
   "metadata": {},
   "outputs": [],
   "source": []
  },
  {
   "cell_type": "code",
   "execution_count": null,
   "metadata": {},
   "outputs": [],
   "source": []
  },
  {
   "cell_type": "code",
   "execution_count": null,
   "metadata": {},
   "outputs": [],
   "source": []
  },
  {
   "cell_type": "code",
   "execution_count": null,
   "metadata": {},
   "outputs": [],
   "source": []
  },
  {
   "cell_type": "code",
   "execution_count": null,
   "metadata": {},
   "outputs": [],
   "source": []
  }
 ],
 "metadata": {
  "kernelspec": {
   "display_name": "Python 3",
   "language": "python",
   "name": "python3"
  },
  "language_info": {
   "codemirror_mode": {
    "name": "ipython",
    "version": 3
   },
   "file_extension": ".py",
   "mimetype": "text/x-python",
   "name": "python",
   "nbconvert_exporter": "python",
   "pygments_lexer": "ipython3",
   "version": "3.7.4"
  }
 },
 "nbformat": 4,
 "nbformat_minor": 2
}
