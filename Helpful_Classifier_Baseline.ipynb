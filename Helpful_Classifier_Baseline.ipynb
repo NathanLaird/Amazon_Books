{
 "cells": [
  {
   "cell_type": "code",
   "execution_count": 1,
   "metadata": {},
   "outputs": [
    {
     "name": "stderr",
     "output_type": "stream",
     "text": [
      "[nltk_data] Downloading package wordnet to /Users/nathan/nltk_data...\n",
      "[nltk_data]   Package wordnet is already up-to-date!\n"
     ]
    },
    {
     "data": {
      "text/plain": [
       "True"
      ]
     },
     "execution_count": 1,
     "metadata": {},
     "output_type": "execute_result"
    }
   ],
   "source": [
    "import pandas as pd\n",
    "import numpy as np\n",
    "from nltk.tokenize import word_tokenize\n",
    "from nltk import pos_tag\n",
    "from nltk.corpus import stopwords\n",
    "from nltk.stem import WordNetLemmatizer\n",
    "from sklearn.preprocessing import LabelEncoder\n",
    "from collections import defaultdict\n",
    "from nltk.corpus import wordnet as wn\n",
    "from sklearn.feature_extraction.text import TfidfVectorizer\n",
    "from sklearn import model_selection, naive_bayes, svm\n",
    "from sklearn.metrics import accuracy_score\n",
    "import nltk\n",
    "nltk.download('wordnet')"
   ]
  },
  {
   "cell_type": "code",
   "execution_count": 2,
   "metadata": {},
   "outputs": [
    {
     "name": "stdout",
     "output_type": "stream",
     "text": [
      "0: marketplace\n",
      "1: customer_id\n",
      "2: review_id\n",
      "3: product_id\n",
      "4: product_parent\n",
      "5: product_title\n",
      "6: product_category\n",
      "7: star_rating\n",
      "8: helpful_votes\n",
      "9: total_votes\n",
      "10: vine\n",
      "11: verified_purchase\n",
      "12: review_headline\n",
      "13: review_body\n",
      "14: review_date\n"
     ]
    }
   ],
   "source": [
    "col_names = ['marketplace','customer_id','review_id','product_id','product_parent','product_title','product_category','star_rating','helpful_votes','total_votes','vine','verified_purchase','review_headline','review_body','review_date']\n",
    "cols = {}\n",
    "for i in range(len(col_names)):\n",
    "    print (str(i)+': '+col_names[i])\n",
    "    cols[col_names[i]] = i "
   ]
  },
  {
   "cell_type": "code",
   "execution_count": 3,
   "metadata": {},
   "outputs": [],
   "source": [
    "np.random.seed(500)"
   ]
  },
  {
   "cell_type": "code",
   "execution_count": 4,
   "metadata": {},
   "outputs": [],
   "source": [
    "df = pd.read_csv('data/sample_02.csv')\n",
    "\n",
    "df = df.sample(frac=.1, random_state=1)"
   ]
  },
  {
   "cell_type": "code",
   "execution_count": 5,
   "metadata": {},
   "outputs": [],
   "source": [
    "helpful_percentage = []\n",
    "for pos, total in zip(df['8'],df['9']):\n",
    "    if total>0:\n",
    "        helpful_percentage.append(float(pos)/float(total))\n",
    "    else:\n",
    "        helpful_percentage.append(0)\n",
    "df['15'] = helpful_percentage"
   ]
  },
  {
   "cell_type": "code",
   "execution_count": 6,
   "metadata": {},
   "outputs": [
    {
     "name": "stdout",
     "output_type": "stream",
     "text": [
      "6247\n"
     ]
    },
    {
     "data": {
      "text/html": [
       "<div>\n",
       "<style scoped>\n",
       "    .dataframe tbody tr th:only-of-type {\n",
       "        vertical-align: middle;\n",
       "    }\n",
       "\n",
       "    .dataframe tbody tr th {\n",
       "        vertical-align: top;\n",
       "    }\n",
       "\n",
       "    .dataframe thead th {\n",
       "        text-align: right;\n",
       "    }\n",
       "</style>\n",
       "<table border=\"1\" class=\"dataframe\">\n",
       "  <thead>\n",
       "    <tr style=\"text-align: right;\">\n",
       "      <th></th>\n",
       "      <th>0</th>\n",
       "      <th>1</th>\n",
       "      <th>2</th>\n",
       "      <th>3</th>\n",
       "      <th>4</th>\n",
       "      <th>5</th>\n",
       "      <th>6</th>\n",
       "      <th>7</th>\n",
       "      <th>8</th>\n",
       "      <th>9</th>\n",
       "      <th>10</th>\n",
       "      <th>11</th>\n",
       "      <th>12</th>\n",
       "      <th>13</th>\n",
       "      <th>14</th>\n",
       "      <th>15</th>\n",
       "    </tr>\n",
       "  </thead>\n",
       "  <tbody>\n",
       "    <tr>\n",
       "      <th>53304</th>\n",
       "      <td>US</td>\n",
       "      <td>49786746</td>\n",
       "      <td>R217S4F2FV9SRT</td>\n",
       "      <td>0965824233</td>\n",
       "      <td>173013649</td>\n",
       "      <td>The NAET Guide Book (4th Ed.)</td>\n",
       "      <td>Books</td>\n",
       "      <td>5</td>\n",
       "      <td>13</td>\n",
       "      <td>29</td>\n",
       "      <td>N</td>\n",
       "      <td>N</td>\n",
       "      <td>The best Guide Book for a patient</td>\n",
       "      <td>It's a very good guide-book where you can get ...</td>\n",
       "      <td>11050</td>\n",
       "      <td>0.448276</td>\n",
       "    </tr>\n",
       "    <tr>\n",
       "      <th>21985</th>\n",
       "      <td>US</td>\n",
       "      <td>52661944</td>\n",
       "      <td>R295CEHQLEXS5G</td>\n",
       "      <td>0515120871</td>\n",
       "      <td>434295698</td>\n",
       "      <td>Finding the Dream (Dream Trilogy)</td>\n",
       "      <td>Books</td>\n",
       "      <td>3</td>\n",
       "      <td>1</td>\n",
       "      <td>3</td>\n",
       "      <td>N</td>\n",
       "      <td>N</td>\n",
       "      <td>Sloppy writing</td>\n",
       "      <td>This book, like all of Nora Roberts' books, is...</td>\n",
       "      <td>12200</td>\n",
       "      <td>0.333333</td>\n",
       "    </tr>\n",
       "    <tr>\n",
       "      <th>58996</th>\n",
       "      <td>US</td>\n",
       "      <td>52651244</td>\n",
       "      <td>RNAI0W4D8WWWL</td>\n",
       "      <td>0821761455</td>\n",
       "      <td>199563422</td>\n",
       "      <td>With All My Heart</td>\n",
       "      <td>Books</td>\n",
       "      <td>3</td>\n",
       "      <td>2</td>\n",
       "      <td>2</td>\n",
       "      <td>N</td>\n",
       "      <td>N</td>\n",
       "      <td>Not as good as the other two in the trilogy</td>\n",
       "      <td>I had been waiting patiently (sometimes unpati...</td>\n",
       "      <td>10650</td>\n",
       "      <td>1.000000</td>\n",
       "    </tr>\n",
       "  </tbody>\n",
       "</table>\n",
       "</div>"
      ],
      "text/plain": [
       "        0         1               2           3          4  \\\n",
       "53304  US  49786746  R217S4F2FV9SRT  0965824233  173013649   \n",
       "21985  US  52661944  R295CEHQLEXS5G  0515120871  434295698   \n",
       "58996  US  52651244   RNAI0W4D8WWWL  0821761455  199563422   \n",
       "\n",
       "                                       5      6  7   8   9 10 11  \\\n",
       "53304      The NAET Guide Book (4th Ed.)  Books  5  13  29  N  N   \n",
       "21985  Finding the Dream (Dream Trilogy)  Books  3   1   3  N  N   \n",
       "58996                  With All My Heart  Books  3   2   2  N  N   \n",
       "\n",
       "                                                12  \\\n",
       "53304            The best Guide Book for a patient   \n",
       "21985                               Sloppy writing   \n",
       "58996  Not as good as the other two in the trilogy   \n",
       "\n",
       "                                                      13     14        15  \n",
       "53304  It's a very good guide-book where you can get ...  11050  0.448276  \n",
       "21985  This book, like all of Nora Roberts' books, is...  12200  0.333333  \n",
       "58996  I had been waiting patiently (sometimes unpati...  10650  1.000000  "
      ]
     },
     "execution_count": 6,
     "metadata": {},
     "output_type": "execute_result"
    }
   ],
   "source": [
    "print(len(df))\n",
    "df.head(3)"
   ]
  },
  {
   "cell_type": "code",
   "execution_count": 7,
   "metadata": {},
   "outputs": [],
   "source": [
    "Corpus = pd.DataFrame()\n",
    "Corpus['text'] = df['13']\n",
    "lst = []\n",
    "for x in df['15']:\n",
    "    if x>=.66:\n",
    "        lst.append('good')\n",
    "    else:\n",
    "        lst.append('bad')\n",
    "Corpus['label'] = lst"
   ]
  },
  {
   "cell_type": "code",
   "execution_count": null,
   "metadata": {},
   "outputs": [],
   "source": []
  },
  {
   "cell_type": "code",
   "execution_count": 8,
   "metadata": {},
   "outputs": [
    {
     "data": {
      "text/plain": [
       "6247"
      ]
     },
     "execution_count": 8,
     "metadata": {},
     "output_type": "execute_result"
    }
   ],
   "source": [
    "len(Corpus['label'])"
   ]
  },
  {
   "cell_type": "code",
   "execution_count": 9,
   "metadata": {},
   "outputs": [
    {
     "name": "stdout",
     "output_type": "stream",
     "text": [
      "0\n",
      "100\n",
      "200\n",
      "300\n",
      "400\n",
      "500\n",
      "600\n",
      "700\n",
      "800\n",
      "900\n",
      "1000\n",
      "1100\n",
      "1200\n",
      "1300\n",
      "1400\n",
      "1500\n",
      "1600\n",
      "1700\n",
      "1800\n",
      "1900\n",
      "2000\n",
      "2100\n",
      "2200\n",
      "2300\n",
      "2400\n",
      "2500\n",
      "2600\n",
      "2700\n",
      "2800\n",
      "2900\n",
      "3000\n",
      "3100\n",
      "3200\n",
      "3300\n",
      "3400\n",
      "3500\n",
      "3600\n",
      "3700\n",
      "3800\n",
      "3900\n",
      "4000\n",
      "4100\n",
      "4200\n",
      "4300\n",
      "4400\n",
      "4500\n",
      "4600\n",
      "4700\n",
      "4800\n",
      "4900\n",
      "5000\n",
      "5100\n",
      "5200\n",
      "5300\n",
      "5400\n",
      "5500\n",
      "5600\n",
      "5700\n",
      "5800\n",
      "5900\n",
      "6000\n",
      "6100\n",
      "6200\n"
     ]
    }
   ],
   "source": [
    "# Step - a : Remove blank rows if any.\n",
    "Corpus['text'].dropna(inplace=True)\n",
    "# Step - b : Change all the text to lower case. This is required as python interprets 'dog' and 'DOG' differently\n",
    "Corpus['text'] = [entry.lower() for entry in Corpus['text']]\n",
    "# Step - c : Tokenization : In this each entry in the corpus will be broken into set of words\n",
    "Corpus['text']= [word_tokenize(entry) for entry in Corpus['text']]\n",
    "# Step - d : Remove Stop words, Non-Numeric and perfom Word Stemming/Lemmenting.\n",
    "# WordNetLemmatizer requires Pos tags to understand if the word is noun or verb or adjective etc. By default it is set to Noun\n",
    "tag_map = defaultdict(lambda : wn.NOUN)\n",
    "tag_map['J'] = wn.ADJ\n",
    "tag_map['V'] = wn.VERB\n",
    "tag_map['R'] = wn.ADV\n",
    "lst = []\n",
    "for index,entry in enumerate(Corpus['text']):\n",
    "    \n",
    "    if index%100 ==0:\n",
    "        print(index)\n",
    "    # Declaring Empty List to store the words that follow the rules for this step\n",
    "    Final_words = []\n",
    "    # Initializing WordNetLemmatizer()\n",
    "    word_Lemmatized = WordNetLemmatizer()\n",
    "    # pos_tag function below will provide the 'tag' i.e if the word is Noun(N) or Verb(V) or something else.\n",
    "    \n",
    "    for word, tag in pos_tag(entry):\n",
    "        # Below condition is to check for Stop words and consider only alphabets\n",
    "        if word not in stopwords.words('english') and word.isalpha():\n",
    "            word_Final = word_Lemmatized.lemmatize(word,tag_map[tag[0]])\n",
    "            Final_words.append(word_Final)\n",
    "    # The final processed set of words for each iteration will be stored in 'text_final'\n",
    "    \n",
    "    #Corpus.loc[index,'text_final'] = str(Final_words)\n",
    "    lst.append(str(Final_words))\n",
    "    \n",
    "Corpus['text_final'] = lst"
   ]
  },
  {
   "cell_type": "code",
   "execution_count": 10,
   "metadata": {},
   "outputs": [
    {
     "data": {
      "text/plain": [
       "6247"
      ]
     },
     "execution_count": 10,
     "metadata": {},
     "output_type": "execute_result"
    }
   ],
   "source": [
    "len(lst)"
   ]
  },
  {
   "cell_type": "code",
   "execution_count": 11,
   "metadata": {},
   "outputs": [],
   "source": [
    "Train_X, Test_X, Train_Y, Test_Y = model_selection.train_test_split(Corpus['text_final'],Corpus['label'],test_size=0.3)\n",
    "\n",
    "\n"
   ]
  },
  {
   "cell_type": "code",
   "execution_count": 12,
   "metadata": {},
   "outputs": [
    {
     "data": {
      "text/plain": [
       "11285    good\n",
       "38726    good\n",
       "50913    good\n",
       "5398     good\n",
       "1045     good\n",
       "         ... \n",
       "15064    good\n",
       "46551    good\n",
       "43690    good\n",
       "26100    good\n",
       "8675     good\n",
       "Name: label, Length: 4372, dtype: object"
      ]
     },
     "execution_count": 12,
     "metadata": {},
     "output_type": "execute_result"
    }
   ],
   "source": [
    "Train_Y"
   ]
  },
  {
   "cell_type": "code",
   "execution_count": 13,
   "metadata": {},
   "outputs": [],
   "source": [
    "Encoder = LabelEncoder()\n",
    "Train_Y = Encoder.fit_transform(Train_Y)\n",
    "Test_Y = Encoder.fit_transform(Test_Y)"
   ]
  },
  {
   "cell_type": "code",
   "execution_count": 14,
   "metadata": {},
   "outputs": [],
   "source": [
    "Tfidf_vect = TfidfVectorizer(max_features=5000)\n",
    "Tfidf_vect.fit(Corpus['text_final'])\n",
    "Train_X_Tfidf = Tfidf_vect.transform(Train_X)\n",
    "Test_X_Tfidf = Tfidf_vect.transform(Test_X)"
   ]
  },
  {
   "cell_type": "code",
   "execution_count": 15,
   "metadata": {},
   "outputs": [
    {
     "name": "stdout",
     "output_type": "stream",
     "text": [
      "{'good': 1989, 'get': 1956, 'quick': 3597, 'answer': 202, 'many': 2789, 'question': 3595, 'book': 519, 'like': 2673, 'robert': 3842, 'enjoyable': 1519, 'character': 692, 'interesting': 2384, 'relationship': 3731, 'michael': 2891, 'laura': 2610, 'daughter': 1107, 'really': 3665, 'lovely': 2731, 'however': 2204, 'writing': 4971, 'kinda': 2557, 'sloppy': 4140, 'quot': 3606, 'dare': 1096, 'dream': 1368, 'everyone': 1595, 'surprise': 4382, 'fell': 1739, 'love': 2729, 'seem': 3979, 'know': 2571, 'go': 1981, 'happen': 2077, 'explanation': 1656, 'find': 1767, 'coin': 796, 'cliff': 771, 'treasure': 4630, 'hide': 2143, 'cave': 669, 'two': 4681, 'horse': 2194, 'name': 3015, 'tell': 4461, 'twice': 4677, 'kate': 2533, 'expect': 1643, 'maybe': 2839, 'point': 3393, 'confuse': 898, 'follow': 1813, 'plot': 3385, 'detail': 1218, 'think': 4520, 'bear': 411, 'series': 4009, 'much': 2989, 'well': 4889, 'write': 4968, 'wait': 4843, 'sometimes': 4174, 'third': 4523, 'trilogy': 4647, 'heart': 2114, 'one': 3159, 'grey': 2032, 'colin': 800, 'almost': 139, 'depth': 1192, 'time': 4556, 'understand': 4708, 'story': 4285, 'although': 150, 'fan': 1705, 'must': 3003, 'read': 3651, 'sadly': 3889, 'way': 4866, 'novel': 3100, 'eat': 1413, 'rice': 3819, 'mixed': 2933, 'ground': 2039, 'glass': 1970, 'tasty': 4438, 'terrify': 4482, 'others': 3196, 'swallow': 4400, 'height': 2126, 'ritual': 3835, 'abuse': 12, 'badly': 374, 'research': 3781, 'emotionally': 1479, 'discredit': 1290, 'publisher': 3567, 'unlikely': 4734, 'release': 3736, 'subsequent': 4330, 'legal': 2639, 'action': 41, 'various': 4779, 'party': 3262, 'show': 4067, 'mess': 2881, 'br': 539, 'blood': 500, 'appear': 233, 'mid': 2894, 'scene': 3933, 'claim': 750, 'temple': 4467, 'set': 4018, 'legitimate': 2642, 'base': 393, 'new': 3061, 'religion': 3740, 'study': 4320, 'religious': 3741, 'five': 1784, 'year': 4982, 'include': 2293, 'page': 3229, 'document': 1333, 'yet': 4988, 'public': 3563, 'conclusion': 884, 'support': 4373, 'wider': 4912, 'evidence': 1598, 'holocaust': 2169, 'fascination': 1716, 'lack': 2584, 'enlightenment': 1523, 'philosopher': 3329, 'john': 2493, 'david': 1109, 'attack': 324, 'stephen': 4265, 'flower': 1804, 'incorrect': 2298, 'doctrine': 1332, 'literature': 2695, 'actually': 48, 'cite': 744, 'footnote': 1822, 'objective': 3121, 'material': 2825, 'wild': 4915, 'publishing': 3568, 'company': 843, 'promote': 3531, 'since': 4102, 'virtually': 4819, 'disappear': 1276, 'shelf': 4046, 'omit': 3158, 'background': 370, 'reason': 3668, 'leave': 2632, 'highly': 2146, 'information': 2324, 'rest': 3796, 'fill': 1759, 'case': 652, 'little': 2696, 'institution': 2359, 'irrelevant': 2431, 'together': 4568, 'attempt': 326, 'underground': 4705, 'conspiracy': 921, 'reveal': 3805, 'social': 4154, 'theorist': 4509, 'academic': 14, 'law': 2612, 'enforcement': 1508, 'official': 3149, 'medical': 2855, 'practitioner': 3444, 'fantasy': 1709, 'power': 3438, 'clearly': 765, 'avoid': 353, 'learn': 2628, 'draw': 1363, 'different': 1254, 'hand': 2068, 'position': 3421, 'contain': 935, 'value': 4771, 'kind': 2556, 'learning': 2629, 'tool': 4581, 'begin': 426, 'artist': 284, 'worth': 4960, 'price': 3483, 'sad': 3887, 'beautiful': 414, 'amaze': 156, 'dense': 1183, 'portrayal': 3418, 'could': 990, 'cover': 1009, 'slim': 4137, 'volume': 4834, 'writer': 4969, 'measure': 2849, 'passionate': 3269, 'fair': 1692, 'precise': 3451, 'exploration': 1659, 'clinton': 776, 'psyche': 3557, 'thus': 4546, 'recommend': 3683, 'democrat': 1177, 'long': 2713, 'ago': 107, 'give': 1966, 'figure': 1757, 'awesome': 363, 'finally': 1764, 'allow': 137, 'let': 2652, 'accept': 16, 'past': 3270, 'eight': 1441, 'copy': 975, 'york': 4991, 'friend': 1882, 'era': 1558, 'end': 1498, 'buy': 602, 'highlight': 2145, 'talk': 4427, 'andy': 180, 'entertaining': 1532, 'history': 2156, 'technology': 4452, 'importantly': 2277, 'combine': 820, 'finance': 1765, 'clear': 764, 'understanding': 4710, 'thing': 4519, 'evolve': 1605, 'anybody': 215, 'interested': 2383, 'world': 4957, 'work': 4952, 'might': 2897, 'pleasantly': 3379, 'surprised': 4383, 'industrial': 2312, 'revolution': 3812, 'computer': 872, 'say': 3924, 'something': 4173, 'great': 2025, 'deal': 1117, 'participate': 3255, 'besides': 451, 'lot': 2725, 'make': 2769, 'relevant': 3738, 'fact': 1687, 'unique': 4724, 'insightful': 2345, 'perspective': 3316, 'crucial': 1050, 'part': 3252, 'see': 3975, 'interest': 2382, 'financial': 1766, 'put': 3585, 'valuable': 4770, 'narrative': 3022, 'three': 4536, 'kid': 2548, 'advice': 89, 'wife': 4914, 'trouble': 4655, 'help': 2129, 'react': 3649, 'never': 3059, 'would': 4963, 'definately': 1155, 'son': 4177, 'repeatedly': 3760, 'day': 1112, 'try': 4664, 'welcome': 4887, 'addition': 58, 'math': 2826, 'enough': 1526, 'activity': 44, 'keep': 2539, 'active': 42, 'reinforce': 3726, 'concept': 878, 'odds': 3142, 'even': 1585, 'pattern': 3280, 'number': 3110, 'memory': 2869, 'puzzle': 3586, 'game': 1917, 'map': 2790, 'front': 1889, 'back': 368, 'inside': 2343, 'couple': 1001, 'board': 507, 'instruction': 2360, 'fun': 1903, 'educational': 1430, 'seldom': 3981, 'take': 4423, 'hold': 2161, 'guide': 2051, 'metaphor': 2883, 'notice': 3097, 'reality': 3662, 'previously': 3482, 'escape': 1563, 'parallel': 3246, 'consider': 915, 'ideal': 2235, 'special': 4203, 'girl': 1964, 'cope': 974, 'slow': 4141, 'appearance': 234, 'army': 269, 'men': 2870, 'intent': 2378, 'steal': 4257, 'free': 1872, 'people': 3294, 'effect': 1433, 'clever': 767, 'haunting': 2104, 'become': 418, 'look': 2715, 'away': 361, 'trust': 4662, 'adult': 80, 'alike': 133, 'rank': 3630, 'lewis': 2655, 'bargain': 387, 'core': 976, 'test': 4488, 'use': 4754, 'server': 4015, 'error': 1562, 'sample': 3903, 'text': 4493, 'also': 146, 'several': 4022, 'key': 2546, 'longer': 2714, 'associate': 308, 'mine': 2910, 'confirm': 895, 'mistake': 2927, 'collector': 806, 'anyone': 217, 'movie': 2985, 'represent': 3768, 'ronald': 3856, 'career': 639, 'believe': 437, 'morality': 2962, 'non': 3080, 'offensive': 3144, 'mean': 2843, 'real': 3658, 'touch': 4589, 'move': 2983, 'numerous': 3111, 'black': 487, 'white': 4903, 'photo': 3334, 'film': 1761, 'picture': 3348, 'lead': 2621, 'lady': 2587, 'item': 2445, 'secret': 3966, 'chance': 687, 'woman': 4944, 'grow': 2041, 'marriage': 2801, 'strong': 4312, 'achieve': 34, 'accomplishment': 25, 'ca': 605, 'want': 4850, 'ruin': 3872, 'credit': 1029, 'illustrate': 2250, 'spanish': 4196, 'edition': 1425, 'live': 2697, 'absorb': 8, 'craft': 1014, 'ruth': 3883, 'quirky': 3602, 'murder': 2993, 'mystery': 3007, 'killer': 2553, 'thriller': 4538, 'mind': 2907, 'victor': 4799, 'serve': 4014, 'ten': 4469, 'prison': 3499, 'shoot': 4058, 'young': 4992, 'police': 3396, 'track': 4601, 'bound': 533, 'officer': 3148, 'meet': 2861, 'devote': 1232, 'girlfriend': 1965, 'view': 4804, 'fault': 1724, 'shot': 4065, 'cost': 987, 'best': 452, 'life': 2665, 'record': 3686, 'straight': 4289, 'lie': 2663, 'tale': 4424, 'keats': 2537, 'complete': 859, 'poem': 3388, 'admire': 70, 'edit': 1423, 'jack': 2448, 'publish': 3566, 'press': 3476, 'harvard': 2099, 'university': 4729, 'isbn': 2435, 'classic': 759, 'barnard': 388, 'note': 3094, 'appendix': 235, 'full': 1901, 'along': 141, 'fully': 1902, 'rather': 3640, 'initial': 2333, 'importance': 2275, 'elizabeth': 1458, 'cook': 968, 'oxford': 3222, 'major': 2767, 'cambridge': 615, 'available': 349, 'account': 27, 'print': 3495, 'wealth': 4870, 'manuscript': 2788, 'mainly': 2763, 'american': 164, 'compile': 856, 'glory': 1975, 'first': 1776, 'excellent': 1614, 'introduction': 2405, 'meaningful': 2845, 'insight': 2344, 'concern': 880, 'relate': 3728, 'experience': 1648, 'though': 4529, 'obviously': 3131, 'exceptionally': 1618, 'keen': 2538, 'sensitivity': 3999, 'minute': 2917, 'particular': 3257, 'object': 3119, 'sound': 4187, 'shade': 4030, 'silence': 4084, 'motion': 2974, 'around': 270, 'nurse': 3112, 'brother': 573, 'tom': 4573, 'lengthy': 2647, 'illness': 2247, 'death': 1123, 'december': 1132, 'added': 55, 'anything': 218, 'else': 1464, 'suffering': 4347, 'serious': 4010, 'conversation': 960, 'reading': 3655, 'thinking': 4522, 'sudden': 4343, 'rise': 3833, 'course': 1004, 'share': 4039, 'poetry': 3391, 'review': 3808, 'sort': 4185, 'realize': 3664, 'beauty': 416, 'truth': 4663, 'thompson': 4526, 'gap': 1919, 'catholic': 663, 'teaching': 4445, 'peace': 3285, 'justice': 2524, 'hope': 2184, 'wide': 4910, 'among': 165, 'especially': 1565, 'church': 738, 'historical': 2154, 'overview': 3215, 'range': 3628, 'issue': 2442, 'christian': 730, 'face': 1685, 'fundamental': 1906, 'principle': 3494, 'round': 3865, 'presentation': 3472, 'need': 3045, 'discuss': 1292, 'practical': 3441, 'application': 240, 'teach': 4443, 'theologian': 4504, 'apply': 242, 'gospel': 1997, 'sign': 4079, 'kudos': 2579, 'job': 2491, 'do': 1329, 'eagerly': 1401, 'await': 355, 'second': 3964, 'enjoy': 1518, 'night': 3073, 'fall': 1698, 'quite': 3604, 'turner': 4670, 'fast': 1718, 'compare': 844, 'due': 1383, 'content': 938, 'short': 4062, 'previous': 3481, 'watch': 4862, 'tv': 4673, 'unfold': 4717, 'already': 145, 'familiar': 1701, 'complex': 861, 'throw': 4542, 'saw': 3922, 'come': 821, 'every': 1592, 'old': 3155, 'favorite': 1726, 'country': 998, 'gold': 1985, 'coast': 789, 'island': 2438, 'another': 201, 'last': 2599, 'change': 688, 'workout': 4956, 'amazing': 157, 'week': 4881, 'mostly': 2971, 'weight': 4885, 'training': 4614, 'hit': 2157, 'miss': 2924, 'nutrition': 3115, 'plan': 3364, 'thats': 4499, 'lose': 2721, 'twenty': 4676, 'pound': 3435, 'plus': 3387, 'arm': 267, 'definition': 1159, 'easily': 1409, 'within': 4937, 'hour': 2199, 'description': 1199, 'exercise': 1633, 'traditional': 4607, 'index': 2306, 'pg': 3324, 'reference': 3699, 'feel': 1736, 'anderson': 178, 'jake': 2454, 'economics': 1417, 'continue': 944, 'source': 4189, 'simple': 4092, 'economic': 1416, 'ever': 1590, 'bring': 565, 'novice': 3104, 'potential': 3432, 'idea': 2234, 'still': 4274, 'rock': 3845, 'fragment': 1858, 'expensive': 1647, 'word': 4951, 'wonder': 4945, 'precisely': 3452, 'device': 1230, 'translator': 4622, 'constantly': 924, 'fascinating': 1715, 'dull': 1385, 'sentence': 4001, 'japanese': 2463, 'subject': 4327, 'universal': 4727, 'start': 4245, 'vocabulary': 4831, 'shape': 4038, 'limit': 2678, 'someone': 4172, 'language': 2594, 'perhaps': 3304, 'hundred': 2219, 'ha': 2060, 'funny': 1909, 'jean': 2470, 'america': 163, 'produce': 3511, 'thousand': 4532, 'link': 2685, 'search': 3959, 'empire': 1485, 'planet': 3366, 'monster': 2953, 'france': 1861, 'turn': 4669, 'praise': 3445, 'wonderful': 4946, 'nothing': 3096, 'determine': 1222, 'dislike': 1299, 'city': 746, 'culture': 1064, 'control': 954, 'border': 524, 'shock': 4055, 'troop': 4654, 'god': 1983, 'intuition': 2407, 'desert': 1201, 'european': 1581, 'intellectual': 2371, 'touching': 4590, 'west': 4891, 'author': 344, 'state': 4249, 'student': 4318, 'river': 3837, 'water': 4863, 'lesson': 2651, 'true': 4658, 'surround': 4387, 'area': 261, 'florida': 1801, 'largely': 2596, 'wilderness': 4916, 'small': 4143, 'spring': 4231, 'bill': 467, 'reader': 3653, 'tour': 4592, 'system': 4418, 'neighborhood': 3052, 'later': 2604, 'ocean': 3138, 'poetic': 3390, 'style': 4325, 'lore': 2719, 'steep': 4260, 'ton': 4578, 'plant': 3368, 'animal': 190, 'evolution': 1603, 'natural': 3030, 'selection': 3983, 'nature': 3032, 'important': 2276, 'preserve': 3473, 'folk': 1811, 'list': 2689, 'access': 19, 'near': 3037, 'private': 3501, 'agency': 104, 'extensive': 1668, 'bibliography': 464, 'add': 54, 'float': 1798, 'next': 3067, 'song': 4178, 'crazy': 1020, 'light': 2670, 'laugh': 2607, 'hard': 2083, 'break': 549, 'promise': 3530, 'stop': 4282, 'whole': 4905, 'pile': 3350, 'bad': 373, 'local': 2705, 'doctor': 1331, 'child': 718, 'ward': 4852, 'sister': 4110, 'london': 2711, 'hospital': 2195, 'walk': 4845, 'dog': 1336, 'visit': 4824, 'home': 2171, 'nearly': 3039, 'run': 3876, 'car': 636, 'house': 2200, 'clothes': 783, 'food': 1818, 'van': 4773, 'large': 2595, 'dutch': 1392, 'inevitably': 2316, 'clash': 757, 'misunderstanding': 2929, 'minimum': 2911, 'occur': 3137, 'toward': 4595, 'big': 465, 'outstanding': 3208, 'heroine': 2138, 'size': 4118, 'pleasant': 3378, 'romance': 3852, 'korean': 2578, 'war': 4851, 'easy': 1412, 'right': 3829, 'pleased': 3381, 'discover': 1287, 'bookstore': 522, 'today': 4566, 'certainly': 680, 'glad': 1968, 'concise': 882, 'wit': 4934, 'etc': 1575, 'loud': 2726, 'entry': 1544, 'golden': 1986, 'chronicle': 737, 'introduce': 2404, 'entirely': 1539, 'throughout': 4541, 'jamie': 2457, 'august': 338, 'town': 4598, 'whenever': 4896, 'involve': 2422, 'sense': 3996, 'pair': 3234, 'lover': 2732, 'perfect': 3300, 'match': 2823, 'gritty': 2037, 'jennifer': 2476, 'man': 2775, 'proven': 3552, 'struggle': 4315, 'regain': 3711, 'threaten': 4535, 'savage': 3918, 'stranger': 4294, 'desire': 1205, 'slightly': 4136, 'patricia': 3278, 'setting': 4019, 'without': 4938, 'bore': 525, 'visitor': 4825, 'bang': 382, 'head': 2107, 'place': 3360, 'manage': 2776, 'descend': 1195, 'living': 2699, 'room': 3858, 'always': 153, 'incredibly': 2302, 'gentle': 1944, 'humor': 2216, 'please': 3380, 'dear': 1122, 'eye': 1678, 'open': 3164, 'everything': 1596, 'grief': 2033, 'tender': 4472, 'smile': 4147, 'absolutely': 7, 'entertain': 1531, 'present': 3471, 'strategy': 4296, 'simply': 4096, 'recount': 3688, 'amuse': 169, 'entertainment': 1533, 'fit': 1781, 'making': 2771, 'process': 3509, 'ego': 1438, 'sitting': 4113, 'coffee': 792, 'whatever': 4894, 'sandra': 3906, 'myth': 3009, 'modern': 2940, 'delight': 1168, 'chocolate': 724, 'bean': 410, 'pot': 3430, 'despite': 1210, 'close': 778, 'civil': 747, 'general': 1933, 'washington': 4860, 'remain': 3744, 'site': 4112, 'sacred': 3885, 'north': 3088, 'south': 4190, 'heavily': 2121, 'upon': 4744, 'letter': 2653, 'military': 2901, 'order': 3180, 'period': 3306, 'mount': 2979, 'lively': 2698, 'manner': 2784, 'color': 812, 'civilian': 748, 'body': 510, 'demonstrate': 1180, 'architect': 257, 'commitment': 833, 'design': 1203, 'tradition': 4606, 'consistent': 919, 'cut': 1078, 'edge': 1422, 'suicide': 4354, 'photography': 3337, 'stun': 4323, 'hear': 2112, 'piece': 3349, 'art': 277, 'join': 2496, 'finish': 1771, 'cussler': 1074, 'clancy': 753, 'australian': 342, 'roll': 3850, 'exciting': 1626, 'age': 103, 'money': 2949, 'business': 599, 'succeed': 4338, 'sure': 4377, 'plenty': 3383, 'ramble': 3623, 'disappointing': 1279, 'exactly': 1608, 'joe': 2492, 'jane': 2459, 'average': 350, 'beat': 413, 'player': 3375, 'obstacle': 3128, 'ii': 2244, 'method': 2884, 'win': 4921, 'play': 3374, 'advantage': 84, 'reach': 3647, 'common': 835, 'count': 994, 'sheer': 4044, 'simplicity': 4094, 'kiss': 2562, 'stand': 4240, 'comparison': 845, 'gain': 1915, 'simpler': 4093, 'lee': 2634, 'seriously': 4011, 'resource': 3790, 'philosophy': 3331, 'theology': 4506, 'thought': 4530, 'personal': 3313, 'library': 2660, 'inspire': 2350, 'bishop': 482, 'space': 4193, 'discussion': 1293, 'regard': 3712, 'significance': 4081, 'blast': 494, 'agree': 109, 'pacific': 3225, 'school': 3940, 'graduate': 2006, 'theological': 4505, 'union': 4723, 'cd': 670, 'drive': 1373, 'glossary': 1977, 'intermediate': 2388, 'user': 4758, 'basic': 396, 'command': 826, 'problem': 3505, 'procedure': 3506, 'window': 4924, 'version': 4791, 'doubt': 1351, 'stay': 4256, 'listen': 2690, 'splendid': 4224, 'beautifully': 415, 'describe': 1197, 'landscape': 2592, 'northern': 3089, 'california': 611, 'truly': 4660, 'felt': 1741, 'wo': 4942, 'disappoint': 1277, 'installment': 2352, 'flight': 1796, 'spain': 4194, 'land': 2590, 'awake': 356, 'definitely': 1158, 'intense': 2375, 'borrow': 528, 'super': 4364, 'baby': 367, 'helpful': 2130, 'shower': 4068, 'gift': 1960, 'overwhelming': 3217, 'mom': 2946, 'settle': 4020, 'prepare': 3467, 'suggestion': 4353, 'store': 4283, 'ready': 3656, 'cheap': 704, 'primary': 3487, 'knowledge': 2572, 'class': 758, 'toddler': 4567, 'section': 3969, 'habit': 2061, 'recipe': 3678, 'collect': 803, 'dust': 1391, 'penny': 3293, 'hate': 2101, 'criticism': 1041, 'disappointed': 1278, 'title': 4565, 'effort': 1436, 'misleading': 2923, 'wish': 4933, 'least': 2630, 'twisted': 4680, 'atrocity': 322, 'politically': 3400, 'historically': 2155, 'gruesome': 2043, 'create': 1022, 'chapter': 691, 'historic': 2153, 'often': 3150, 'distinction': 1310, 'fiction': 1747, 'fame': 1700, 'sale': 3899, 'opinion': 3170, 'analysis': 173, 'native': 3029, 'divide': 1323, 'tall': 4428, 'listing': 2691, 'analyze': 175, 'card': 637, 'type': 4683, 'purpose': 3580, 'contribute': 950, 'deeply': 1149, 'statistic': 4252, 'lifestyle': 2667, 'family': 1703, 'thin': 4518, 'ring': 3831, 'mile': 2900, 'science': 3941, 'emphasis': 1483, 'cool': 971, 'implication': 2273, 'tend': 4470, 'genre': 1943, 'check': 706, 'totally': 4588, 'alien': 132, 'frame': 1859, 'degree': 1162, 'recommended': 3685, 'perform': 3302, 'script': 3953, 'production': 3514, 'hell': 2128, 'la': 2580, 'original': 3189, 'may': 2838, 'insanity': 2341, 'customer': 1077, 'comment': 829, 'fond': 1816, 'enthral': 1534, 'teenager': 4457, 'rush': 3878, 'emily': 1475, 'format': 1836, 'particularly': 3258, 'detailed': 1219, 'upper': 4745, 'century': 677, 'expand': 1641, 'train': 4612, 'paperback': 3241, 'timely': 4559, 'glance': 1969, 'straightforward': 4290, 'argument': 265, 'practice': 3443, 'develop': 1226, 'radical': 3616, 'orthodoxy': 3194, 'subtle': 4335, 'powell': 3437, 'assemble': 299, 'collection': 804, 'essay': 1566, 'hot': 2197, 'topic': 4583, 'role': 3849, 'corporate': 980, 'debate': 1124, 'careful': 640, 'provide': 3553, 'holy': 2170, 'pursue': 3581, 'editor': 1426, 'appropriate': 246, 'pose': 3420, 'pastor': 3272, 'return': 3803, 'fish': 1777, 'oil': 3152, 'product': 3513, 'pay': 3283, 'wonderfully': 4947, 'argue': 264, 'currently': 1070, 'high': 2144, 'wrong': 4972, 'teacher': 4444, 'implement': 2271, 'thier': 4517, 'obtain': 3129, 'receive': 3675, 'term': 4476, 'therapy': 4511, 'session': 4017, 'skill': 4122, 'factor': 1688, 'thru': 4543, 'manual': 2785, 'mental': 2871, 'disorder': 1302, 'theory': 4510, 'thanks': 4498, 'honor': 2179, 'lure': 2744, 'erotic': 1561, 'uncomfortable': 4701, 'leather': 2631, 'seduce': 3974, 'adventure': 85, 'enter': 1529, 'strange': 4292, 'difficult': 1256, 'person': 3312, 'marine': 2796, 'fight': 1754, 'united': 4726, 'belief': 435, 'enable': 1492, 'tough': 4591, 'able': 4, 'twin': 4678, 'challenge': 683, 'mac': 2749, 'combat': 818, 'relation': 3730, 'main': 2762, 'danny': 1094, 'boy': 536, 'convince': 965, 'freeman': 1874, 'adolescent': 75, 'unit': 4725, 'march': 2792, 'oh': 3151, 'left': 2635, 'australia': 341, 'bay': 407, 'fifty': 1753, 'courage': 1002, 'loyalty': 2736, 'friendship': 1884, 'storyteller': 4287, 'recent': 3676, 'farmer': 1713, 'cookbook': 969, 'month': 2955, 'deserve': 1202, 'star': 4243, 'roast': 3840, 'beef': 423, 'prefer': 3459, 'soon': 4180, 'delicious': 1167, 'remove': 3754, 'brand': 543, 'market': 2798, 'require': 3776, 'plastic': 3369, 'dish': 1298, 'package': 3227, 'direction': 1270, 'carefully': 641, 'anyway': 220, 'amount': 167, 'fat': 1720, 'cream': 1021, 'relatively': 3733, 'taste': 4437, 'bit': 483, 'low': 2734, 'distant': 1308, 'future': 1912, 'brown': 574, 'suggest': 4352, 'result': 3798, 'impossible': 2278, 'tire': 4562, 'seemingly': 3980, 'undoubtedly': 4713, 'mention': 2874, 'buying': 604, 'soft': 4159, 'shell': 4047, 'example': 1612, 'chicken': 716, 'minor': 2915, 'call': 612, 'potato': 3431, 'tomato': 4574, 'onion': 3161, 'hardly': 2086, 'certain': 679, 'maintain': 2765, 'healthy': 2111, 'balanced': 379, 'diet': 1251, 'terrific': 4481, 'playful': 3376, 'catch': 660, 'variety': 4778, 'aviation': 351, 'aircraft': 117, 'accident': 21, 'cause': 667, 'crash': 1018, 'express': 1663, 'apart': 223, 'hint': 2150, 'huge': 2208, 'grateful': 2021, 'purchase': 3575, 'far': 1710, 'famous': 1704, 'journey': 2506, 'center': 675, 'earth': 1406, 'early': 1404, 'captain': 632, 'forget': 1831, 'sequence': 4007, 'actual': 47, 'verse': 4790, 'accord': 26, 'basically': 397, 'line': 2683, 'total': 4586, 'master': 2820, 'die': 1249, 'leader': 2622, 'movement': 2984, 'tibetan': 4547, 'buddhism': 580, 'likewise': 2676, 'motivate': 2975, 'approach': 245, 'noble': 3077, 'extremely': 1676, 'advanced': 83, 'utilize': 4761, 'colorful': 814, 'imagery': 2256, 'communicate': 837, 'primarily': 3486, 'negative': 3047, 'meaning': 2844, 'deep': 1147, 'box': 535, 'powerful': 3439, 'beyond': 459, 'standard': 4241, 'symbol': 4409, 'image': 2255, 'psychological': 3560, 'artwork': 286, 'evocative': 1601, 'assessment': 301, 'delve': 1174, 'sacrifice': 3886, 'respect': 3791, 'self': 3984, 'political': 3399, 'environmental': 1546, 'alive': 134, 'distance': 1307, 'father': 1723, 'wave': 4865, 'radio': 3617, 'conflict': 896, 'kill': 2552, 'season': 3960, 'bird': 479, 'crow': 1046, 'gathering': 1927, 'steel': 4259, 'severely': 4024, 'grammar': 2010, 'repeat': 3759, 'reviewer': 3809, 'detract': 1223, 'skim': 4125, 'yes': 4986, 'shed': 4043, 'tear': 4447, 'spite': 4223, 'angel': 182, 'somewhat': 4175, 'comfort': 823, 'johnny': 2494, 'mother': 2972, 'manipulate': 2782, 'pain': 3230, 'loss': 2723, 'forever': 1829, 'speak': 4199, 'suddenly': 4344, 'event': 1587, 'middle': 2895, 'quality': 3588, 'poor': 3406, 'beach': 408, 'biography': 476, 'strength': 4299, 'human': 2211, 'spirit': 4219, 'ambition': 161, 'realise': 3659, 'strengthen': 4300, 'inspirational': 2349, 'rich': 3820, 'chinese': 723, 'endure': 1505, 'hardship': 2087, 'pearl': 3288, 'buck': 579, 'curious': 1068, 'ask': 291, 'whether': 4899, 'egg': 1437, 'boil': 511, 'software': 4160, 'testing': 4491, 'following': 1815, 'solid': 4165, 'nowhere': 3106, 'manager': 2778, 'team': 4446, 'exclusively': 1627, 'ron': 3855, 'discipline': 1283, 'choice': 725, 'properly': 3536, 'development': 1229, 'delivery': 1172, 'scope': 3944, 'scenario': 3932, 'documentation': 1334, 'completely': 860, 'assume': 310, 'experienced': 1649, 'professional': 3516, 'quickly': 3598, 'speed': 4210, 'java': 2467, 'programming': 3524, 'tip': 4561, 'technique': 4450, 'improve': 2284, 'fluff': 1805, 'nonsense': 3083, 'programmer': 3523, 'trench': 4637, 'greatly': 2026, 'reccomend': 3674, 'mary': 2813, 'jo': 2489, 'imagine': 2259, 'storyline': 4286, 'altogether': 151, 'morning': 2967, 'accurately': 31, 'portray': 3417, 'corruption': 986, 'violence': 4813, 'san': 3904, 'francisco': 1864, 'group': 2040, 'strive': 4310, 'survive': 4390, 'commend': 828, 'holland': 2165, 'revolve': 3814, 'aptly': 251, 'slave': 4132, 'founder': 1851, 'shin': 4050, 'staff': 4236, 'half': 2064, 'equation': 1554, 'troubled': 4656, 'violent': 4814, 'protect': 3545, 'enemy': 1506, 'memorable': 2868, 'bite': 484, 'nose': 3091, 'sailor': 3896, 'establishment': 1571, 'build': 588, 'fort': 1842, 'ross': 3862, 'soul': 4186, 'speaks': 4202, 'broken': 570, 'english': 1515, 'attribute': 334, 'explain': 1655, 'stereotypical': 4267, 'indian': 2308, 'intelligent': 2373, 'speech': 4209, 'progress': 3525, 'expectation': 1644, 'flaw': 1791, 'enormous': 1525, 'either': 1443, 'british': 568, 'joke': 2498, 'incredible': 2301, 'honest': 2175, 'interview': 2396, 'industry': 2313, 'exception': 1616, 'brilliant': 563, 'aspect': 294, 'across': 39, 'enthusiastic': 1537, 'jones': 2501, 'expert': 1653, 'gather': 1926, 'producer': 3512, 'attorney': 330, 'operator': 3169, 'director': 1272, 'trainer': 4613, 'correctly': 984, 'impression': 2281, 'stream': 4297, 'visual': 4826, 'single': 4106, 'jam': 2455, 'chart': 702, 'additional': 59, 'info': 2321, 'guy': 2059, 'association': 309, 'contact': 934, 'address': 60, 'website': 4878, 'phone': 3333, 'attention': 328, 'layout': 2618, 'technical': 4449, 'sharp': 4040, 'diagram': 1237, 'sake': 3898, 'fascinate': 1714, 'none': 3081, 'jail': 2453, 'amazingly': 158, 'force': 1825, 'enthusiasm': 1535, 'voice': 4832, 'bunch': 593, 'roger': 3847, 'refreshingly': 3707, 'success': 4339, 'arrive': 275, 'inspiration': 2348, 'guess': 2048, 'probably': 3504, 'useful': 4756, 'gorgeous': 1995, 'talented': 4426, 'manga': 2780, 'crisp': 1038, 'bold': 512, 'printing': 3496, 'binding': 472, 'mature': 2833, 'legend': 2640, 'summary': 4360, 'enrich': 1527, 'creation': 1023, 'message': 2882, 'convey': 962, 'feeling': 1737, 'creative': 1024, 'drawing': 1365, 'marvel': 2810, 'genuine': 1946, 'music': 2999, 'waste': 4861, 'terrible': 4479, 'crap': 1017, 'album': 125, 'bag': 375, 'prostitute': 3543, 'male': 2772, 'female': 1742, 'guarantee': 2045, 'excel': 1613, 'beginner': 428, 'step': 4263, 'amp': 168, 'logical': 2710, 'dumb': 1386, 'surprisingly': 4385, 'cry': 1054, 'mode': 2936, 'preparation': 3466, 'im': 2254, 'odd': 3140, 'accomplish': 24, 'baseball': 394, 'sport': 4227, 'correct': 982, 'bottom': 532, 'drunk': 1380, 'canada': 621, 'owen': 3219, 'poverty': 3436, 'alcoholic': 126, 'demon': 1179, 'fear': 1730, 'maker': 2770, 'boys': 538, 'willing': 4919, 'neck': 3044, 'slowly': 4142, 'separate': 4004, 'evil': 1600, 'mr': 2987, 'nicely': 3069, 'convincing': 966, 'carry': 648, 'bond': 516, 'connect': 904, 'function': 1904, 'dead': 1115, 'clue': 787, 'affect': 94, 'origin': 3188, 'element': 1451, 'meant': 2846, 'level': 2654, 'cherish': 712, 'commit': 832, 'path': 3274, 'firm': 1774, 'increasingly': 2300, 'balance': 378, 'sheet': 4045, 'manufacturing': 2787, 'form': 1834, 'act': 40, 'faster': 1719, 'competitor': 854, 'organizational': 3184, 'capability': 628, 'executive': 1631, 'competitive': 853, 'successful': 4340, 'identify': 2237, 'critical': 1040, 'deliver': 1171, 'management': 2777, 'champion': 686, 'hr': 2205, 'refers': 3700, 'govern': 1999, 'department': 1185, 'agenda': 105, 'focus': 1809, 'articulate': 282, 'mechanism': 2853, 'employee': 1487, 'cultural': 1063, 'transformation': 4618, 'goal': 1982, 'recognize': 3680, 'context': 940, 'dave': 1108, 'outline': 3202, 'side': 4076, 'therefore': 4513, 'policy': 3397, 'nice': 3068, 'impact': 2267, 'translate': 4620, 'increase': 2299, 'capital': 630, 'reduce': 3696, 'exist': 1638, 'happy': 2081, 'current': 1069, 'evolutionary': 1604, 'chain': 681, 'less': 2650, 'jargon': 2465, 'spend': 4213, 'regardless': 3713, 'overcome': 3211, 'statement': 4250, 'comfortable': 824, 'organization': 3183, 'strongly': 4313, 'james': 2456, 'confront': 897, 'afraid': 96, 'warm': 4855, 'magic': 2756, 'trick': 4645, 'us': 4751, 'fantastic': 1708, 'hang': 2074, 'shadow': 4031, 'celebration': 672, 'thoroughly': 4528, 'vivid': 4829, 'exotic': 1640, 'navy': 3034, 'seal': 3957, 'rating': 3641, 'road': 3839, 'weak': 4868, 'heavy': 2122, 'susan': 4392, 'smith': 4148, 'nash': 3025, 'emotion': 1477, 'transport': 4623, 'somewhere': 4176, 'surreal': 4386, 'late': 2602, 'offering': 3146, 'soldier': 4163, 'save': 3919, 'blend': 495, 'web': 4876, 'dark': 1097, 'pagan': 3228, 'kennedy': 2543, 'francesca': 1862, 'block': 499, 'witty': 4940, 'commentary': 830, 'foster': 1848, 'wallace': 4847, 'eacute': 1399, 'surface': 4379, 'matter': 2831, 'protagonist': 3544, 'seek': 3977, 'instead': 2356, 'project': 3528, 'onto': 3163, 'location': 2707, 'farm': 1712, 'brings': 566, 'soil': 4161, 'bullet': 592, 'presidential': 3475, 'accurate': 30, 'observation': 3123, 'society': 4157, 'scandal': 3928, 'tone': 4579, 'horror': 2193, 'shakespeare': 4033, 'manages': 2779, 'feminist': 1743, 'heartfelt': 2116, 'confession': 892, 'tribute': 4644, 'ancient': 177, 'sex': 4025, 'birth': 480, 'travel': 4628, 'identity': 2238, 'politics': 3402, 'defy': 1161, 'nobody': 3078, 'typical': 4684, 'deck': 1138, 'frankly': 1868, 'superior': 4368, 'influence': 2319, 'somebody': 4169, 'buff': 584, 'engross': 1516, 'excited': 1624, 'dissapointed': 1305, 'dinosaur': 1268, 'gor': 1992, 'appeal': 232, 'teenage': 4456, 'recently': 3677, 'pull': 3569, 'assassin': 296, 'handful': 2070, 'psychology': 3562, 'skip': 4128, 'forward': 1847, 'richly': 3822, 'immerse': 2264, 'thinker': 4521, 'offend': 3143, 'fulfillment': 1900, 'repetition': 3761, 'boring': 526, 'ahead': 111, 'speaking': 4201, 'eric': 1559, 'amazon': 159, 'reprint': 3770, 'beginning': 429, 'didnt': 1248, 'million': 2904, 'brief': 559, 'tarl': 4434, 'cabot': 607, 'opposite': 3174, 'sun': 4362, 'warrior': 4859, 'princess': 3491, 'mar': 2791, 'edgar': 1421, 'norman': 3087, 'pen': 3292, 'southern': 4191, 'plain': 3362, 'del': 1163, 'sexual': 4026, 'cant': 627, 'depict': 1188, 'pirate': 3354, 'shame': 4036, 'captive': 634, 'capture': 635, 'departure': 1186, 'tie': 4550, 'significant': 4082, 'forest': 1828, 'switch': 4406, 'viking': 4807, 'judy': 2513, 'ice': 2230, 'pack': 3226, 'rain': 3619, 'marshall': 2805, 'pit': 3355, 'rogue': 3848, 'earn': 1405, 'ghost': 1958, 'dance': 1089, 'similar': 4087, 'impress': 2279, 'schedule': 3934, 'dramatic': 1362, 'climax': 773, 'dancer': 1090, 'witness': 4939, 'possibly': 3428, 'prize': 3502, 'remember': 3749, 'encourage': 1496, 'reluctant': 3742, 'intrigue': 2401, 'christianity': 731, 'deceit': 1130, 'equally': 1553, 'christ': 729, 'sweet': 4403, 'acknowledge': 36, 'email': 1467, 'grace': 2003, 'spirituality': 4221, 'spiritual': 4220, 'quest': 3594, 'cultivate': 1062, 'solution': 4167, 'send': 3994, 'ideology': 2239, 'theoretical': 4508, 'arise': 266, 'stick': 4272, 'sin': 4100, 'failure': 1691, 'virtue': 4820, 'saint': 3897, 'monk': 2950, 'necessity': 3043, 'ordinary': 3181, 'humanity': 2212, 'peaceful': 3286, 'spiritually': 4222, 'loving': 2733, 'namely': 3016, 'patience': 3276, 'landmark': 2591, 'program': 3522, 'pioneer': 3353, 'engineer': 1512, 'embrace': 1472, 'push': 3584, 'creator': 1026, 'recall': 3673, 'article': 281, 'blue': 504, 'bookshelf': 521, 'developed': 1227, 'musician': 3001, 'wind': 4923, 'thread': 4533, 'pick': 3347, 'audience': 336, 'debut': 1127, 'category': 661, 'profile': 3518, 'dot': 1349, 'com': 817, 'friday': 1880, 'weekend': 4882, 'hidden': 2142, 'gem': 1930, 'testament': 4489, 'impressive': 2282, 'scholarly': 3938, 'weakness': 4869, 'readable': 3652, 'informative': 2325, 'dating': 1106, 'broad': 569, 'greek': 2028, 'heritage': 2135, 'palestine': 3237, 'narrate': 3020, 'jesus': 2480, 'ministry': 2914, 'date': 1104, 'explore': 1660, 'appropriately': 247, 'declaration': 1139, 'kingdom': 2559, 'four': 1854, 'sophistication': 4183, 'obvious': 3130, 'feature': 1732, 'authentic': 343, 'limitation': 2679, 'entire': 1538, 'enterprise': 1530, 'premise': 3464, 'assumption': 311, 'creativity': 1025, 'spread': 4230, 'roman': 3851, 'treatment': 4633, 'paul': 3282, 'apostle': 228, 'recognition': 3679, 'bible': 462, 'hebrew': 2123, 'scholar': 3937, 'tedious': 4454, 'rave': 3643, 'african': 98, 'lincoln': 2681, 'smart': 4144, 'transcend': 4616, 'lacking': 2585, 'twist': 4679, 'ride': 3824, 'mark': 2797, 'da': 1082, 'bomb': 514, 'marry': 2803, 'choose': 726, 'destiny': 1214, 'ben': 443, 'orphan': 3192, 'care': 638, 'parent': 3248, 'chase': 703, 'wood': 4949, 'decade': 1128, 'reward': 3815, 'reaction': 3650, 'recruit': 3692, 'partner': 3261, 'portuguese': 3419, 'fresh': 1878, 'destine': 1213, 'climb': 774, 'bestseller': 453, 'pas': 3263, 'reminiscent': 3752, 'telling': 4463, 'handle': 2071, 'incident': 2292, 'characterization': 694, 'top': 4582, 'street': 4298, 'whilst': 4900, 'overlook': 3212, 'foreign': 1827, 'pity': 3358, 'corrupt': 985, 'politician': 3401, 'memoir': 2867, 'flip': 1797, 'curriculum': 1071, 'decent': 1133, 'unfortunately': 4720, 'manufacturer': 2786, 'advance': 82, 'taylor': 4441, 'opposition': 3175, 'intervention': 2395, 'bombing': 515, 'western': 4892, 'meal': 2842, 'compliment': 865, 'news': 3064, 'coverage': 1010, 'television': 4460, 'pride': 3484, 'awareness': 360, 'bias': 460, 'frequently': 1877, 'pertinent': 3320, 'ramsey': 3624, 'victim': 4798, 'guilty': 2054, 'prove': 3551, 'innocent': 2339, 'national': 3028, 'massive': 2819, 'responsible': 3795, 'pretty': 3479, 'surely': 4378, 'grab': 2002, 'accidentally': 22, 'wow': 4965, 'pray': 3447, 'crime': 1034, 'eventually': 1589, 'proof': 3532, 'positive': 3422, 'responsibility': 3794, 'insane': 2340, 'prior': 3497, 'thank': 4495, 'faith': 1695, 'criticize': 1042, 'willingness': 4920, 'testimony': 4490, 'narrow': 3024, 'sit': 4111, 'throne': 4540, 'judgment': 2511, 'cliche': 769, 'shoe': 4057, 'judge': 2509, 'novelist': 3101, 'effective': 1434, 'formula': 1839, 'variation': 4776, 'convention': 958, 'hero': 2136, 'stable': 4235, 'sibling': 4072, 'cousin': 1006, 'cast': 655, 'unusual': 4739, 'crew': 1032, 'bar': 384, 'offer': 3145, 'dimension': 1263, 'usually': 4760, 'central': 676, 'load': 2703, 'establish': 1570, 'revisit': 3811, 'integral': 2366, 'chaos': 690, 'environment': 1545, 'essential': 1568, 'julia': 2515, 'quinn': 3601, 'austen': 340, 'excitement': 1625, 'villain': 4810, 'passion': 3268, 'anthology': 203, 'dragon': 1359, 'witch': 4935, 'illustration': 2252, 'enjoyment': 1521, 'realism': 3660, 'cat': 658, 'rhyme': 3817, 'wizard': 4941, 'suit': 4355, 'abusive': 13, 'circle': 742, 'passing': 3267, 'knight': 2569, 'accuse': 32, 'witchcraft': 4936, 'favourite': 1727, 'kay': 2536, 'unknown': 4731, 'wake': 4844, 'tired': 4563, 'discovers': 1288, 'startle': 4247, 'bride': 555, 'lastly': 2601, 'arthurian': 280, 'sword': 4407, 'stone': 4281, 'arthur': 279, 'king': 2558, 'strike': 4306, 'fancy': 1707, 'occupy': 3136, 'hunting': 2223, 'president': 3474, 'conason': 874, 'gene': 1932, 'lyon': 2747, 'gop': 1991, 'campaign': 619, 'destroy': 1215, 'rip': 3832, 'evening': 1586, 'busy': 600, 'minister': 2913, 'israel': 2440, 'swear': 4401, 'senate': 3992, 'constitution': 926, 'behavior': 431, 'scary': 3931, 'stuff': 4321, 'former': 1838, 'colleague': 802, 'vote': 4837, 'blow': 503, 'reagan': 3657, 'terrorism': 4485, 'loan': 2704, 'excess': 1620, 'weapon': 4872, 'sell': 3987, 'iraq': 2426, 'possess': 3424, 'chemical': 710, 'biological': 477, 'gas': 1924, 'bush': 598, 'effectively': 1435, 'propaganda': 3534, 'machine': 2750, 'terrorist': 4486, 'prisoner': 3500, 'demand': 1175, 'hence': 2132, 'template': 4466, 'negotiate': 3049, 'ala': 120, 'obsess': 3126, 'bin': 470, 'laden': 2586, 'liberal': 2657, 'medium': 2860, 'significantly': 4083, 'editorial': 1427, 'endorsement': 1504, 'gore': 1994, 'tidbit': 4549, 'ann': 194, 'coulter': 992, 'sean': 3958, 'final': 1763, 'warn': 4856, 'outrage': 3204, 'al': 119, 'franken': 1866, 'liar': 2656, 'six': 4115, 'conscience': 909, 'reproduction': 3771, 'translation': 4621, 'generous': 1937, 'individual': 2311, 'rate': 3639, 'alone': 140, 'apparent': 230, 'generation': 1936, 'member': 2866, 'flesh': 1794, 'karen': 2530, 'zero': 4996, 'photograph': 3335, 'immediately': 2261, 'buyer': 603, 'bed': 421, 'raw': 3644, 'dig': 1258, 'joy': 2507, 'technological': 4451, 'vb': 4783, 'framework': 1860, 'tutorial': 4672, 'pressure': 3477, 'critic': 1039, 'knowledgeable': 2573, 'microsoft': 2893, 'recommendation': 3684, 'alternative': 149, 'report': 3765, 'gate': 1925, 'alot': 143, 'afford': 95, 'pop': 3408, 'childrens': 720, 'hurt': 2224, 'specific': 4205, 'lamb': 2589, 'grandmother': 2015, 'exchange': 1622, 'spin': 4217, 'yarn': 4980, 'cow': 1011, 'dye': 1397, 'row': 3868, 'boat': 508, 'supply': 4372, 'dry': 1381, 'weave': 4875, 'feed': 1735, 'sunday': 4363, 'heartwarming': 2118, 'admiration': 69, 'beast': 412, 'marvelous': 2811, 'nation': 3027, 'musical': 3000, 'librarian': 2659, 'congress': 902, 'astonish': 314, 'remind': 3750, 'historian': 2152, 'johnson': 2495, 'epic': 1549, 'stretch': 4303, 'continually': 943, 'thrill': 4537, 'being': 434, 'quote': 3608, 'ap': 222, 'physic': 3341, 'mathematical': 2827, 'physicist': 3345, 'george': 1951, 'shift': 4049, 'quantum': 3590, 'mechanic': 2851, 'feynman': 1746, 'lecture': 2633, 'college': 807, 'population': 3411, 'grant': 2017, 'pass': 3265, 'lifetime': 2668, 'eliot': 1456, 'mass': 2816, 'england': 1514, 'firmly': 1775, 'reasonable': 3669, 'homosexual': 2173, 'likely': 2675, 'hungry': 2220, 'actress': 46, 'service': 4016, 'hardcover': 2085, 'passage': 3266, 'reflection': 3702, 'prose': 3541, 'benefit': 446, 'editing': 1424, 'anecdote': 181, 'frank': 1865, 'sinatra': 4101, 'hat': 2100, 'owe': 3218, 'stage': 4237, 'hatred': 2102, 'consequence': 912, 'pepper': 3295, 'forgotten': 1833, 'inclusion': 2294, 'actor': 45, 'curiosity': 1067, 'hollywood': 2167, 'characteristic': 693, 'alan': 121, 'replace': 3763, 'execute': 1629, 'masterpiece': 2822, 'safety': 3893, 'curse': 1072, 'pure': 3576, 'clan': 752, 'moral': 2961, 'drop': 1377, 'satan': 3911, 'sorry': 4184, 'ted': 4453, 'useless': 4757, 'redemption': 3695, 'rehash': 3722, 'predictable': 3456, 'dialogue': 1240, 'personally': 3315, 'leigh': 2643, 'severe': 4023, 'talent': 4425, 'refreshing': 3706, 'aim': 114, 'generally': 1934, 'vast': 4781, 'bright': 561, 'blessing': 497, 'helen': 2127, 'lawrence': 2613, 'online': 3162, 'guideline': 2052, 'decide': 1134, 'behind': 433, 'stumble': 4322, 'civilization': 749, 'spell': 4211, 'slight': 4135, 'reread': 3779, 'ear': 1402, 'wing': 4926, 'suffer': 4346, 'betrayal': 456, 'situation': 4114, 'lawsuit': 2614, 'uk': 4690, 'worker': 4954, 'collective': 805, 'achievement': 35, 'difference': 1253, 'merely': 2878, 'education': 1429, 'expertise': 1654, 'considerable': 916, 'mere': 2877, 'jim': 2487, 'collins': 808, 'seat': 3962, 'bus': 597, 'mix': 2932, 'employ': 1486, 'strategic': 4295, 'condition': 887, 'leadership': 2623, 'vital': 4828, 'attract': 331, 'engage': 1509, 'concentrate': 876, 'trend': 4638, 'survival': 4389, 'crisis': 1037, 'skilled': 4123, 'labor': 2583, 'anticipate': 208, 'consultant': 931, 'field': 1749, 'graph': 2018, 'outside': 3207, 'concentration': 877, 'rapid': 3633, 'pace': 3223, 'cohesive': 795, 'interpretation': 2393, 'interpret': 2392, 'originally': 3190, 'linda': 2682, 'distinguish': 1312, 'tremendous': 4636, 'invaluable': 2409, 'personality': 3314, 'french': 1875, 'preface': 3458, 'joseph': 2503, 'occasion': 3132, 'tolkien': 4572, 'purtill': 3583, 'catholicism': 664, 'relevance': 3737, 'stem': 4262, 'surprising': 4384, 'sympathetic': 4410, 'defend': 1152, 'defense': 1153, 'explicit': 1657, 'inherent': 2332, 'defensive': 1154, 'deeper': 1148, 'defect': 1151, 'directly': 1271, 'leaf': 2624, 'fairy': 1694, 'lord': 2718, 'justify': 2526, 'extent': 1670, 'similarly': 4089, 'chief': 717, 'treat': 4631, 'fashion': 1717, 'theme': 4503, 'illuminate': 2248, 'operate': 3167, 'literary': 2694, 'concerned': 881, 'multiple': 2990, 'physical': 3342, 'facet': 1686, 'stark': 4244, 'morally': 2963, 'complexity': 862, 'analytical': 174, 'doom': 1345, 'becomes': 419, 'understood': 4711, 'exhaust': 1634, 'door': 1346, 'ultimately': 4692, 'pleasure': 3382, 'cross': 1045, 'captivate': 633, 'legendary': 2641, 'weird': 4886, 'gay': 1928, 'lesbian': 2649, 'winner': 4927, 'disturb': 1317, 'inch': 2291, 'reform': 3703, 'heal': 2108, 'pretend': 3478, 'unrealistic': 4736, 'halfway': 2065, 'believable': 436, 'perl': 3307, 'frustrate': 1893, 'syntax': 4416, 'linux': 2686, 'journal': 2504, 'module': 2943, 'anymore': 216, 'aside': 290, 'desk': 1206, 'jewish': 2483, 'blossom': 502, 'fortunately': 1845, 'intelligence': 2372, 'determination': 1221, 'sing': 4104, 'alice': 131, 'sleep': 4134, 'frightening': 1886, 'endear': 1499, 'connection': 905, 'emotional': 1478, 'cop': 973, 'difficulty': 1257, 'honesty': 2177, 'rare': 3635, 'conjure': 903, 'horrible': 2189, 'satisfaction': 3913, 'club': 786, 'singer': 4105, 'abandon': 0, 'raise': 3620, 'brilliantly': 564, 'dwell': 1396, 'liz': 2700, 'bizarre': 486, 'fine': 1769, 'contemporary': 937, 'county': 1000, 'shelter': 4048, 'diego': 1250, 'whose': 4907, 'tendency': 4471, 'breed': 553, 'rescue': 3780, 'grandparent': 2016, 'emma': 1476, 'cold': 798, 'comprehend': 869, 'definite': 1157, 'brutal': 578, 'emperor': 1482, 'essentially': 1569, 'rival': 3836, 'rome': 3854, 'defeat': 1150, 'relative': 3732, 'twelve': 4675, 'terror': 4484, 'battle': 404, 'stomach': 4280, 'lucky': 2740, 'eyewitness': 1679, 'imperial': 2269, 'archive': 259, 'aware': 359, 'artificial': 283, 'utterly': 4763, 'compel': 849, 'kerry': 2544, 'everyday': 1594, 'region': 3717, 'vietnam': 4803, 'purple': 3578, 'silver': 4086, 'bob': 509, 'otherwise': 3197, 'comic': 825, 'inner': 2338, 'similarity': 4088, 'irony': 2430, 'scripture': 3954, 'smooth': 4150, 'provoke': 3555, 'spark': 4198, 'okay': 3154, 'moment': 2947, 'fail': 1690, 'rule': 3873, 'paint': 3232, 'garbage': 1920, 'normal': 3085, 'trip': 4649, 'cuisine': 1058, 'rabbit': 3610, 'chill': 721, 'red': 3693, 'wine': 4925, 'prayer': 3448, 'fbi': 1728, 'agent': 106, 'humorous': 2217, 'election': 1446, 'floor': 1799, 'building': 590, 'wear': 4873, 'lay': 2616, 'horrid': 2190, 'fabulous': 1684, 'immensely': 2263, 'false': 1699, 'advertising': 88, 'lend': 2645, 'murderer': 2994, 'creepy': 1031, 'ashamed': 287, 'brain': 541, 'suspense': 4395, 'joan': 2490, 'envy': 1548, 'gordon': 1993, 'christie': 732, 'vet': 4794, 'substitute': 4333, 'potter': 3434, 'mysterious': 3006, 'apartment': 224, 'varied': 4777, 'predict': 3455, 'finger': 1770, 'barbara': 385, 'moore': 2960, 'excite': 1623, 'dimensional': 1264, 'rat': 3638, 'quarter': 3591, 'campus': 620, 'terribly': 4480, 'disease': 1295, 'length': 2646, 'exploit': 1658, 'verbal': 4789, 'phenomenal': 3326, 'monkey': 2951, 'jump': 2519, 'contrary': 948, 'underlying': 4707, 'ponder': 3403, 'outcome': 3200, 'abbey': 1, 'catherine': 662, 'apology': 227, 'presence': 3470, 'slap': 4131, 'kick': 2547, 'fictional': 1748, 'henry': 2133, 'arrange': 271, 'teeth': 4458, 'charm': 700, 'outrageous': 3205, 'hilarious': 2148, 'satire': 3912, 'gothic': 1998, 'imagination': 2257, 'rarely': 3636, 'safe': 3891, 'darcy': 1095, 'romantic': 3853, 'prejudice': 3463, 'relax': 3735, 'incorporate': 2297, 'slavery': 4133, 'uncle': 4700, 'root': 3860, 'ken': 2542, 'burn': 595, 'overall': 3210, 'commonly': 836, 'rebellion': 3672, 'scott': 3947, 'harper': 2093, 'africa': 97, 'martial': 2807, 'owner': 3221, 'equality': 1552, 'belong': 440, 'cotton': 989, 'seed': 3976, 'gin': 1963, 'widely': 4911, 'differ': 1252, 'fairly': 1693, 'stance': 4239, 'refer': 3698, 'consequently': 913, 'guilt': 2053, 'trap': 4624, 'advocate': 91, 'strict': 4304, 'advise': 90, 'anxiety': 212, 'somehow': 4171, 'render': 3755, 'generate': 1935, 'vicious': 4797, 'cycle': 1080, 'persuasive': 3318, 'dr': 1357, 'countless': 997, 'urge': 4750, 'derive': 1194, 'stress': 4301, 'entitle': 1540, 'jackson': 2451, 'moving': 2986, 'partly': 3260, 'partially': 3253, 'except': 1615, 'caribbean': 642, 'sea': 3956, 'post': 3429, 'vacation': 4764, 'suspect': 4393, 'companion': 842, 'sixty': 4117, 'frequent': 1876, 'circumstance': 743, 'sail': 3895, 'latter': 2606, 'dilemma': 1262, 'uninteresting': 4722, 'couldnt': 991, 'annoy': 198, 'angry': 187, 'favor': 1725, 'walter': 4848, 'poet': 3389, 'stein': 4261, 'representative': 3769, 'winter': 4928, 'fortune': 1846, 'francis': 1863, 'bacon': 372, 'silly': 4085, 'damn': 1087, 'quilt': 3600, 'foundation': 1850, 'amateur': 155, 'detective': 1220, 'motif': 2973, 'select': 3982, 'perception': 3299, 'encyclopedia': 1497, 'exhaustive': 1635, 'tome': 4576, 'suffice': 4349, 'excerpt': 1619, 'network': 3057, 'peer': 3291, 'exam': 1609, 'heck': 2124, 'video': 4802, 'comprehensive': 870, 'adopt': 76, 'update': 4742, 'puppy': 3574, 'discovery': 1289, 'stimulate': 4276, 'target': 4433, 'community': 840, 'motive': 2977, 'vanish': 4774, 'enthusiast': 1536, 'jew': 2482, 'apparently': 231, 'investigate': 2414, 'vatican': 4782, 'ms': 2988, 'anywhere': 221, 'naturally': 3031, 'chicago': 714, 'internet': 2391, 'judgement': 2510, 'reputation': 3774, 'rural': 3877, 'elsewhere': 1465, 'wise': 4932, 'devil': 1231, 'crush': 1053, 'fraud': 1869, 'characterize': 695, 'selfish': 3985, 'adventurous': 86, 'reply': 3764, 'admit': 72, 'complicated': 864, 'multitude': 2991, 'confidence': 893, 'indeed': 2303, 'pitfall': 3357, 'paradigm': 3243, 'implementation': 2272, 'expose': 1661, 'nuance': 3108, 'appreciate': 243, 'immigrant': 2265, 'hawaii': 2105, 'wwii': 4974, 'le': 2620, 'mirror': 2919, 'elegant': 1450, 'descent': 1196, 'summer': 4361, 'disappointment': 1280, 'nevertheless': 3060, 'bravo': 545, 'immediate': 2260, 'gear': 1929, 'phase': 3325, 'candidate': 624, 'boot': 523, 'requirement': 3778, 'government': 2000, 'regular': 3720, 'annual': 200, 'catalog': 659, 'ho': 2159, 'scale': 3926, 'model': 2937, 'possible': 3427, 'awful': 364, 'calculus': 609, 'plague': 3361, 'rocket': 3846, 'ship': 4052, 'remedy': 3748, 'fatal': 1721, 'security': 3973, 'invest': 2413, 'successfully': 4341, 'debt': 1125, 'proclaim': 3510, 'fool': 1819, 'steven': 4269, 'peter': 3322, 'suze': 4399, 'comprise': 871, 'occupation': 3135, 'confusion': 900, 'israeli': 2441, 'internal': 2389, 'tension': 4474, 'essence': 1567, 'complain': 857, 'sincere': 4103, 'poorly': 3407, 'lust': 2745, 'bother': 531, 'sensual': 4000, 'upset': 4747, 'double': 1350, 'educate': 1428, 'conservative': 914, 'suppose': 4374, 'ability': 3, 'patient': 3277, 'occasional': 3133, 'anger': 184, 'thorough': 4527, 'horrify': 2192, 'fellow': 1740, 'growth': 2042, 'childhood': 719, 'happiness': 2080, 'ingredient': 2328, 'bitter': 485, 'mindless': 2908, 'fuel': 1898, 'opportunity': 3172, 'unlike': 4733, 'designer': 1204, 'harbor': 2082, 'vessel': 4793, 'commercial': 831, 'humility': 2215, 'gratitude': 2022, 'unable': 4696, 'worthy': 4962, 'universe': 4728, 'rebel': 3671, 'republic': 3772, 'climate': 772, 'crave': 1019, 'honestly': 2176, 'flow': 1803, 'rachel': 3612, 'teresa': 4475, 'safely': 3892, 'closer': 780, 'dose': 1348, 'dread': 1367, 'delay': 1164, 'interact': 2380, 'savor': 3920, 'thumb': 4544, 'lean': 2626, 'elli': 1460, 'opponent': 3171, 'filter': 1762, 'contradiction': 947, 'illusion': 2249, 'contradict': 946, 'insist': 2346, 'proper': 3535, 'rational': 3642, 'conference': 890, 'cancer': 623, 'neglect': 3048, 'researcher': 3782, 'possibility': 3426, 'concrete': 885, 'conclude': 883, 'mislead': 2922, 'philosophical': 3330, 'viewpoint': 4805, 'worry': 4958, 'recreate': 3691, 'understandable': 4709, 'inability': 2287, 'grasp': 2020, 'assertion': 300, 'logic': 2709, 'summarize': 4359, 'betray': 455, 'jordan': 2502, 'embark': 1468, 'pregnant': 3462, 'crown': 1049, 'merry': 2880, 'guard': 2046, 'conceive': 875, 'complicate': 863, 'creature': 1027, 'status': 4255, 'broker': 571, 'ally': 138, 'awaken': 357, 'frost': 1891, 'aunt': 339, 'wicked': 4909, 'queen': 3593, 'air': 116, 'darkness': 1099, 'court': 1005, 'intriguing': 2402, 'investigator': 2417, 'royal': 3871, 'hamilton': 2067, 'repetitive': 3762, 'transform': 4617, 'barely': 386, 'awe': 362, 'venture': 4788, 'painful': 3231, 'teen': 4455, 'strangely': 4293, 'hook': 2181, 'anita': 193, 'blake': 490, 'richard': 3821, 'pointless': 3394, 'endless': 1502, 'heard': 2113, 'serial': 4008, 'tarot': 4435, 'decision': 1136, 'vampire': 4772, 'unless': 4732, 'eternal': 1576, 'hole': 2163, 'revisionist': 3810, 'camp': 618, 'leftist': 2636, 'truman': 4661, 'july': 2518, 'dan': 1088, 'ford': 1826, 'channel': 689, 'attach': 323, 'irving': 2433, 'bash': 395, 'impressed': 2280, 'storytelling': 4288, 'code': 791, 'aid': 113, 'einstein': 1442, 'textbook': 4494, 'handy': 2073, 'boyfriend': 537, 'occasionally': 3134, 'proud': 3550, 'priest': 3485, 'loose': 2716, 'sickness': 4075, 'criminal': 1035, 'office': 3147, 'muslim': 3002, 'islam': 2436, 'peak': 3287, 'sight': 4078, 'killing': 2554, 'prevent': 3480, 'jihad': 2485, 'arabic': 254, 'blair': 489, 'publication': 3564, 'senior': 3995, 'islamic': 2437, 'inform': 2322, 'believer': 438, 'sequel': 4006, 'dc': 1113, 'melissa': 2865, 'intimidate': 2398, 'lock': 2708, 'rage': 3618, 'spot': 4228, 'participant': 3254, 'dialog': 1239, 'delightful': 1169, 'satisfying': 3915, 'shatter': 4042, 'simon': 4091, 'devastate': 1224, 'uplifting': 4743, 'friendly': 1883, 'husband': 2225, 'complaint': 858, 'neat': 3040, 'barrier': 391, 'agony': 108, 'vividly': 4830, 'despair': 1207, 'smell': 4146, 'rifle': 3828, 'empathize': 1480, 'plight': 3384, 'cheer': 707, 'brave': 544, 'fire': 1772, 'compose': 867, 'operation': 3168, 'buddy': 582, 'perfectly': 3301, 'dive': 1319, 'realm': 3666, 'intro': 2403, 'flash': 1787, 'estate': 1572, 'europe': 1580, 'democracy': 1176, 'dozen': 1356, 'towards': 4596, 'integration': 2368, 'cheat': 705, 'contest': 939, 'supreme': 4376, 'usa': 4752, 'competition': 852, 'tomb': 4575, 'tournament': 4594, 'ad': 49, 'intend': 2374, 'gary': 1923, 'veteran': 4795, 'deadly': 1116, 'scheme': 3935, 'wrap': 4966, 'ought': 3199, 'specifically': 4206, 'per': 3296, 'pc': 3284, 'dm': 1327, 'nine': 3075, 'seven': 4021, 'illustrated': 2251, 'rely': 3743, 'necessary': 3042, 'exact': 1607, 'bind': 471, 'paper': 3240, 'consist': 918, 'font': 1817, 'elf': 1454, 'dwarf': 1395, 'risk': 3834, 'integrate': 2367, 'magazine': 2754, 'davis': 1110, 'confusing': 899, 'nasty': 3026, 'shake': 4032, 'dirt': 1273, 'satisfy': 3914, 'de': 1114, 'engineering': 1513, 'constant': 923, 'identical': 2236, 'linear': 2684, 'algebra': 129, 'miller': 2903, 'amanda': 154, 'sentimental': 4003, 'deceased': 1129, 'examine': 1611, 'eager': 1400, 'leg': 2637, 'attraction': 332, 'neither': 3054, 'delinsky': 1170, 'terminology': 4478, 'dorian': 1347, 'column': 816, 'overwhelm': 3216, 'steamy': 4258, 'ethical': 1578, 'physician': 3344, 'forgive': 1832, 'shortcoming': 4063, 'conquest': 908, 'smoothly': 4151, 'everybody': 1593, 'seller': 3988, 'communication': 838, 'nightmare': 3074, 'branch': 542, 'scottish': 3948, 'rent': 3757, 'ellen': 1459, 'trail': 4611, 'wherever': 4898, 'regency': 3714, 'beware': 458, 'grandfather': 2013, 'priority': 3498, 'harriet': 2094, 'klausner': 2566, 'subplot': 4329, 'disregard': 1304, 'grade': 2004, 'dismiss': 1300, 'october': 3139, 'storm': 4284, 'atlantic': 320, 'fisherman': 1779, 'dangerous': 1092, 'weather': 4874, 'ai': 112, 'grip': 2034, 'professor': 3517, 'regime': 3716, 'federal': 1733, 'budget': 583, 'principal': 3493, 'instrument': 2363, 'required': 3777, 'rob': 3841, 'saga': 3894, 'mission': 2925, 'cartoon': 651, 'encounter': 1495, 'frog': 1888, 'request': 3775, 'instant': 2354, 'propose': 3540, 'adoption': 77, 'compelling': 850, 'commander': 827, 'pilot': 3352, 'sky': 4129, 'unexpected': 4714, 'meanwhile': 2848, 'bio': 473, 'entity': 1541, 'hopeless': 2186, 'poignant': 3392, 'sensitive': 3998, 'yeah': 4981, 'supposedly': 4375, 'grisham': 2036, 'resolve': 3788, 'pathetic': 3275, 'ending': 1501, 'dean': 1121, 'neal': 3036, 'wander': 4849, 'everywhere': 1597, 'charge': 696, 'sarah': 3909, 'yield': 4989, 'possession': 3425, 'bead': 409, 'born': 527, 'miracle': 2918, 'holiday': 2164, 'equivalent': 1557, 'bland': 492, 'accessible': 20, 'unfortunate': 4719, 'awkward': 366, 'bet': 454, 'roy': 3870, 'dollar': 1339, 'hop': 2183, 'ups': 4746, 'shopping': 4060, 'patterson': 3281, 'rose': 3861, 'november': 3103, 'kidnap': 2550, 'loved': 2730, 'kidnapping': 2551, 'jacket': 2449, 'diary': 1243, 'trial': 4639, 'tribulation': 4643, 'solo': 4166, 'gregory': 2031, 'avid': 352, 'crystal': 1056, 'tape': 4432, 'realistic': 3661, 'dynamic': 1398, 'inspiring': 2351, 'shanghai': 4037, 'dealer': 1118, 'trading': 4605, 'methodology': 2885, 'related': 3729, 'lt': 2737, 'gt': 2044, 'tree': 4634, 'construct': 927, 'cod': 790, 'screw': 3952, 'nail': 3012, 'paragraph': 3245, 'margin': 2794, 'solve': 4168, 'table': 4420, 'cute': 1079, 'antic': 207, 'ignore': 2243, 'aloud': 144, 'mail': 2761, 'taught': 4439, 'accounting': 28, 'independent': 2305, 'attitude': 329, 'animator': 192, 'louis': 2727, 'regional': 3718, 'investigation': 2415, 'handsome': 2072, 'sexy': 4028, 'bos': 529, 'stake': 4238, 'bone': 517, 'youth': 4993, 'bloody': 501, 'larry': 2597, 'initially': 2334, 'hunter': 2222, 'victory': 4801, 'supernatural': 4370, 'savvy': 3921, 'warning': 4857, 'stupid': 4324, 'freedom': 1873, 'gut': 2058, 'usual': 4759, 'scratch': 3949, 'mob': 2935, 'trivial': 4653, 'communist': 839, 'tax': 4440, 'majority': 2768, 'china': 722, 'russia': 3881, 'committee': 834, 'meeting': 2862, 'fulfill': 1899, 'tackle': 4421, 'scream': 3950, 'hey': 2140, 'guidance': 2050, 'medicine': 2856, 'drug': 1379, 'trash': 4625, 'michigan': 2892, 'popular': 3410, 'seasoned': 3961, 'park': 3250, 'variable': 4775, 'route': 3866, 'disagree': 1275, 'involvement': 2424, 'fighting': 1756, 'visible': 4822, 'hesitate': 2139, 'ultimate': 4691, 'consciousness': 911, 'define': 1156, 'arrest': 273, 'nonetheless': 3082, 'appreciation': 244, 'ok': 3153, 'wicca': 4908, 'driving': 1376, 'stroke': 4311, 'hair': 2063, 'compound': 868, 'spelling': 4212, 'adequate': 61, 'emphasize': 1484, 'elementary': 1452, 'wisdom': 4931, 'orient': 3186, 'astound': 315, 'eastern': 1411, 'extraordinary': 1674, 'opening': 3165, 'mythology': 3010, 'geography': 1949, 'analogy': 172, 'atmosphere': 321, 'thomas': 4525, 'covenant': 1007, 'consult': 930, 'existence': 1639, 'overly': 3213, 'elaborate': 1445, 'sufficient': 4350, 'blind': 498, 'indicate': 2309, 'acceptance': 18, 'genius': 1941, 'tactic': 4422, 'chess': 713, 'earthquake': 1407, 'sick': 4074, 'danger': 1091, 'cure': 1066, 'renew': 3756, 'darlington': 1100, 'confident': 894, 'attractive': 333, 'shy': 4070, 'lately': 2603, 'mood': 2958, 'abigail': 2, 'angst': 188, 'married': 2802, 'ill': 2246, 'gentleman': 1945, 'moon': 2959, 'resume': 3799, 'dictate': 1246, 'involved': 2423, 'approve': 248, 'compete': 851, 'flat': 1789, 'mighty': 2898, 'sociology': 4158, 'trade': 4603, 'canal': 622, 'contributor': 952, 'layer': 2617, 'reflect': 3701, 'mexican': 2887, 'fruit': 1892, 'depression': 1191, 'fountain': 1853, 'cooking': 970, 'spare': 4197, 'eating': 1414, 'mentor': 2875, 'oneself': 3160, 'green': 2029, 'alex': 127, 'likeable': 2674, 'kahn': 2527, 'rider': 3825, 'planning': 3367, 'expense': 1646, 'golf': 1987, 'dad': 1083, 'millionaire': 2905, 'stanley': 4242, 'absolute': 6, 'ed': 1420, 'harsh': 2097, 'monument': 2956, 'ranger': 3629, 'disdain': 1294, 'ease': 1408, 'daily': 1084, 'dirty': 1274, 'naked': 3014, 'hill': 2149, 'drivel': 1374, 'poison': 3395, 'weekly': 4883, 'gray': 2024, 'fox': 1856, 'mountain': 2980, 'bike': 466, 'valley': 4769, 'brian': 554, 'tower': 4597, 'mouth': 2982, 'dvd': 1394, 'ferguson': 1744, 'prominent': 3529, 'britain': 567, 'purport': 3579, 'beneficial': 445, 'threat': 4534, 'coherent': 794, 'sir': 4109, 'missionary': 2926, 'convert': 961, 'racist': 3615, 'racism': 3614, 'colonial': 810, 'known': 2574, 'massacre': 2818, 'colony': 811, 'found': 1849, 'deny': 1184, 'irish': 2428, 'liberty': 2658, 'ireland': 2427, 'starve': 4248, 'embarrass': 1469, 'servant': 4013, 'india': 2307, 'solely': 4164, 'anthony': 204, 'fate': 1722, 'hitler': 2158, 'notorious': 3099, 'cult': 1061, 'collapse': 801, 'independence': 2304, 'japan': 2462, 'host': 2196, 'christopher': 734, 'shallow': 4035, 'immigration': 2266, 'told': 4570, 'latin': 2605, 'churchill': 739, 'soviet': 4192, 'genocide': 1942, 'consume': 932, 'slip': 4138, 'critique': 1043, 'blame': 491, 'asia': 288, 'closely': 779, 'skeleton': 4119, 'chair': 682, 'gang': 1918, 'happening': 2078, 'wedding': 4880, 'tolerate': 4571, 'dont': 1344, 'scientific': 3942, 'data': 1102, 'billion': 468, 'option': 3177, 'gerald': 1953, 'timeline': 4558, 'genuinely': 1947, 'scientist': 3943, 'genesis': 1938, 'typically': 4685, 'grave': 2023, 'temperature': 4465, 'heat': 2119, 'normally': 3086, 'relativity': 3734, 'spoil': 4226, 'clone': 777, 'mixture': 2934, 'sustain': 4398, 'versus': 4792, 'insert': 2342, 'tech': 4448, 'dummy': 1387, 'dedicated': 1144, 'redundant': 3697, 'eve': 1584, 'trait': 4615, 'exhibit': 1636, 'tan': 4429, 'fee': 1734, 'calm': 613, 'superb': 4365, 'conception': 879, 'nursing': 3113, 'mad': 2751, 'mexico': 2888, 'vision': 4823, 'virgin': 4815, 'slang': 4130, 'swing': 4405, 'airplane': 118, 'adam': 50, 'discount': 1284, 'whoever': 4904, 'recomend': 3682, 'instinct': 2357, 'billy': 469, 'anxious': 213, 'congratulation': 901, 'diamond': 1241, 'constitute': 925, 'descriptive': 1200, 'fable': 1682, 'decidedly': 1135, 'germany': 1955, 'luck': 2739, 'button': 601, 'maria': 2795, 'mistress': 2928, 'experiment': 1650, 'electricity': 1448, 'fitzgerald': 1783, 'extra': 1672, 'extreme': 1675, 'cruel': 1051, 'cornwell': 978, 'equal': 1551, 'dedicate': 1143, 'harry': 2096, 'rowling': 3869, 'backwards': 371, 'dignity': 1261, 'harm': 2090, 'autobiography': 348, 'mask': 2814, 'performance': 3303, 'health': 2110, 'rhythm': 3818, 'structure': 4314, 'xml': 4975, 'pitch': 3356, 'allen': 135, 'et': 1574, 'client': 770, 'gloss': 1976, 'glimpse': 1971, 'lightly': 2671, 'developer': 1228, 'warren': 4858, 'remarkable': 3746, 'intimate': 2397, 'conviction': 964, 'inequality': 2314, 'economy': 1419, 'capitalism': 631, 'east': 1410, 'socialism': 4155, 'property': 3537, 'asset': 302, 'clarity': 755, 'democratic': 1178, 'casual': 657, 'ceremony': 678, 'dress': 1369, 'display': 1303, 'assist': 305, 'used': 4755, 'persuade': 3317, 'masterful': 2821, 'italian': 2443, 'journalist': 2505, 'subtitle': 4334, 'italy': 2444, 'merit': 2879, 'culinary': 1059, 'geographical': 1948, 'tribe': 4642, 'medieval': 2857, 'cheese': 708, 'distinctive': 1311, 'german': 1954, 'sidebar': 4077, 'bread': 547, 'frustrating': 1895, 'carol': 645, 'baker': 377, 'unfamiliar': 4716, 'knee': 2568, 'pasta': 3271, 'soup': 4188, 'fry': 1897, 'organize': 3185, 'sauce': 3916, 'suck': 4342, 'goodness': 1990, 'stew': 4270, 'locate': 2706, 'restaurant': 3797, 'shop': 4059, 'telephone': 4459, 'authority': 346, 'wright': 4967, 'fred': 1871, 'task': 4436, 'pill': 3351, 'skin': 4126, 'supplement': 4371, 'improvement': 2285, 'surgery': 4381, 'muscle': 2997, 'applies': 241, 'unix': 4730, 'prop': 3533, 'wheel': 4895, 'se': 3955, 'notion': 3098, 'divine': 1324, 'harris': 2095, 'homework': 2172, 'nietzsche': 3072, 'label': 2582, 'intricate': 2400, 'compassion': 847, 'spectacular': 4207, 'treatise': 4632, 'timeless': 4557, 'napoleon': 3019, 'aspire': 295, 'thursday': 4545, 'tight': 4552, 'introductory': 2406, 'uml': 4693, 'download': 1353, 'iron': 2429, 'unnecessary': 4735, 'hall': 2066, 'writes': 4970, 'constructive': 929, 'credibility': 1028, 'depend': 1187, 'flag': 1786, 'haunt': 2103, 'nazi': 3035, 'zionist': 4998, 'spy': 4232, 'stink': 4277, 'nt': 3107, 'net': 3056, 'museum': 2998, 'flavor': 1790, 'remark': 3745, 'bridget': 558, 'adore': 79, 'enhance': 1517, 'energy': 1507, 'carl': 644, 'component': 866, 'global': 1972, 'precious': 3450, 'breath': 550, 'refresh': 3705, 'speaker': 4200, 'corporation': 981, 'conduct': 888, 'environmentalist': 1547, 'potentially': 3433, 'crowd': 1047, 'consumer': 933, 'enlighten': 1522, 'profound': 3520, 'schlosser': 3936, 'attend': 327, 'extremist': 1677, 'moderate': 2939, 'senator': 3993, 'clark': 756, 'sketch': 4121, 'citizen': 745, 'triumph': 4651, 'combination': 819, 'suitable': 4356, 'slog': 4139, 'documented': 1335, 'exposure': 1662, 'mainstream': 2764, 'counter': 995, 'novella': 3102, 'arc': 255, 'lazy': 2619, 'sympathize': 4411, 'imaginative': 2258, 'portion': 3415, 'glue': 1979, 'rid': 3823, 'jonathan': 2500, 'ottoman': 3198, 'custom': 1076, 'focused': 1810, 'synthesis': 4417, 'worthwhile': 4961, 'expansion': 1642, 'starting': 4246, 'clinical': 775, 'thoughtful': 4531, 'meditation': 2859, 'hunt': 2221, 'garden': 1921, 'contrast': 949, 'florence': 1800, 'reiki': 3725, 'newcomer': 3062, 'instructive': 2361, 'healing': 2109, 'matt': 2830, 'nick': 3071, 'temper': 4464, 'narrator': 3023, 'chick': 715, 'meantime': 2847, 'opera': 3166, 'episode': 1550, 'cash': 653, 'bank': 383, 'sharpe': 4041, 'intensity': 2377, 'sam': 3902, 'unfair': 4715, 'execution': 1630, 'own': 3220, 'better': 457, 'evaluate': 1582, 'andrew': 179, 'adversity': 87, 'adapt': 52, 'sugar': 4351, 'lift': 2669, 'trace': 4600, 'humour': 2218, 'investor': 2419, 'sophisticated': 4182, 'primer': 3489, 'flashback': 1788, 'academy': 15, 'naval': 3033, 'disguise': 1296, 'alternate': 148, 'conscious': 910, 'lucid': 2738, 'guise': 2055, 'marketing': 2799, 'warehouse': 4853, 'oracle': 3178, 'tune': 4666, 'rewrite': 3816, 'architecture': 258, 'hardware': 2088, 'database': 1103, 'maximum': 2836, 'basis': 398, 'respond': 3792, 'behaviour': 432, 'cognitive': 793, 'thesis': 4514, 'publicly': 3565, 'adaptation': 53, 'resistance': 3786, 'interaction': 2381, 'phenomenon': 3327, 'mystical': 3008, 'justification': 2525, 'underlie': 4706, 'fare': 1711, 'stiff': 4273, 'objection': 3120, 'pascal': 3264, 'contribution': 951, 'comedy': 822, 'katherine': 2534, 'refuse': 3709, 'insult': 2364, 'shall': 4034, 'desperate': 1208, 'dominate': 1342, 'tyrant': 4687, 'wound': 4964, 'describes': 1198, 'examination': 1610, 'murray': 2996, 'bowen': 534, 'nuclear': 3109, 'observe': 3124, 'crop': 1044, 'christmas': 733, 'observer': 3125, 'franklin': 1867, 'jazz': 2468, 'addict': 56, 'clean': 763, 'addiction': 57, 'proceed': 3507, 'artistic': 285, 'redeem': 3694, 'charlie': 698, 'resolution': 3787, 'tragedy': 4609, 'narration': 3021, 'joyce': 2508, 'virginia': 4816, 'beneath': 444, 'substantial': 4332, 'aesthetic': 92, 'forth': 1843, 'gender': 1931, 'howard': 2203, 'roof': 3857, 'lynn': 2746, 'mentality': 2872, 'pertain': 3319, 'irritate': 2432, 'lisa': 2688, 'rape': 3632, 'cleverly': 768, 'jonas': 2499, 'simulation': 4098, 'fix': 1785, 'file': 1758, 'rivet': 3838, 'loser': 2722, 'january': 2461, 'lonely': 2712, 'resident': 3784, 'chris': 728, 'morris': 2968, 'race': 3611, 'typo': 4686, 'annoying': 199, 'distraction': 1314, 'few': 1745, 'international': 2390, 'brazil': 546, 'launch': 2609, 'lawyer': 2615, 'fluid': 1806, 'vulnerable': 4839, 'prospective': 3542, 'joint': 2497, 'flexibility': 1795, 'injury': 2336, 'diagnose': 1235, 'fitness': 1782, 'prescription': 3469, 'relief': 3739, 'percent': 3298, 'nutritional': 3116, 'massachusetts': 2817, 'suffers': 4348, 'diagnosis': 1236, 'humble': 2213, 'direct': 1269, 'sanity': 3907, 'ray': 3645, 'magical': 2757, 'tightly': 4553, 'plate': 3370, 'psychiatry': 3558, 'plausible': 3373, 'unbelievable': 4697, 'motivation': 2976, 'psychologist': 3561, 'throat': 4539, 'pivotal': 3359, 'random': 3627, 'regret': 3719, 'brush': 577, 'oppose': 3173, 'hornby': 2188, 'duck': 1382, 'antique': 210, 'stock': 4279, 'jenkins': 2474, 'response': 3793, 'expression': 1664, 'skillfully': 4124, 'hemingway': 2131, 'hire': 2151, 'remote': 3753, 'meat': 2850, 'spouse': 4229, 'thirty': 4524, 'widow': 4913, 'tracy': 4602, 'matthew': 2832, 'hotel': 2198, 'fund': 1905, 'wade': 4840, 'frighten': 1885, 'jill': 2486, 'contemplate': 936, 'perry': 3310, 'neighbor': 3051, 'stilted': 4275, 'compassionate': 848, 'absurd': 10, 'provoking': 3556, 'frustrated': 1894, 'empty': 1490, 'dictionary': 1247, 'boston': 530, 'trivia': 4652, 'tourist': 4593, 'chamber': 685, 'newspaper': 3065, 'aftermath': 99, 'employment': 1489, 'flee': 1792, 'cia': 740, 'employer': 1488, 'extension': 1667, 'tennessee': 4473, 'license': 2662, 'construction': 928, 'truck': 4657, 'emerge': 1473, 'fake': 1697, 'fleet': 1793, 'notable': 3093, 'sector': 3970, 'invisible': 2420, 'retirement': 3802, 'knock': 2570, 'alaska': 123, 'anne': 195, 'candy': 626, 'substance': 4331, 'administrator': 65, 'dump': 1388, 'driver': 1375, 'outdated': 3201, 'eliminate': 1455, 'doc': 1330, 'princeton': 3492, 'bell': 439, 'curve': 1073, 'drill': 1370, 'reasoning': 3670, 'kaplan': 2528, 'nutshell': 3117, 'score': 3945, 'exceptional': 1617, 'whale': 4893, 'eloquent': 1462, 'consideration': 917, 'working': 4955, 'vegetarian': 4785, 'necessarily': 3041, 'admission': 71, 'burger': 594, 'fragile': 1857, 'remarkably': 3747, 'secondary': 3965, 'visualize': 4827, 'refugee': 3708, 'ww': 4973, 'syndrome': 4414, 'lit': 2692, 'crack': 1013, 'positively': 3423, 'informant': 2323, 'insurance': 2365, 'allied': 136, 'retain': 3800, 'regulation': 3721, 'secure': 3972, 'profession': 3515, 'integrity': 2369, 'convict': 963, 'correction': 983, 'expedition': 1645, 'plane': 3365, 'hypothesis': 2228, 'fly': 1807, 'thick': 4515, 'thief': 4516, 'instantly': 2355, 'arena': 262, 'prediction': 3457, 'max': 2835, 'obsession': 3127, 'frustration': 1896, 'hannibal': 2076, 'benjamin': 447, 'contrive': 953, 'wealthy': 4871, 'hack': 2062, 'scholarship': 3939, 'engaging': 1510, 'economist': 1418, 'jesse': 2479, 'knack': 2567, 'excuse': 1628, 'distract': 1313, 'foot': 1820, 'progressive': 3527, 'republican': 3773, 'discourse': 1286, 'simplistic': 4095, 'denial': 1181, 'endorse': 1503, 'meticulous': 2886, 'moses': 2970, 'urban': 4749, 'intellect': 2370, 'embody': 1471, 'giant': 1959, 'amongst': 166, 'isabel': 2434, 'afterward': 101, 'unforgettable': 4718, 'permanent': 3308, 'quotation': 3607, 'drama': 1361, 'sink': 4108, 'brook': 572, 'georgia': 1952, 'condemn': 886, 'quiet': 3599, 'fourth': 1855, 'feat': 1731, 'hype': 2227, 'cram': 1016, 'electronic': 1449, 'finding': 1768, 'mathematics': 2828, 'lion': 2687, 'william': 4917, 'provocative': 3554, 'dogma': 1337, 'classroom': 761, 'assistant': 307, 'screen': 3951, 'april': 250, 'diminish': 1265, 'medal': 2854, 'cloud': 785, 'painting': 3233, 'apple': 238, 'scar': 3929, 'wall': 4846, 'vary': 4780, 'disturbing': 1318, 'survey': 4388, 'jeff': 2471, 'asian': 289, 'jungle': 2521, 'fighter': 1755, 'sweep': 4402, 'countryside': 999, 'glorious': 1974, 'revolutionary': 3813, 'alarm': 122, 'torture': 4584, 'warfare': 4854, 'worship': 4959, 'ordeal': 3179, 'award': 358, 'whimsical': 4901, 'toy': 4599, 'sarcasm': 3910, 'cringe': 1036, 'kidd': 2549, 'outlook': 3203, 'briefly': 560, 'texas': 4492, 'santa': 3908, 'instance': 2353, 'punishment': 3572, 'profit': 3519, 'martin': 2809, 'lake': 2588, 'seeker': 3978, 'governor': 2001, 'awhile': 365, 'prime': 3488, 'invent': 2411, 'digital': 1260, 'recording': 3687, 'buddhist': 581, 'resemble': 3783, 'cowboy': 1012, 'definitive': 1160, 'platform': 3371, 'russian': 3882, 'carrier': 647, 'terminal': 4477, 'limited': 2680, 'fortunate': 1844, 'thankful': 4496, 'shoulder': 4066, 'breadth': 548, 'portrait': 3416, 'extensively': 1669, 'studio': 4319, 'agreement': 110, 'domestic': 1340, 'decisive': 1137, 'excessive': 1621, 'protest': 3547, 'peasant': 3289, 'informed': 2326, 'physically': 3343, 'depress': 1190, 'misery': 2921, 'capable': 629, 'truely': 4659, 'abstract': 9, 'quantity': 3589, 'division': 1325, 'geometry': 1950, 'drag': 1358, 'mentally': 2873, 'shine': 4051, 'precision': 3453, 'accompany': 23, 'delicate': 1166, 'guest': 2049, 'everest': 1591, 'likable': 2672, 'hardback': 2084, 'photographer': 3336, 'magnificent': 2759, 'revelation': 3806, 'jerusalem': 2478, 'lost': 2724, 'literally': 2693, 'mercy': 2876, 'luke': 2742, 'hong': 2178, 'foray': 1823, 'incarnation': 2290, 'lunch': 2743, 'imply': 2274, 'appal': 229, 'accuracy': 29, 'inaccurate': 2288, 'genetics': 1940, 'biology': 478, 'drink': 1371, 'echo': 1415, 'heartbreaking': 2115, 'keeper': 2540, 'hart': 2098, 'morgan': 2965, 'rumor': 3874, 'lily': 2677, 'los': 2720, 'angeles': 183, 'wipe': 4929, 'graphic': 2019, 'earlier': 1403, 'extraordinarily': 1673, 'norm': 3084, 'blurb': 505, 'neil': 3053, 'equip': 1555, 'stereotype': 4266, 'hooker': 2182, 'lane': 2593, 'household': 2201, 'entrance': 1542, 'repair': 3758, 'income': 2295, 'arrival': 274, 'vendor': 4787, 'beer': 424, 'creek': 1030, 'oddly': 3141, 'rapidly': 3634, 'spiral': 4218, 'counterpart': 996, 'upbringing': 4741, 'affair': 93, 'shortly': 4064, 'cynical': 1081, 'ensure': 1528, 'approximately': 249, 'ignorance': 2241, 'interface': 2386, 'evaluation': 1583, 'pro': 3503, 'con': 873, 'tutor': 4671, 'madness': 2752, 'craig': 1015, 'pat': 3273, 'recovery': 3690, 'fisher': 1778, 'disaster': 1281, 'erik': 1560, 'football': 1821, 'playing': 3377, 'sue': 4345, 'kinsey': 2560, 'audio': 337, 'yearn': 4983, 'corner': 977, 'anytime': 219, 'gripping': 2035, 'biographical': 475, 'pet': 3321, 'naive': 3013, 'exquisite': 1665, 'sf': 4029, 'coincidence': 797, 'notebook': 3095, 'uncertainty': 4699, 'evident': 1599, 'mike': 2899, 'norton': 3090, 'routine': 3867, 'virus': 4821, 'mouse': 2981, 'basketball': 400, 'disgust': 1297, 'station': 4251, 'marquez': 2800, 'unbiased': 4698, 'mundane': 2992, 'millennium': 2902, 'assassination': 297, 'theatre': 4501, 'enchant': 1493, 'hobbit': 2160, 'assign': 303, 'investigative': 2416, 'council': 993, 'recover': 3689, 'reporter': 3766, 'simultaneously': 4099, 'instructor': 2362, 'legacy': 2638, 'continent': 941, 'alexander': 128, 'conquer': 907, 'carter': 650, 'debunk': 1126, 'implausible': 2270, 'enjoyed': 1520, 'strictly': 4305, 'adorable': 78, 'appetite': 236, 'connor': 906, 'desperately': 1209, 'backdrop': 369, 'bruce': 576, 'shore': 4061, 'familiarity': 1702, 'invite': 2421, 'intuitive': 2408, 'snow': 4153, 'psychic': 3559, 'nanny': 3018, 'mitch': 2930, 'reunite': 3804, 'williams': 4918, 'vegetable': 4784, 'ridiculous': 3826, 'blah': 488, 'protestant': 3548, 'pregnancy': 3461, 'paradox': 3244, 'lyric': 2748, 'equipment': 1556, 'hike': 2147, 'diverse': 1321, 'colorado': 813, 'ya': 4976, 'grand': 2011, 'duke': 1384, 'polish': 3398, 'orthodox': 3193, 'faithful': 1696, 'formal': 1835, 'mutual': 3004, 'icon': 2232, 'edward': 1432, 'dinner': 1267, 'interestingly': 2385, 'fabric': 1683, 'douglas': 1352, 'pale': 3236, 'beside': 450, 'monumental': 2957, 'assure': 312, 'sum': 4358, 'solar': 4162, 'dna': 1328, 'cell': 674, 'refute': 3710, 'square': 4233, 'improbable': 2283, 'diversity': 1322, 'specie': 4204, 'statistical': 4253, 'parker': 3251, 'diver': 1320, 'reporting': 3767, 'graham': 2008, 'prep': 3465, 'paced': 3224, 'photoshop': 3338, 'abundance': 11, 'overnight': 3214, 'yellow': 4984, 'applicable': 239, 'inadequate': 2289, 'plainly': 3363, 'coach': 788, 'retire': 3801, 'investment': 2418, 'elite': 1457, 'athlete': 319, 'bridge': 557, 'shocking': 4056, 'declare': 1140, 'asp': 293, 'shirley': 4054, 'nod': 3079, 'charles': 697, 'activist': 43, 'fringe': 1887, 'dominant': 1341, 'consistently': 920, 'village': 4809, 'molly': 2945, 'ethnic': 1579, 'prepared': 3468, 'cup': 1065, 'simpson': 4097, 'junior': 2522, 'assignment': 304, 'modeling': 2938, 'corp': 979, 'phrase': 3340, 'immense': 2262, 'costume': 988, 'stubborn': 4317, 'confess': 891, 'spice': 4215, 'grocery': 2038, 'judith': 2512, 'laughter': 2608, 'suspicion': 4397, 'autism': 347, 'initiative': 2335, 'qualify': 3587, 'plato': 3372, 'educator': 1431, 'participation': 3256, 'minority': 2916, 'grafton': 2007, 'martha': 2806, 'fanatic': 1706, 'blank': 493, 'battlefield': 405, 'custer': 1075, 'protocol': 3549, 'duty': 1393, 'frontier': 1890, 'influential': 2320, 'stressful': 4302, 'mormon': 2966, 'depiction': 1189, 'ignorant': 2242, 'arab': 252, 'wayne': 4867, 'heroic': 2137, 'superman': 4369, 'batman': 403, 'nancy': 3017, 'castle': 656, 'freshman': 1879, 'egypt': 1439, 'engine': 1511, 'brilliance': 562, 'junk': 2523, 'hopefully': 2185, 'validity': 4768, 'atheist': 318, 'sermon': 4012, 'begining': 427, 'mining': 2912, 'terry': 4487, 'pratchett': 3446, 'charming': 701, 'electric': 1447, 'volunteer': 4835, 'subtlety': 4336, 'seattle': 3963, 'olivia': 3157, 'handbook': 2069, 'superbly': 4366, 'oscar': 3195, 'pool': 3405, 'ticket': 4548, 'celebrity': 673, 'usage': 4753, 'impart': 2268, 'folklore': 1812, 'tyler': 4682, 'palm': 3239, 'resort': 3789, 'ambitious': 162, 'wholly': 4906, 'sensible': 3997, 'valid': 4767, 'distinct': 1309, 'victorian': 4800, 'heartily': 2117, 'sentiment': 4002, 'kim': 2555, 'darwin': 1101, 'tempt': 4468, 'avoids': 354, 'institute': 2358, 'id': 2233, 'caricature': 643, 'confederate': 889, 'string': 4308, 'spending': 4214, 'daniel': 1093, 'mason': 2815, 'piano': 3346, 'tim': 4555, 'trigger': 4646, 'belt': 442, 'decorate': 1142, 'grain': 2009, 'salt': 3901, 'meg': 2863, 'ryan': 3884, 'monologue': 2952, 'tragic': 4610, 'disney': 1301, 'experimental': 1651, 'intensely': 2376, 'reject': 3727, 'empathy': 1481, 'band': 381, 'fifth': 1752, 'fifteen': 1751, 'ball': 380, 'bathroom': 402, 'holly': 2166, 'reacher': 3648, 'unhappy': 4721, 'signal': 4080, 'matlab': 2829, 'distribution': 1315, 'array': 272, 'algorithm': 130, 'spectrum': 4208, 'deliberately': 1165, 'amusing': 170, 'founding': 1852, 'zen': 4995, 'entrepreneur': 1543, 'selling': 3989, 'nut': 3114, 'idiot': 2240, 'freak': 1870, 'deceive': 1131, 'theater': 4500, 'rotten': 3863, 'destructive': 1217, 'marx': 2812, 'gun': 2057, 'injustice': 2337, 'lucy': 2741, 'adulthood': 81, 'acquire': 38, 'inevitable': 2315, 'thereby': 4512, 'closure': 782, 'dealt': 1120, 'bat': 401, 'controversy': 956, 'vacuum': 4765, 'wont': 4948, 'suspenseful': 4396, 'vehicle': 4786, 'bedtime': 422, 'baron': 390, 'pun': 3570, 'yeltsin': 4985, 'predecessor': 3454, 'virtual': 4818, 'furthermore': 1911, 'wag': 4841, 'nicholas': 3070, 'tank': 4430, 'tiny': 4560, 'humiliation': 2214, 'paris': 3249, 'oregon': 3182, 'compilation': 855, 'carson': 649, 'como': 841, 'una': 4695, 'para': 3242, 'un': 4694, 'que': 3592, 'en': 1491, 'este': 1573, 'libro': 2661, 'si': 4071, 'contract': 945, 'administration': 64, 'snack': 4152, 'raymond': 3646, 'resist': 3785, 'embed': 1470, 'anxiously': 214, 'toilet': 4569, 'iii': 2245, 'iv': 2446, 'albeit': 124, 'vinci': 4811, 'loyal': 2735, 'animation': 191, 'digest': 1259, 'evoke': 1602, 'ufo': 4688, 'prophecy': 3538, 'claire': 751, 'reminder': 3751, 'perceive': 3297, 'void': 4833, 'kit': 2563, 'dawn': 1111, 'mate': 2824, 'intention': 2379, 'cable': 606, 'outright': 3206, 'practically': 3442, 'angle': 186, 'annie': 196, 'dedication': 1145, 'rough': 3864, 'jeffrey': 2473, 'trek': 4635, 'sixth': 4116, 'nearby': 3038, 'synopsis': 4415, 'split': 4225, 'bury': 596, 'strip': 4309, 'moreover': 2964, 'exegesis': 1632, 'preach': 3449, 'weigh': 4884, 'goddess': 1984, 'intrepid': 2399, 'von': 4836, 'secretary': 3967, 'biased': 461, 'undergraduate': 4704, 'maintenance': 2766, 'ancestor': 176, 'eventual': 1588, 'uncover': 4703, 'conventional': 959, 'transition': 4619, 'gifted': 1961, 'glossy': 1978, 'systematic': 4419, 'russell': 3880, 'harness': 2091, 'adequately': 62, 'extend': 1666, 'heaven': 2120, 'afternoon': 100, 'becuase': 420, 'kong': 2576, 'angie': 185, 'paranormal': 3247, 'triangle': 4640, 'jacob': 2452, 'bless': 496, 'biblical': 463, 'span': 4195, 'olive': 3156, 'sawyer': 3923, 'globe': 1973, 'html': 2206, 'harold': 2092, 'grandma': 2014, 'gradually': 2005, 'superficial': 4367, 'acquaintance': 37, 'jefferson': 2472, 'surgeon': 4380, 'nelson': 3055, 'turkey': 4667, 'sympathy': 4412, 'koontz': 2577, 'drawback': 1364, 'dialect': 1238, 'ace': 33, 'sic': 4073, 'lemon': 2644, 'sand': 3905, 'readily': 3654, 'filler': 1760, 'fundamentalist': 1907, 'shipping': 4053, 'inhabit': 2330, 'territory': 4483, 'twain': 4674, 'yard': 4979, 'adolescence': 74, 'racial': 3613, 'hone': 2174, 'teller': 4462, 'happily': 2079, 'mindset': 2909, 'inferior': 2318, 'ender': 1500, 'hugo': 2210, 'tiresome': 4564, 'drinking': 1372, 'acceptable': 17, 'orientation': 3187, 'dennis': 1182, 'patrick': 3279, 'rap': 3631, 'por': 3412, 'lo': 2702, 'el': 1444, 'su': 4326, 'genetic': 1939, 'diana': 1242, 'galaxy': 1916, 'damage': 1086, 'flynn': 1808, 'robin': 3843, 'pope': 3409, 'reformation': 3704, 'calvin': 614, 'dragonlance': 1360, 'darker': 1098, 'alter': 147, 'drawn': 1366, 'smash': 4145, 'revenge': 3807, 'las': 2598, 'derivative': 1193, 'st': 4234, 'kevin': 2545, 'kelly': 2541, 'caution': 668, 'mediocre': 2858, 'realization': 3663, 'sooner': 4181, 'traveler': 4629, 'quiz': 3605, 'devastating': 1225, 'abortion': 5, 'peek': 3290, 'lifelong': 2666, 'christy': 735, 'invention': 2412, 'clothing': 784, 'philip': 3328, 'questionable': 3596, 'hugely': 2209, 'arguably': 263, 'symptom': 4413, 'sexuality': 4027, 'cake': 608, 'bake': 376, 'birthday': 481, 'flour': 1802, 'kitchen': 2564, 'challenging': 684, 'bonus': 518, 'someday': 4170, 'chemistry': 711, 'hibernate': 2141, 'elliott': 1461, 'via': 4796, 'bauer': 406, 'forbidden': 1824, 'ugly': 4689, 'bull': 591, 'prince': 3490, 'whereas': 4897, 'beloved': 441, 'calendar': 610, 'adjust': 63, 'jan': 2458, 'portfolio': 3414, 'esoteric': 1564, 'pp': 3440, 'peterson': 3323, 'berman': 448, 'factual': 1689, 'societal': 4156, 'prophet': 3539, 'stir': 4278, 'preference': 3460, 'experimentation': 1652, 'authoritative': 345, 'toss': 4585, 'anthropology': 206, 'spider': 4216, 'horrific': 2191, 'maid': 2760, 'rabbi': 3609, 'profoundly': 3521, 'secretly': 3968, 'cinema': 741, 'destruction': 1216, 'arabia': 253, 'discourage': 1285, 'skeptical': 4120, 'needless': 3046, 'formation': 1837, 'katie': 2535, 'dickens': 1245, 'differently': 1255, 'dick': 1244, 'courageous': 1003, 'emergency': 1474, 'lab': 2581, 'recollection': 3681, 'swift': 4404, 'deed': 1146, 'morrison': 2969, 'phoenix': 3332, 'juice': 2514, 'robinson': 3844, 'seminary': 3991, 'amber': 160, 'vague': 4766, 'compass': 846, 'seminar': 3990, 'rightly': 3830, 'egyptian': 1440, 'mechanical': 2852, 'quit': 3603, 'smoke': 4149, 'magick': 2758, 'biographer': 474, 'trio': 4648, 'suspend': 4394, 'nowak': 3105, 'asleep': 292, 'holmes': 2168, 'sadness': 3890, 'buffy': 586, 'till': 4554, 'violate': 4812, 'discus': 1291, 'cole': 799, 'invasion': 2410, 'maurice': 2834, 'sylvia': 4408, 'obscure': 3122, 'gon': 1988, 'na': 3011, 'jerk': 2477, 'mound': 2978, 'fierce': 1750, 'disbelief': 1282, 'honorable': 2180, 'mi': 2889, 'mia': 2890, 'leap': 2627, 'agatha': 102, 'tea': 4442, 'fishing': 1780, 'admirably': 67, 'survivor': 4391, 'lloyd': 2701, 'beck': 417, 'celebrate': 671, 'gory': 1996, 'decline': 1141, 'constance': 922, 'orleans': 3191, 'impulse': 2286, 'ethic': 1577, 'trauma': 4626, 'jimmy': 2488, 'roosevelt': 3859, 'dealing': 1119, 'partisan': 3259, 'saudi': 3917, 'thankfully': 4497, 'gaiman': 1914, 'doll': 1338, 'basket': 399, 'mccullough': 2840, 'adams': 51, 'louisiana': 2728, 'monstrous': 2954, 'midst': 2896, 'builder': 589, 'newly': 3063, 'behalf': 430, 'cleo': 766, 'divorce': 1326, 'manipulation': 2783, 'yoga': 4990, 'convoluted': 967, 'attain': 325, 'maggie': 2755, 'duncan': 1389, 'reich': 3723, 'sullivan': 4357, 'applaud': 237, 'trader': 4604, 'momentum': 2948, 'incomplete': 2296, 'devour': 1234, 'ingenious': 2327, 'scare': 3930, 'lavender': 2611, 'tribal': 4641, 'steve': 4268, 'totalitarian': 4587, 'external': 1671, 'huey': 2207, 'negotiation': 3050, 'crichton': 1033, 'purely': 3577, 'strain': 4291, 'nobel': 3076, 'unsettling': 4737, 'pursuit': 3582, 'rand': 3626, 'eyre': 1680, 'mcpherson': 2841, 'gettysburg': 1957, 'forge': 1830, 'enlist': 1524, 'zone': 4999, 'dissect': 1306, 'theorem': 4507, 'vow': 4838, 'margaret': 2793, 'tuna': 4665, 'dessert': 1211, 'classical': 760, 'destination': 1212, 'admirable': 66, 'herb': 2134, 'continental': 942, 'punch': 3571, 'closing': 781, 'iran': 2425, 'pakistan': 3235, 'protection': 3546, 'julie': 2516, 'guardian': 2047, 'downside': 1355, 'sinister': 4107, 'proceeds': 3508, 'trite': 4650, 'oprah': 3176, 'yesterday': 4987, 'wolf': 4943, 'bolt': 513, 'exile': 1637, 'carolina': 646, 'ivy': 2447, 'undertake': 4712, 'scotland': 3946, 'punk': 3573, 'intertwine': 2394, 'controversial': 955, 'palestinian': 3238, 'mafia': 2753, 'iceland': 2231, 'whip': 4902, 'friedman': 1881, 'weber': 4877, 'cooper': 972, 'devotion': 1233, 'convenient': 957, 'league': 2625, 'jar': 2464, 'lasting': 2600, 'vile': 4808, 'chef': 709, 'astrid': 316, 'ingrid': 2329, 'janet': 2460, 'district': 1316, 'ex': 1606, 'assault': 298, 'porter': 3413, 'ranch': 3625, 'beg': 425, 'welfare': 4888, 'anthropologist': 205, 'covenantal': 1008, 'follower': 1814, 'clarify': 754, 'jealous': 2469, 'hawk': 2106, 'culminate': 1060, 'molecular': 2944, 'perilous': 3305, 'amy': 171, 'mama': 2774, 'traumatic': 4627, 'oates': 3118, 'delta': 1173, 'winchester': 4922, 'watson': 4864, 'bug': 587, 'colour': 815, 'breathe': 551, 'inhabitant': 2331, 'cruelty': 1052, 'salinger': 3900, 'eysturlid': 1681, 'archduke': 256, 'alongside': 142, 'tap': 4431, 'shut': 4069, 'barry': 392, 'rashid': 3637, 'submarine': 4328, 'wireless': 4930, 'tiger': 4551, 'ape': 225, 'browse': 575, 'diner': 1266, 'interior': 2387, 'zinn': 4997, 'modest': 2941, 'stuart': 4316, 'tomorrow': 4577, 'sonnet': 4179, 'permeate': 3309, 'mallory': 2773, 'inspector': 2347, 'melanie': 2864, 'encompass': 1494, 'secular': 3971, 'kirkus': 2561, 'unto': 4738, 'anika': 189, 'plow': 3386, 'murphy': 2995, 'progression': 3526, 'illustrator': 2253, 'june': 2520, 'karl': 2531, 'persian': 3311, 'turkish': 4668, 'bernard': 449, 'holden': 2162, 'jackie': 2450, 'september': 4005, 'miscarriage': 2920, 'grandchild': 2012, 'wendy': 4890, 'clay': 762, 'horn': 2187, 'candle': 625, 'dated': 1105, 'downright': 1354, 'rumsfeld': 3875, 'subway': 4337, 'kiyosaki': 2565, 'stephanie': 4264, 'admiral': 68, 'vignette': 4806, 'nostalgia': 3092, 'modify': 2942, 'feist': 1738, 'elephant': 1453, 'garlic': 1922, 'webster': 4879, 'skinner': 4127, 'striking': 4307, 'neutral': 3058, 'newton': 3066, 'wage': 4842, 'giver': 1967, 'chord': 727, 'utter': 4762, 'assistance': 306, 'camille': 617, 'greece': 2027, 'saddam': 3888, 'booker': 520, 'unwanted': 4740, 'forrest': 1840, 'simmons': 4090, 'woodward': 4950, 'donald': 1343, 'barnes': 389, 'yale': 4977, 'ram': 3622, 'camera': 616, 'jet': 2481, 'caulfield': 666, 'gulf': 2056, 'brad': 540, 'firearm': 1773, 'auc': 335, 'martian': 2808, 'tony': 4580, 'forsyth': 1841, 'furniture': 1910, 'fdr': 1729, 'ovason': 3209, 'virgo': 4817, 'stewart': 4271, 'chronic': 736, 'infant': 2317, 'scan': 3927, 'isolated': 2439, 'greene': 2030, 'arrogance': 276, 'ado': 73, 'gabriel': 1913, 'rear': 3667, 'indispensable': 2310, 'buffet': 585, 'trae': 4608, 'heidi': 2125, 'workbook': 4953, 'unconscious': 4702, 'anticipation': 209, 'php': 3339, 'mysql': 3005, 'charlotte': 699, 'elvis': 1466, 'crypto': 1055, 'lietwiler': 2664, 'mina': 2906, 'ralph': 3621, 'upside': 4748, 'houston': 2202, 'colonel': 809, 'jenna': 2475, 'maximus': 2837, 'ian': 2229, 'rifkin': 3827, 'pooh': 3404, 'kardon': 2529, 'cuba': 1057, 'statue': 4254, 'les': 2648, 'blyth': 506, 'manhattan': 2781, 'cassette': 654, 'reggie': 3715, 'arco': 260, 'crowley': 1048, 'ainslie': 115, 'jasper': 2466, 'hannah': 2075, 'reichl': 3724, 'apollo': 226, 'armenian': 268, 'antiwar': 211, 'annotation': 197, 'rushdie': 3879, 'artemis': 278, 'dunklee': 1390, 'cattle': 665, 'drought': 1378, 'zacharias': 4994, 'atheism': 317, 'theism': 4502, 'astin': 313, 'elric': 1463, 'alton': 152, 'kolchin': 2575, 'lopez': 2717, 'kaspar': 2532, 'julien': 2517, 'gmat': 1980, 'gilly': 1962, 'mitford': 2931, 'dallesandro': 1085, 'yanomamo': 4978, 'brechin': 552, 'hydrogen': 2226, 'bridei': 556, 'sayers': 3925, 'ji': 2484, 'fung': 1908, 'harink': 2089, 'marsden': 2804, 'seligman': 3986}\n"
     ]
    }
   ],
   "source": [
    "print(Tfidf_vect.vocabulary_)"
   ]
  },
  {
   "cell_type": "code",
   "execution_count": 16,
   "metadata": {},
   "outputs": [
    {
     "name": "stdout",
     "output_type": "stream",
     "text": [
      "  (0, 4982)\t0.03764144096594896\n",
      "  (0, 4974)\t0.08209487111510068\n",
      "  (0, 4963)\t0.03250120702387735\n",
      "  (0, 4851)\t0.05388536704427414\n",
      "  (0, 4837)\t0.08742626490318463\n",
      "  (0, 4803)\t0.07831218702381412\n",
      "  (0, 4794)\t0.27244925192695074\n",
      "  (0, 4771)\t0.060462986454817826\n",
      "  (0, 4663)\t0.05727003505585017\n",
      "  (0, 4658)\t0.04919084519156253\n",
      "  (0, 4592)\t0.08023985191035618\n",
      "  (0, 4556)\t0.06328114281020443\n",
      "  (0, 4531)\t0.07924072576030546\n",
      "  (0, 4520)\t0.035053477477412824\n",
      "  (0, 4500)\t0.09336934269913459\n",
      "  (0, 4461)\t0.08509212050916093\n",
      "  (0, 4446)\t0.06904953315730133\n",
      "  (0, 4427)\t0.11021197271763773\n",
      "  (0, 4423)\t0.036059637284275796\n",
      "  (0, 4404)\t0.10072763833506068\n",
      "  (0, 4285)\t0.06426107622109453\n",
      "  (0, 4263)\t0.0634741836708721\n",
      "  (0, 4250)\t0.07772769813414053\n",
      "  (0, 4240)\t0.061502645420439164\n",
      "  (0, 4202)\t0.09539624454697675\n",
      "  :\t:\n",
      "  (4370, 153)\t0.10431769383491837\n",
      "  (4370, 139)\t0.10534618289984156\n",
      "  (4370, 12)\t0.154644611853282\n",
      "  (4371, 4957)\t0.09692072470263545\n",
      "  (4371, 4681)\t0.09919740256941276\n",
      "  (4371, 4635)\t0.20951050444818586\n",
      "  (4371, 4530)\t0.26310012097441904\n",
      "  (4371, 4243)\t0.2513948301238254\n",
      "  (4371, 4234)\t0.2310430505948324\n",
      "  (4371, 3803)\t0.1463025819669451\n",
      "  (4371, 3736)\t0.1656783386746921\n",
      "  (4371, 3701)\t0.17386656480965032\n",
      "  (4371, 3641)\t0.3686380807330275\n",
      "  (4371, 3604)\t0.11861939369192052\n",
      "  (4371, 3575)\t0.14883990163195648\n",
      "  (4371, 3482)\t0.1887644534125968\n",
      "  (4371, 3159)\t0.061640508083502965\n",
      "  (4371, 3100)\t0.39732559783841376\n",
      "  (4371, 3061)\t0.18251384844172708\n",
      "  (4371, 2878)\t0.1748687451891237\n",
      "  (4371, 2293)\t0.1103986835097767\n",
      "  (4371, 1989)\t0.07231461921291911\n",
      "  (4371, 1443)\t0.13957435538399895\n",
      "  (4371, 855)\t0.4130994069554278\n",
      "  (4371, 830)\t0.17643537449007332\n"
     ]
    }
   ],
   "source": [
    "print(Train_X_Tfidf)"
   ]
  },
  {
   "cell_type": "code",
   "execution_count": 17,
   "metadata": {},
   "outputs": [
    {
     "name": "stdout",
     "output_type": "stream",
     "text": [
      "Naive Bayes Accuracy Score ->  62.45333333333334\n"
     ]
    }
   ],
   "source": [
    "# fit the training dataset on the NB classifier\n",
    "Naive = naive_bayes.MultinomialNB()\n",
    "Naive.fit(Train_X_Tfidf,Train_Y)\n",
    "# predict the labels on validation dataset\n",
    "predictions_NB = Naive.predict(Test_X_Tfidf)\n",
    "# Use accuracy_score function to get the accuracy\n",
    "print(\"Naive Bayes Accuracy Score -> \",accuracy_score(predictions_NB, Test_Y)*100)"
   ]
  },
  {
   "cell_type": "code",
   "execution_count": null,
   "metadata": {},
   "outputs": [],
   "source": []
  },
  {
   "cell_type": "code",
   "execution_count": 18,
   "metadata": {},
   "outputs": [
    {
     "name": "stdout",
     "output_type": "stream",
     "text": [
      "SVM Accuracy Score ->  63.519999999999996\n"
     ]
    }
   ],
   "source": [
    "# Classifier - Algorithm - SVM\n",
    "# fit the training dataset on the classifier\n",
    "SVM = svm.SVC(C=1.0, kernel='linear', degree=3, gamma='auto')\n",
    "SVM.fit(Train_X_Tfidf,Train_Y)\n",
    "# predict the labels on validation dataset\n",
    "predictions_SVM = SVM.predict(Test_X_Tfidf)\n",
    "# Use accuracy_score function to get the accuracy\n",
    "print(\"SVM Accuracy Score -> \",accuracy_score(predictions_SVM, Test_Y)*100)"
   ]
  },
  {
   "cell_type": "code",
   "execution_count": null,
   "metadata": {},
   "outputs": [],
   "source": []
  },
  {
   "cell_type": "code",
   "execution_count": null,
   "metadata": {},
   "outputs": [],
   "source": [
    "tes"
   ]
  },
  {
   "cell_type": "code",
   "execution_count": null,
   "metadata": {},
   "outputs": [],
   "source": []
  },
  {
   "cell_type": "code",
   "execution_count": null,
   "metadata": {},
   "outputs": [],
   "source": []
  }
 ],
 "metadata": {
  "kernelspec": {
   "display_name": "Python 3",
   "language": "python",
   "name": "python3"
  },
  "language_info": {
   "codemirror_mode": {
    "name": "ipython",
    "version": 3
   },
   "file_extension": ".py",
   "mimetype": "text/x-python",
   "name": "python",
   "nbconvert_exporter": "python",
   "pygments_lexer": "ipython3",
   "version": "3.7.4"
  }
 },
 "nbformat": 4,
 "nbformat_minor": 2
}
