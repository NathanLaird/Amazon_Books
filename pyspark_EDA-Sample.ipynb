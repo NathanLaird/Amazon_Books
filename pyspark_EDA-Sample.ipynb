{
 "cells": [
  {
   "cell_type": "code",
   "execution_count": 1,
   "metadata": {},
   "outputs": [],
   "source": [
    "import pyspark as ps\n",
    "from collections import Counter\n",
    "import pandas as pd\n",
    "import time\n",
    "import matplotlib.pyplot as plt\n",
    "spark = (ps.sql.SparkSession.builder \n",
    "        .master(\"local[4]\") \n",
    "        .appName(\"nathanscope\") \n",
    "        .getOrCreate()\n",
    "        )"
   ]
  },
  {
   "cell_type": "code",
   "execution_count": 2,
   "metadata": {},
   "outputs": [],
   "source": [
    "sc = spark.sparkContext"
   ]
  },
  {
   "cell_type": "code",
   "execution_count": 3,
   "metadata": {},
   "outputs": [
    {
     "name": "stdout",
     "output_type": "stream",
     "text": [
      "0: marketplace\n",
      "1: customer_id\n",
      "2: review_id\n",
      "3: product_id\n",
      "4: product_parent\n",
      "5: product_title\n",
      "6: product_category\n",
      "7: star_rating\n",
      "8: helpful_votes\n",
      "9: total_votes\n",
      "10: vine\n",
      "11: verified_purchase\n",
      "12: review_headline\n",
      "13: review_body\n",
      "14: review_date\n"
     ]
    }
   ],
   "source": [
    "col_names = ['marketplace','customer_id','review_id','product_id','product_parent','product_title','product_category','star_rating','helpful_votes','total_votes','vine','verified_purchase','review_headline','review_body','review_date']\n",
    "cols = {}\n",
    "for i in range(len(col_names)):\n",
    "    print (str(i)+': '+col_names[i])\n",
    "    cols[col_names[i]] = i "
   ]
  },
  {
   "cell_type": "code",
   "execution_count": 4,
   "metadata": {},
   "outputs": [],
   "source": [
    "def casting_function(row):\n",
    "    if row[0] == 'marketplace':\n",
    "        return ()\n",
    "    if len(row)!=15:\n",
    "        return(len(row))\n",
    "    (marketplace, customer_id, review_id, product_id, product_parent, product_title,product_category,star_rating,helpful_votes,total_votes,vine,verified_purchase,review_headline,review_body,review_date) = row\n",
    "    \n",
    "    \n",
    "    return (marketplace, str(customer_id), str(review_id), str(product_id), product_parent, str(product_title),str(product_category),int(star_rating),int(helpful_votes),int(total_votes),vine,verified_purchase,str(review_headline),str(review_body),review_date)\n",
    "\n",
    "\n"
   ]
  },
  {
   "cell_type": "code",
   "execution_count": 5,
   "metadata": {},
   "outputs": [],
   "source": [
    "def time_cast(row):\n",
    "    pattern = '%Y-%m-%d'\n",
    "    row =list(row)\n",
    "    row[14] = int(time.mktime(time.strptime(row[14], pattern)))/86400\n",
    "    return tuple(row)"
   ]
  },
  {
   "cell_type": "code",
   "execution_count": 6,
   "metadata": {},
   "outputs": [],
   "source": [
    "def toCSVLine(data):\n",
    "  return ','.join(str(d) for d in data)"
   ]
  },
  {
   "cell_type": "code",
   "execution_count": null,
   "metadata": {},
   "outputs": [],
   "source": []
  },
  {
   "cell_type": "code",
   "execution_count": 7,
   "metadata": {},
   "outputs": [],
   "source": [
    "rdd_books = (sc.textFile('file:///Users/nathan/Desktop/Amazon/Amazon_Books/data/amazon_reviews_us_Books_v1_00.tsv.gz')\n",
    "            .map(lambda rowstr : rowstr.split(\"\\t\"))\n",
    "            .map(casting_function)\n",
    "           )"
   ]
  },
  {
   "cell_type": "code",
   "execution_count": 8,
   "metadata": {},
   "outputs": [],
   "source": [
    "rdd_books =rdd_books.filter(lambda x: len(x)==15).map(time_cast)"
   ]
  },
  {
   "cell_type": "code",
   "execution_count": 9,
   "metadata": {},
   "outputs": [],
   "source": [
    "#rdd_sample = rdd_books.filter(lambda x: x[14]%50==0)\n",
    "rdd_sample = rdd_books.filter(lambda x: x[7]==1)"
   ]
  },
  {
   "cell_type": "markdown",
   "metadata": {},
   "source": [
    "star_counts = rdd_books.map(lambda x: Counter({x[cols['star_rating']]:1})).reduce(lambda x, y: x+y)"
   ]
  },
  {
   "cell_type": "markdown",
   "metadata": {},
   "source": [
    "rdd_sample.count()"
   ]
  },
  {
   "cell_type": "code",
   "execution_count": 10,
   "metadata": {},
   "outputs": [
    {
     "data": {
      "text/html": [
       "<div>\n",
       "<style scoped>\n",
       "    .dataframe tbody tr th:only-of-type {\n",
       "        vertical-align: middle;\n",
       "    }\n",
       "\n",
       "    .dataframe tbody tr th {\n",
       "        vertical-align: top;\n",
       "    }\n",
       "\n",
       "    .dataframe thead th {\n",
       "        text-align: right;\n",
       "    }\n",
       "</style>\n",
       "<table border=\"1\" class=\"dataframe\">\n",
       "  <thead>\n",
       "    <tr style=\"text-align: right;\">\n",
       "      <th></th>\n",
       "      <th>0</th>\n",
       "      <th>1</th>\n",
       "      <th>2</th>\n",
       "      <th>3</th>\n",
       "      <th>4</th>\n",
       "      <th>5</th>\n",
       "      <th>6</th>\n",
       "      <th>7</th>\n",
       "      <th>8</th>\n",
       "      <th>9</th>\n",
       "      <th>10</th>\n",
       "      <th>11</th>\n",
       "      <th>12</th>\n",
       "      <th>13</th>\n",
       "      <th>14</th>\n",
       "    </tr>\n",
       "  </thead>\n",
       "  <tbody>\n",
       "    <tr>\n",
       "      <th>0</th>\n",
       "      <td>US</td>\n",
       "      <td>34058159</td>\n",
       "      <td>R10QIRBIDAU34P</td>\n",
       "      <td>191052428X</td>\n",
       "      <td>942262122</td>\n",
       "      <td>The New Reaction</td>\n",
       "      <td>Books</td>\n",
       "      <td>1</td>\n",
       "      <td>9</td>\n",
       "      <td>12</td>\n",
       "      <td>N</td>\n",
       "      <td>N</td>\n",
       "      <td>Completely Terrible</td>\n",
       "      <td>Fortunately, I read this for free via Amazon's...</td>\n",
       "      <td>16678.291667</td>\n",
       "    </tr>\n",
       "    <tr>\n",
       "      <th>1</th>\n",
       "      <td>US</td>\n",
       "      <td>9124640</td>\n",
       "      <td>R1YVO0YNQYFTY4</td>\n",
       "      <td>1566845181</td>\n",
       "      <td>878587221</td>\n",
       "      <td>The Baby Grand: A True Mother's Day Love Story</td>\n",
       "      <td>Books</td>\n",
       "      <td>1</td>\n",
       "      <td>5</td>\n",
       "      <td>5</td>\n",
       "      <td>N</td>\n",
       "      <td>Y</td>\n",
       "      <td>This is an essay, not a short story, barely 17...</td>\n",
       "      <td>Unfortunately, I didn't realize what I was buy...</td>\n",
       "      <td>16678.291667</td>\n",
       "    </tr>\n",
       "    <tr>\n",
       "      <th>2</th>\n",
       "      <td>US</td>\n",
       "      <td>21366438</td>\n",
       "      <td>R28BDX8MNMRK0C</td>\n",
       "      <td>1464109273</td>\n",
       "      <td>99307772</td>\n",
       "      <td>Exploring Psychology in Modules (Loose Leaf)</td>\n",
       "      <td>Books</td>\n",
       "      <td>1</td>\n",
       "      <td>0</td>\n",
       "      <td>0</td>\n",
       "      <td>N</td>\n",
       "      <td>Y</td>\n",
       "      <td>no.</td>\n",
       "      <td>zero stars if I could. I received the wrong book.</td>\n",
       "      <td>16678.291667</td>\n",
       "    </tr>\n",
       "    <tr>\n",
       "      <th>3</th>\n",
       "      <td>US</td>\n",
       "      <td>38851864</td>\n",
       "      <td>R3E7686UOSWVI7</td>\n",
       "      <td>0143039989</td>\n",
       "      <td>514925319</td>\n",
       "      <td>The Haunting of Hill House (Penguin Classics)</td>\n",
       "      <td>Books</td>\n",
       "      <td>1</td>\n",
       "      <td>2</td>\n",
       "      <td>12</td>\n",
       "      <td>N</td>\n",
       "      <td>N</td>\n",
       "      <td>What an underdeveloped, unoriginal waste of time</td>\n",
       "      <td>First off, I have no idea who is writing the 5...</td>\n",
       "      <td>16678.291667</td>\n",
       "    </tr>\n",
       "    <tr>\n",
       "      <th>4</th>\n",
       "      <td>US</td>\n",
       "      <td>52534000</td>\n",
       "      <td>R107KYALGWON5I</td>\n",
       "      <td>1629983004</td>\n",
       "      <td>944142850</td>\n",
       "      <td>El misterio del Shemitá: 3000 años de antigüed...</td>\n",
       "      <td>Books</td>\n",
       "      <td>1</td>\n",
       "      <td>0</td>\n",
       "      <td>0</td>\n",
       "      <td>N</td>\n",
       "      <td>N</td>\n",
       "      <td>Caution: Cahn's theory is contradicted by empi...</td>\n",
       "      <td>I am a lecturer in empirical research methods ...</td>\n",
       "      <td>16678.291667</td>\n",
       "    </tr>\n",
       "    <tr>\n",
       "      <th>5</th>\n",
       "      <td>US</td>\n",
       "      <td>4610105</td>\n",
       "      <td>R1O55T7M4CHTD0</td>\n",
       "      <td>1934759295</td>\n",
       "      <td>609341244</td>\n",
       "      <td>Buddha's Wife</td>\n",
       "      <td>Books</td>\n",
       "      <td>1</td>\n",
       "      <td>0</td>\n",
       "      <td>0</td>\n",
       "      <td>N</td>\n",
       "      <td>Y</td>\n",
       "      <td>While I normally love reading fictional storie...</td>\n",
       "      <td>While I normally love reading fictional storie...</td>\n",
       "      <td>16678.291667</td>\n",
       "    </tr>\n",
       "    <tr>\n",
       "      <th>6</th>\n",
       "      <td>US</td>\n",
       "      <td>8391381</td>\n",
       "      <td>R29E1HKT45SQ97</td>\n",
       "      <td>161767737X</td>\n",
       "      <td>561937478</td>\n",
       "      <td>Panorama 4th Supersite PLUS CODE (includes Cod...</td>\n",
       "      <td>Books</td>\n",
       "      <td>1</td>\n",
       "      <td>0</td>\n",
       "      <td>0</td>\n",
       "      <td>N</td>\n",
       "      <td>Y</td>\n",
       "      <td>TOOK MY MONEY/SENT ME NOTHING</td>\n",
       "      <td>this place is not legit</td>\n",
       "      <td>16678.291667</td>\n",
       "    </tr>\n",
       "    <tr>\n",
       "      <th>7</th>\n",
       "      <td>US</td>\n",
       "      <td>15960945</td>\n",
       "      <td>R2TTB52MHCBXZM</td>\n",
       "      <td>0764210661</td>\n",
       "      <td>935522247</td>\n",
       "      <td>Your Beautiful Purpose: Discovering and Enjoyi...</td>\n",
       "      <td>Books</td>\n",
       "      <td>1</td>\n",
       "      <td>0</td>\n",
       "      <td>2</td>\n",
       "      <td>N</td>\n",
       "      <td>Y</td>\n",
       "      <td>One Star</td>\n",
       "      <td>boring book.</td>\n",
       "      <td>16678.291667</td>\n",
       "    </tr>\n",
       "    <tr>\n",
       "      <th>8</th>\n",
       "      <td>US</td>\n",
       "      <td>15960945</td>\n",
       "      <td>RAU08QQ9G9TUF</td>\n",
       "      <td>B00CC6ETU2</td>\n",
       "      <td>486809418</td>\n",
       "      <td>Finding the Game: Three Years, Twenty-five Cou...</td>\n",
       "      <td>Books</td>\n",
       "      <td>1</td>\n",
       "      <td>0</td>\n",
       "      <td>1</td>\n",
       "      <td>N</td>\n",
       "      <td>Y</td>\n",
       "      <td>but this book is horrifically boring.</td>\n",
       "      <td>I had to read this for college english and met...</td>\n",
       "      <td>16678.291667</td>\n",
       "    </tr>\n",
       "    <tr>\n",
       "      <th>9</th>\n",
       "      <td>US</td>\n",
       "      <td>34942316</td>\n",
       "      <td>RVZ6EWMAO9XY6</td>\n",
       "      <td>149703518X</td>\n",
       "      <td>483616363</td>\n",
       "      <td>Studyguide for Accounting Information Systems ...</td>\n",
       "      <td>Books</td>\n",
       "      <td>1</td>\n",
       "      <td>0</td>\n",
       "      <td>0</td>\n",
       "      <td>N</td>\n",
       "      <td>Y</td>\n",
       "      <td>Rip-off</td>\n",
       "      <td>This &amp;#34;study guide&amp;#34; basically takes ran...</td>\n",
       "      <td>16678.291667</td>\n",
       "    </tr>\n",
       "  </tbody>\n",
       "</table>\n",
       "</div>"
      ],
      "text/plain": [
       "    0         1               2           3          4  \\\n",
       "0  US  34058159  R10QIRBIDAU34P  191052428X  942262122   \n",
       "1  US   9124640  R1YVO0YNQYFTY4  1566845181  878587221   \n",
       "2  US  21366438  R28BDX8MNMRK0C  1464109273   99307772   \n",
       "3  US  38851864  R3E7686UOSWVI7  0143039989  514925319   \n",
       "4  US  52534000  R107KYALGWON5I  1629983004  944142850   \n",
       "5  US   4610105  R1O55T7M4CHTD0  1934759295  609341244   \n",
       "6  US   8391381  R29E1HKT45SQ97  161767737X  561937478   \n",
       "7  US  15960945  R2TTB52MHCBXZM  0764210661  935522247   \n",
       "8  US  15960945   RAU08QQ9G9TUF  B00CC6ETU2  486809418   \n",
       "9  US  34942316   RVZ6EWMAO9XY6  149703518X  483616363   \n",
       "\n",
       "                                                   5      6  7  8   9 10 11  \\\n",
       "0                                   The New Reaction  Books  1  9  12  N  N   \n",
       "1     The Baby Grand: A True Mother's Day Love Story  Books  1  5   5  N  Y   \n",
       "2       Exploring Psychology in Modules (Loose Leaf)  Books  1  0   0  N  Y   \n",
       "3      The Haunting of Hill House (Penguin Classics)  Books  1  2  12  N  N   \n",
       "4  El misterio del Shemitá: 3000 años de antigüed...  Books  1  0   0  N  N   \n",
       "5                                      Buddha's Wife  Books  1  0   0  N  Y   \n",
       "6  Panorama 4th Supersite PLUS CODE (includes Cod...  Books  1  0   0  N  Y   \n",
       "7  Your Beautiful Purpose: Discovering and Enjoyi...  Books  1  0   2  N  Y   \n",
       "8  Finding the Game: Three Years, Twenty-five Cou...  Books  1  0   1  N  Y   \n",
       "9  Studyguide for Accounting Information Systems ...  Books  1  0   0  N  Y   \n",
       "\n",
       "                                                  12  \\\n",
       "0                                Completely Terrible   \n",
       "1  This is an essay, not a short story, barely 17...   \n",
       "2                                                no.   \n",
       "3   What an underdeveloped, unoriginal waste of time   \n",
       "4  Caution: Cahn's theory is contradicted by empi...   \n",
       "5  While I normally love reading fictional storie...   \n",
       "6                      TOOK MY MONEY/SENT ME NOTHING   \n",
       "7                                           One Star   \n",
       "8              but this book is horrifically boring.   \n",
       "9                                            Rip-off   \n",
       "\n",
       "                                                  13            14  \n",
       "0  Fortunately, I read this for free via Amazon's...  16678.291667  \n",
       "1  Unfortunately, I didn't realize what I was buy...  16678.291667  \n",
       "2  zero stars if I could. I received the wrong book.  16678.291667  \n",
       "3  First off, I have no idea who is writing the 5...  16678.291667  \n",
       "4  I am a lecturer in empirical research methods ...  16678.291667  \n",
       "5  While I normally love reading fictional storie...  16678.291667  \n",
       "6                            this place is not legit  16678.291667  \n",
       "7                                       boring book.  16678.291667  \n",
       "8  I had to read this for college english and met...  16678.291667  \n",
       "9  This &#34;study guide&#34; basically takes ran...  16678.291667  "
      ]
     },
     "execution_count": 10,
     "metadata": {},
     "output_type": "execute_result"
    }
   ],
   "source": [
    "tiny_df = pd.DataFrame(rdd_sample.take(10))\n",
    "tiny_df"
   ]
  },
  {
   "cell_type": "code",
   "execution_count": null,
   "metadata": {},
   "outputs": [],
   "source": []
  },
  {
   "cell_type": "code",
   "execution_count": 11,
   "metadata": {},
   "outputs": [],
   "source": [
    "#star_counts = rdd_sample.map(lambda x: Counter({x[cols['star_rating']]:1})).reduce(lambda x, y: x+y)"
   ]
  },
  {
   "cell_type": "code",
   "execution_count": 12,
   "metadata": {},
   "outputs": [],
   "source": [
    "#rdd_sample.saveAsTextFile('file:///home/ec2-user/Amazon_Books/data/sample_02.tsv')"
   ]
  },
  {
   "cell_type": "code",
   "execution_count": null,
   "metadata": {},
   "outputs": [],
   "source": [
    "temp = pd.DataFrame(rdd_sample.collect())"
   ]
  },
  {
   "cell_type": "markdown",
   "metadata": {},
   "source": [
    "sum(['x8b'in x for x in temp[14]])"
   ]
  },
  {
   "cell_type": "markdown",
   "metadata": {},
   "source": [
    "temp.to_csv('cows.csv')"
   ]
  },
  {
   "cell_type": "markdown",
   "metadata": {},
   "source": [
    "a = u'\\xa1'\n",
    "unicode(a, \"utf-8\")"
   ]
  },
  {
   "cell_type": "markdown",
   "metadata": {},
   "source": [
    "a.decode('utf-8', 'ignore')"
   ]
  },
  {
   "cell_type": "code",
   "execution_count": null,
   "metadata": {},
   "outputs": [],
   "source": [
    "str('cows').encode('utf8')"
   ]
  },
  {
   "cell_type": "code",
   "execution_count": null,
   "metadata": {},
   "outputs": [],
   "source": [
    "temp.to_csv('data/books_sample_1star.csv',index=False)"
   ]
  },
  {
   "cell_type": "code",
   "execution_count": null,
   "metadata": {},
   "outputs": [],
   "source": [
    "new_sample = pd.read_csv('data/books_sample_1star.csv)"
   ]
  },
  {
   "cell_type": "code",
   "execution_count": null,
   "metadata": {},
   "outputs": [],
   "source": []
  },
  {
   "cell_type": "code",
   "execution_count": null,
   "metadata": {},
   "outputs": [],
   "source": [
    "helpful_percentage = []\n",
    "for pos, total in zip(new_sample['8'],new_sample['9']):\n",
    "    if total>0:\n",
    "        helpful_percentage.append(float(pos)/float(total))\n",
    "    else:\n",
    "        helpful_percentage.append(0)"
   ]
  },
  {
   "cell_type": "code",
   "execution_count": null,
   "metadata": {},
   "outputs": [],
   "source": [
    "new_sample['15'] = helpful_percentage"
   ]
  },
  {
   "cell_type": "code",
   "execution_count": null,
   "metadata": {},
   "outputs": [],
   "source": [
    "help_df = new_sample[new_sample['8']>0]"
   ]
  },
  {
   "cell_type": "code",
   "execution_count": null,
   "metadata": {},
   "outputs": [],
   "source": [
    "help_df"
   ]
  },
  {
   "cell_type": "code",
   "execution_count": null,
   "metadata": {},
   "outputs": [],
   "source": [
    "plt.hist(help_df['15'])"
   ]
  },
  {
   "cell_type": "code",
   "execution_count": null,
   "metadata": {},
   "outputs": [],
   "source": [
    "#help_df = help_df.sample(frac=.5, random_state=1)"
   ]
  },
  {
   "cell_type": "code",
   "execution_count": null,
   "metadata": {},
   "outputs": [],
   "source": [
    "plt.scatter(help_df['15'],help_df['7'])"
   ]
  },
  {
   "cell_type": "code",
   "execution_count": null,
   "metadata": {},
   "outputs": [],
   "source": [
    "#plt.hist(help_df[help_df['7']==1]['15'],normed=True,alpha=.5,color='red')\n",
    "#plt.hist(help_df[help_df['7']==2]['15'],normed=True,alpha=.5,color='orange')\n",
    "#plt.hist(help_df[help_df['7']==3]['15'],normed=True,alpha=.5,color='yellow')\n",
    "plt.hist(help_df[help_df['7']==4]['15'],normed=True,alpha=.5,color='blue')\n",
    "plt.hist(help_df[help_df['7']==5]['15'],normed=True,alpha=.5,color='green')"
   ]
  },
  {
   "cell_type": "code",
   "execution_count": null,
   "metadata": {},
   "outputs": [],
   "source": [
    "sum(help_df['15']<=.8)"
   ]
  },
  {
   "cell_type": "code",
   "execution_count": null,
   "metadata": {},
   "outputs": [],
   "source": [
    "plt.scatter(help_df['15'],help_df['9'])"
   ]
  },
  {
   "cell_type": "code",
   "execution_count": null,
   "metadata": {},
   "outputs": [],
   "source": [
    "plt.scatter(help_df['15'],help_df['9'])\n",
    "plt.ylim(0,200)"
   ]
  },
  {
   "cell_type": "code",
   "execution_count": null,
   "metadata": {},
   "outputs": [],
   "source": [
    "help_df[help_df['9']>0]['15'].mean()"
   ]
  },
  {
   "cell_type": "code",
   "execution_count": null,
   "metadata": {},
   "outputs": [],
   "source": [
    "help_df[help_df['9']>15]['15'].mean()"
   ]
  },
  {
   "cell_type": "code",
   "execution_count": null,
   "metadata": {},
   "outputs": [],
   "source": [
    "help_df['9'].median()"
   ]
  },
  {
   "cell_type": "code",
   "execution_count": null,
   "metadata": {},
   "outputs": [],
   "source": [
    "plt.hist(help_df['9'],bins=100)\n",
    "plt.xlim(0,100)"
   ]
  },
  {
   "cell_type": "code",
   "execution_count": null,
   "metadata": {},
   "outputs": [],
   "source": [
    "len(help_df[help_df['9']>3])"
   ]
  },
  {
   "cell_type": "code",
   "execution_count": null,
   "metadata": {},
   "outputs": [],
   "source": [
    "sum(help_df['15']>=.66)"
   ]
  },
  {
   "cell_type": "code",
   "execution_count": null,
   "metadata": {},
   "outputs": [],
   "source": [
    "sum(help_df['15']<.66)"
   ]
  },
  {
   "cell_type": "code",
   "execution_count": null,
   "metadata": {},
   "outputs": [],
   "source": [
    "good_df = help_df[help_df['15']>=.66]\n",
    "bad_df = help_df[help_df['15']<.66]"
   ]
  },
  {
   "cell_type": "code",
   "execution_count": null,
   "metadata": {},
   "outputs": [],
   "source": []
  },
  {
   "cell_type": "code",
   "execution_count": null,
   "metadata": {},
   "outputs": [],
   "source": []
  }
 ],
 "metadata": {
  "kernelspec": {
   "display_name": "Python 3",
   "language": "python",
   "name": "python3"
  },
  "language_info": {
   "codemirror_mode": {
    "name": "ipython",
    "version": 3
   },
   "file_extension": ".py",
   "mimetype": "text/x-python",
   "name": "python",
   "nbconvert_exporter": "python",
   "pygments_lexer": "ipython3",
   "version": "3.7.4"
  }
 },
 "nbformat": 4,
 "nbformat_minor": 2
}
