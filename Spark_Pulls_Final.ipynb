{
 "cells": [
  {
   "cell_type": "code",
   "execution_count": null,
   "metadata": {},
   "outputs": [
    {
     "name": "stdout",
     "output_type": "stream",
     "text": [
      "Begin: us_Wireless_v1_00\n",
      "Check_1\n"
     ]
    }
   ],
   "source": [
    "import pyspark as ps\n",
    "from collections import Counter\n",
    "import pandas as pd\n",
    "import time\n",
    "import matplotlib.pyplot as plt\n",
    "import os\n",
    "import random\n",
    "spark = (ps.sql.SparkSession.builder \n",
    "        .master(\"local[4]\") \n",
    "        .appName(\"nathanscope\") \n",
    "        .getOrCreate()\n",
    "        )\n",
    "\n",
    "\n",
    "sc = spark.sparkContext\n",
    "\n",
    "col_names = ['marketplace','customer_id','review_id','product_id','product_parent','product_title','product_category','star_rating','helpful_votes','total_votes','vine','verified_purchase','review_headline','review_body','review_date']\n",
    "cols = {}\n",
    "for i in range(len(col_names)):\n",
    "    cols[col_names[i]] = i \n",
    "    \n",
    "def casting_function(row):\n",
    "    if row[0] == 'marketplace':\n",
    "        return ()\n",
    "    if len(row)!=15:\n",
    "        return(len(row))\n",
    "    (marketplace, customer_id, review_id, product_id, product_parent, product_title,product_category,star_rating,helpful_votes,total_votes,vine,verified_purchase,review_headline,review_body,review_date) = row\n",
    "    \n",
    "    \n",
    "    return (marketplace, str(customer_id), str(review_id), str(product_id), product_parent, str(product_title),str(product_category),int(star_rating),int(helpful_votes),int(total_votes),vine,verified_purchase,str(review_headline),str(review_body),review_date)\n",
    "\n",
    "def time_cast(row):\n",
    "    pattern = '%Y-%m-%d'\n",
    "    row =list(row)\n",
    "    row[14] = int(time.mktime(time.strptime(row[14], pattern)))/86400\n",
    "    return tuple(row)\n",
    "\n",
    "def toCSVLine(data):\n",
    "  return ','.join(str(d) for d in data)\n",
    "\n",
    "file = open(\"data/S3_Repos.txt\",\"r+\")\n",
    "repos = []\n",
    "for line in file.readlines():\n",
    "    line = line.replace('https://s3.amazonaws.com/amazon-reviews-pds/tsv/','')\n",
    "    line = line.replace('\\n','')\n",
    "    repos.append('s3://amazon-reviews-pds/tsv/'+line)\n",
    "     \n",
    "\n",
    "total_row_counts = []\n",
    "final_rows = []\n",
    "Scale = []\n",
    "Names = []\n",
    "loop_num = 0\n",
    "\n",
    "for repo in repos:\n",
    "    loop_num = loop_num + 1\n",
    "    print(str(loop_num)+'-Begin: '+repo.replace('s3://amazon-reviews-pds/tsv/amazon_reviews_','').replace('.tsv.gz',''))\n",
    "    rdd_books = sc.textFile(repo).map(lambda rowstr : rowstr.split(\"\\t\")).map(casting_function)\n",
    "    rdd_books =rdd_books.filter(lambda x: len(x)==15).map(time_cast)\n",
    "    rdd_sample = rdd_books.filter(lambda x: x[7]==1).filter(lambda x: x[9]>10)\n",
    "    print('Check_1')\n",
    "    tiny_df = pd.DataFrame(rdd_sample.take(10000))\n",
    "    print('Check_2')\n",
    "    tiny_df.to_csv('data/size_check.csv')\n",
    "    tenK_size = os.path.getsize('data/size_check.csv')\n",
    "    print('Check_3')\n",
    "    total_rows = rdd_sample.count()\n",
    "    total_row_count.append(total_rows)\n",
    "    print('Check_4')\n",
    "    optimal_bytes = 90000000\n",
    "    tenK_scale = optimal_bytes/tenK_size\n",
    "    optimal_rows = 10000*tenK_scale\n",
    "    file_name = 'data/Spark_Pulls/'+repo.replace('s3://amazon-reviews-pds/tsv/amazon_reviews_','').replace('.tsv.gz','')+'.csv'\n",
    "    print('Check_5')\n",
    "    if total_rows <optimal_rows:\n",
    "        print('Check_6a')\n",
    "        temp = pd.DataFrame(rdd_sample.collect())\n",
    "        print('Check_7a')\n",
    "        temp.to_csv(file_name)\n",
    "        Scale.append(1)\n",
    "        final_rows.append(total_rows)\n",
    "    else:\n",
    "        scale = optimal_rows/total_rows\n",
    "        Scale.append(scale)\n",
    "        final_rows.append(total_rows*scale)\n",
    "        rdd_sample = rdd_sample.filter(lambda x: random.random() < scale)\n",
    "        print('Check_6b')\n",
    "        temp = pd.DataFrame(rdd_sample.collect())\n",
    "        print('Check_6b')\n",
    "        temp.to_csv(file_name)\n",
    "        print('Check_7b')\n",
    "        \n",
    "    print('finished: '+repo.replace('s3://amazon-reviews-pds/tsv/amazon_reviews_','').replace('.tsv.gz',''))\n",
    "    Names.append(repo.replace('s3://amazon-reviews-pds/tsv/amazon_reviews_','').replace('.tsv.gz',''))\n",
    "df = pd.DataFrame()\n",
    "df['Name'] = Names\n",
    "df['Scale'] = Scale\n",
    "df['total_rows']  =total_row_count\n",
    "df['final_rows'] = final_rows\n",
    "\n",
    "df.to_csv('data/spark_metrics.csv')\n",
    "    "
   ]
  },
  {
   "cell_type": "code",
   "execution_count": null,
   "metadata": {},
   "outputs": [],
   "source": [
    "print('COWSSSSS')"
   ]
  },
  {
   "cell_type": "code",
   "execution_count": null,
   "metadata": {},
   "outputs": [],
   "source": []
  },
  {
   "cell_type": "code",
   "execution_count": null,
   "metadata": {},
   "outputs": [],
   "source": [
    "len(check)"
   ]
  },
  {
   "cell_type": "code",
   "execution_count": null,
   "metadata": {},
   "outputs": [],
   "source": []
  }
 ],
 "metadata": {
  "kernelspec": {
   "display_name": "Python 3",
   "language": "python",
   "name": "python3"
  },
  "language_info": {
   "codemirror_mode": {
    "name": "ipython",
    "version": 3
   },
   "file_extension": ".py",
   "mimetype": "text/x-python",
   "name": "python",
   "nbconvert_exporter": "python",
   "pygments_lexer": "ipython3",
   "version": "3.7.4"
  }
 },
 "nbformat": 4,
 "nbformat_minor": 2
}
