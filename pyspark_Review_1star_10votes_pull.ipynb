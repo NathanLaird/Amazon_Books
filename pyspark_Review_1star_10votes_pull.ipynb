{
 "cells": [
  {
   "cell_type": "code",
   "execution_count": 1,
   "metadata": {},
   "outputs": [],
   "source": [
    "import pyspark as ps\n",
    "from collections import Counter\n",
    "import pandas as pd\n",
    "import time\n",
    "import matplotlib.pyplot as plt\n",
    "import os\n",
    "import random\n",
    "from data_prep import \n",
    "spark = (ps.sql.SparkSession.builder \n",
    "        .master(\"local[4]\") \n",
    "        .appName(\"nathanscope\") \n",
    "        .getOrCreate()\n",
    "        )"
   ]
  },
  {
   "cell_type": "code",
   "execution_count": 2,
   "metadata": {},
   "outputs": [],
   "source": [
    "sc = spark.sparkContext"
   ]
  },
  {
   "cell_type": "code",
   "execution_count": 3,
   "metadata": {},
   "outputs": [
    {
     "name": "stdout",
     "output_type": "stream",
     "text": [
      "0: marketplace\n",
      "1: customer_id\n",
      "2: review_id\n",
      "3: product_id\n",
      "4: product_parent\n",
      "5: product_title\n",
      "6: product_category\n",
      "7: star_rating\n",
      "8: helpful_votes\n",
      "9: total_votes\n",
      "10: vine\n",
      "11: verified_purchase\n",
      "12: review_headline\n",
      "13: review_body\n",
      "14: review_date\n"
     ]
    }
   ],
   "source": [
    "col_names = ['marketplace','customer_id','review_id','product_id','product_parent','product_title','product_category','star_rating','helpful_votes','total_votes','vine','verified_purchase','review_headline','review_body','review_date']\n",
    "cols = {}\n",
    "for i in range(len(col_names)):\n",
    "    print (str(i)+': '+col_names[i])\n",
    "    cols[col_names[i]] = i "
   ]
  },
  {
   "cell_type": "code",
   "execution_count": 4,
   "metadata": {},
   "outputs": [],
   "source": [
    "def casting_function(row):\n",
    "    if row[0] == 'marketplace':\n",
    "        return ()\n",
    "    if len(row)!=15:\n",
    "        return(len(row))\n",
    "    (marketplace, customer_id, review_id, product_id, product_parent, product_title,product_category,star_rating,helpful_votes,total_votes,vine,verified_purchase,review_headline,review_body,review_date) = row\n",
    "    \n",
    "    \n",
    "    return (marketplace, str(customer_id), str(review_id), str(product_id), product_parent, str(product_title),str(product_category),int(star_rating),int(helpful_votes),int(total_votes),vine,verified_purchase,str(review_headline),str(review_body),review_date)\n",
    "\n",
    "\n"
   ]
  },
  {
   "cell_type": "code",
   "execution_count": 5,
   "metadata": {},
   "outputs": [],
   "source": [
    "def time_cast(row):\n",
    "    pattern = '%Y-%m-%d'\n",
    "    row =list(row)\n",
    "    row[14] = int(time.mktime(time.strptime(row[14], pattern)))/86400\n",
    "    return tuple(row)"
   ]
  },
  {
   "cell_type": "code",
   "execution_count": 6,
   "metadata": {},
   "outputs": [],
   "source": [
    "def toCSVLine(data):\n",
    "  return ','.join(str(d) for d in data)"
   ]
  },
  {
   "cell_type": "code",
   "execution_count": 7,
   "metadata": {},
   "outputs": [],
   "source": [
    "file = open(\"data/S3_Repos.txt\",\"r+\")\n",
    "repos = []\n",
    "for line in file.readlines():\n",
    "    line = line.replace('https://s3.amazonaws.com/amazon-reviews-pds/tsv/','')\n",
    "    line = line.replace('\\n','')\n",
    "    repos.append('s3://amazon-reviews-pds/tsv/'+line)"
   ]
  },
  {
   "cell_type": "code",
   "execution_count": 8,
   "metadata": {},
   "outputs": [
    {
     "data": {
      "text/plain": [
       "'s3://amazon-reviews-pds/tsv/amazon_reviews_us_Books_v1_02.tsv.gz'"
      ]
     },
     "execution_count": 8,
     "metadata": {},
     "output_type": "execute_result"
    }
   ],
   "source": [
    "repos[39]"
   ]
  },
  {
   "cell_type": "code",
   "execution_count": 9,
   "metadata": {},
   "outputs": [],
   "source": [
    "rdd_books = (sc.textFile(repos[39])\n",
    "            .map(lambda rowstr : rowstr.split(\"\\t\"))\n",
    "            .map(casting_function)\n",
    "           )"
   ]
  },
  {
   "cell_type": "code",
   "execution_count": 10,
   "metadata": {},
   "outputs": [],
   "source": [
    "rdd_books =rdd_books.filter(lambda x: len(x)==15).map(time_cast)"
   ]
  },
  {
   "cell_type": "code",
   "execution_count": 11,
   "metadata": {},
   "outputs": [],
   "source": [
    "rdd_sample = rdd_books.filter(lambda x: x[7]==1).filter(lambda x: x[9]>10)\n",
    "#rdd_sample = rdd_books.filter(lambda x: x[7]==1)\n"
   ]
  },
  {
   "cell_type": "markdown",
   "metadata": {},
   "source": [
    "star_counts = rdd_books.map(lambda x: Counter({x[cols['star_rating']]:1})).reduce(lambda x, y: x+y)"
   ]
  },
  {
   "cell_type": "markdown",
   "metadata": {},
   "source": [
    "rdd_sample.count()"
   ]
  },
  {
   "cell_type": "code",
   "execution_count": 12,
   "metadata": {},
   "outputs": [
    {
     "data": {
      "text/html": [
       "<div>\n",
       "<style scoped>\n",
       "    .dataframe tbody tr th:only-of-type {\n",
       "        vertical-align: middle;\n",
       "    }\n",
       "\n",
       "    .dataframe tbody tr th {\n",
       "        vertical-align: top;\n",
       "    }\n",
       "\n",
       "    .dataframe thead th {\n",
       "        text-align: right;\n",
       "    }\n",
       "</style>\n",
       "<table border=\"1\" class=\"dataframe\">\n",
       "  <thead>\n",
       "    <tr style=\"text-align: right;\">\n",
       "      <th></th>\n",
       "      <th>0</th>\n",
       "      <th>1</th>\n",
       "      <th>2</th>\n",
       "      <th>3</th>\n",
       "      <th>4</th>\n",
       "      <th>5</th>\n",
       "      <th>6</th>\n",
       "      <th>7</th>\n",
       "      <th>8</th>\n",
       "      <th>9</th>\n",
       "      <th>10</th>\n",
       "      <th>11</th>\n",
       "      <th>12</th>\n",
       "      <th>13</th>\n",
       "      <th>14</th>\n",
       "    </tr>\n",
       "  </thead>\n",
       "  <tbody>\n",
       "    <tr>\n",
       "      <td>0</td>\n",
       "      <td>US</td>\n",
       "      <td>12073911</td>\n",
       "      <td>R1KPOIT5WT3NEF</td>\n",
       "      <td>0060839880</td>\n",
       "      <td>66383248</td>\n",
       "      <td>The Case for Hillary Clinton</td>\n",
       "      <td>Books</td>\n",
       "      <td>1</td>\n",
       "      <td>13</td>\n",
       "      <td>29</td>\n",
       "      <td>N</td>\n",
       "      <td>N</td>\n",
       "      <td>hurts to read</td>\n",
       "      <td>I swear, you've never seen so much manuevering...</td>\n",
       "      <td>13070.0</td>\n",
       "    </tr>\n",
       "    <tr>\n",
       "      <td>1</td>\n",
       "      <td>US</td>\n",
       "      <td>12517857</td>\n",
       "      <td>R3AW5JRZYH66M5</td>\n",
       "      <td>097150072X</td>\n",
       "      <td>363879785</td>\n",
       "      <td>Truth vs Falsehood: How to Tell the Difference</td>\n",
       "      <td>Books</td>\n",
       "      <td>1</td>\n",
       "      <td>268</td>\n",
       "      <td>307</td>\n",
       "      <td>N</td>\n",
       "      <td>N</td>\n",
       "      <td>An Unexpected Gift to Hawkins' Readers</td>\n",
       "      <td>\\\\\"Truth vs Falsehood\\\\\" is Hawkins' 4th book....</td>\n",
       "      <td>13070.0</td>\n",
       "    </tr>\n",
       "    <tr>\n",
       "      <td>2</td>\n",
       "      <td>US</td>\n",
       "      <td>12072415</td>\n",
       "      <td>RA83ZAB84RN88</td>\n",
       "      <td>073561962X</td>\n",
       "      <td>337821525</td>\n",
       "      <td>Introducing Microsoft SQL Server(tm) 2005 for ...</td>\n",
       "      <td>Books</td>\n",
       "      <td>1</td>\n",
       "      <td>10</td>\n",
       "      <td>11</td>\n",
       "      <td>N</td>\n",
       "      <td>N</td>\n",
       "      <td>Obsolete already</td>\n",
       "      <td>Covers only the first beta of Sql 2005.  Many ...</td>\n",
       "      <td>13070.0</td>\n",
       "    </tr>\n",
       "    <tr>\n",
       "      <td>3</td>\n",
       "      <td>US</td>\n",
       "      <td>24104879</td>\n",
       "      <td>RDBVYHGTTICMV</td>\n",
       "      <td>0307283658</td>\n",
       "      <td>162568542</td>\n",
       "      <td>Harry Potter and the Half-Blood Prince (Book 6)</td>\n",
       "      <td>Books</td>\n",
       "      <td>1</td>\n",
       "      <td>4</td>\n",
       "      <td>25</td>\n",
       "      <td>N</td>\n",
       "      <td>N</td>\n",
       "      <td>Always a great reading by Jim Dale</td>\n",
       "      <td>THe book was good as always and Jim Dale consi...</td>\n",
       "      <td>13070.0</td>\n",
       "    </tr>\n",
       "    <tr>\n",
       "      <td>4</td>\n",
       "      <td>US</td>\n",
       "      <td>37458619</td>\n",
       "      <td>R35H2BHBL5VNWW</td>\n",
       "      <td>157488221X</td>\n",
       "      <td>932255024</td>\n",
       "      <td>Rain of Ruin: A Photographic History of Hirosh...</td>\n",
       "      <td>Books</td>\n",
       "      <td>1</td>\n",
       "      <td>9</td>\n",
       "      <td>26</td>\n",
       "      <td>N</td>\n",
       "      <td>N</td>\n",
       "      <td>Disappointing</td>\n",
       "      <td>It seems that the people of the United States ...</td>\n",
       "      <td>13070.0</td>\n",
       "    </tr>\n",
       "    <tr>\n",
       "      <td>...</td>\n",
       "      <td>...</td>\n",
       "      <td>...</td>\n",
       "      <td>...</td>\n",
       "      <td>...</td>\n",
       "      <td>...</td>\n",
       "      <td>...</td>\n",
       "      <td>...</td>\n",
       "      <td>...</td>\n",
       "      <td>...</td>\n",
       "      <td>...</td>\n",
       "      <td>...</td>\n",
       "      <td>...</td>\n",
       "      <td>...</td>\n",
       "      <td>...</td>\n",
       "      <td>...</td>\n",
       "    </tr>\n",
       "    <tr>\n",
       "      <td>9995</td>\n",
       "      <td>US</td>\n",
       "      <td>13929001</td>\n",
       "      <td>R15LTUYIX8F0PS</td>\n",
       "      <td>1401902154</td>\n",
       "      <td>409105258</td>\n",
       "      <td>The Power of Intention</td>\n",
       "      <td>Books</td>\n",
       "      <td>1</td>\n",
       "      <td>29</td>\n",
       "      <td>55</td>\n",
       "      <td>N</td>\n",
       "      <td>Y</td>\n",
       "      <td>The Power of Nothing</td>\n",
       "      <td>Wayne thinks he's the first one to discover wh...</td>\n",
       "      <td>12960.0</td>\n",
       "    </tr>\n",
       "    <tr>\n",
       "      <td>9996</td>\n",
       "      <td>US</td>\n",
       "      <td>46799528</td>\n",
       "      <td>RWFIJ0T0P32JX</td>\n",
       "      <td>1590790723</td>\n",
       "      <td>616684281</td>\n",
       "      <td>Michael Jackson: The Man behind the Mask</td>\n",
       "      <td>Books</td>\n",
       "      <td>1</td>\n",
       "      <td>24</td>\n",
       "      <td>28</td>\n",
       "      <td>N</td>\n",
       "      <td>N</td>\n",
       "      <td>Revenge,  and poorly written at that</td>\n",
       "      <td>Having read Jones' book, I can't help but wond...</td>\n",
       "      <td>12960.0</td>\n",
       "    </tr>\n",
       "    <tr>\n",
       "      <td>9997</td>\n",
       "      <td>US</td>\n",
       "      <td>24670152</td>\n",
       "      <td>R3MS5KR8BAMEEK</td>\n",
       "      <td>1590790723</td>\n",
       "      <td>616684281</td>\n",
       "      <td>Michael Jackson: The Man behind the Mask</td>\n",
       "      <td>Books</td>\n",
       "      <td>1</td>\n",
       "      <td>10</td>\n",
       "      <td>15</td>\n",
       "      <td>N</td>\n",
       "      <td>N</td>\n",
       "      <td>Disgusting.</td>\n",
       "      <td>In court Bob Jones admitted that this book was...</td>\n",
       "      <td>12960.0</td>\n",
       "    </tr>\n",
       "    <tr>\n",
       "      <td>9998</td>\n",
       "      <td>US</td>\n",
       "      <td>17193594</td>\n",
       "      <td>R3LMZTHG3URMCV</td>\n",
       "      <td>0471655856</td>\n",
       "      <td>992167432</td>\n",
       "      <td>Trade Like Jesse Livermore</td>\n",
       "      <td>Books</td>\n",
       "      <td>1</td>\n",
       "      <td>45</td>\n",
       "      <td>47</td>\n",
       "      <td>N</td>\n",
       "      <td>N</td>\n",
       "      <td>DONT WASTE YOUR TIME &amp; MONEY ON THIS BOOK!!!</td>\n",
       "      <td>If you thought you would learn the actual meth...</td>\n",
       "      <td>12960.0</td>\n",
       "    </tr>\n",
       "    <tr>\n",
       "      <td>9999</td>\n",
       "      <td>US</td>\n",
       "      <td>52963126</td>\n",
       "      <td>RK8NGG2OQSI0I</td>\n",
       "      <td>034546477X</td>\n",
       "      <td>82796131</td>\n",
       "      <td>Caught Stealing</td>\n",
       "      <td>Books</td>\n",
       "      <td>1</td>\n",
       "      <td>18</td>\n",
       "      <td>46</td>\n",
       "      <td>N</td>\n",
       "      <td>N</td>\n",
       "      <td>A cartoon of a book</td>\n",
       "      <td>The level of violence in this book reminds me ...</td>\n",
       "      <td>12960.0</td>\n",
       "    </tr>\n",
       "  </tbody>\n",
       "</table>\n",
       "<p>10000 rows × 15 columns</p>\n",
       "</div>"
      ],
      "text/plain": [
       "       0         1               2           3          4  \\\n",
       "0     US  12073911  R1KPOIT5WT3NEF  0060839880   66383248   \n",
       "1     US  12517857  R3AW5JRZYH66M5  097150072X  363879785   \n",
       "2     US  12072415   RA83ZAB84RN88  073561962X  337821525   \n",
       "3     US  24104879   RDBVYHGTTICMV  0307283658  162568542   \n",
       "4     US  37458619  R35H2BHBL5VNWW  157488221X  932255024   \n",
       "...   ..       ...             ...         ...        ...   \n",
       "9995  US  13929001  R15LTUYIX8F0PS  1401902154  409105258   \n",
       "9996  US  46799528   RWFIJ0T0P32JX  1590790723  616684281   \n",
       "9997  US  24670152  R3MS5KR8BAMEEK  1590790723  616684281   \n",
       "9998  US  17193594  R3LMZTHG3URMCV  0471655856  992167432   \n",
       "9999  US  52963126   RK8NGG2OQSI0I  034546477X   82796131   \n",
       "\n",
       "                                                      5      6  7    8    9  \\\n",
       "0                          The Case for Hillary Clinton  Books  1   13   29   \n",
       "1        Truth vs Falsehood: How to Tell the Difference  Books  1  268  307   \n",
       "2     Introducing Microsoft SQL Server(tm) 2005 for ...  Books  1   10   11   \n",
       "3       Harry Potter and the Half-Blood Prince (Book 6)  Books  1    4   25   \n",
       "4     Rain of Ruin: A Photographic History of Hirosh...  Books  1    9   26   \n",
       "...                                                 ...    ... ..  ...  ...   \n",
       "9995                             The Power of Intention  Books  1   29   55   \n",
       "9996           Michael Jackson: The Man behind the Mask  Books  1   24   28   \n",
       "9997           Michael Jackson: The Man behind the Mask  Books  1   10   15   \n",
       "9998                         Trade Like Jesse Livermore  Books  1   45   47   \n",
       "9999                                    Caught Stealing  Books  1   18   46   \n",
       "\n",
       "     10 11                                            12  \\\n",
       "0     N  N                                 hurts to read   \n",
       "1     N  N        An Unexpected Gift to Hawkins' Readers   \n",
       "2     N  N                              Obsolete already   \n",
       "3     N  N            Always a great reading by Jim Dale   \n",
       "4     N  N                                 Disappointing   \n",
       "...  .. ..                                           ...   \n",
       "9995  N  Y                          The Power of Nothing   \n",
       "9996  N  N          Revenge,  and poorly written at that   \n",
       "9997  N  N                                   Disgusting.   \n",
       "9998  N  N  DONT WASTE YOUR TIME & MONEY ON THIS BOOK!!!   \n",
       "9999  N  N                           A cartoon of a book   \n",
       "\n",
       "                                                     13       14  \n",
       "0     I swear, you've never seen so much manuevering...  13070.0  \n",
       "1     \\\\\"Truth vs Falsehood\\\\\" is Hawkins' 4th book....  13070.0  \n",
       "2     Covers only the first beta of Sql 2005.  Many ...  13070.0  \n",
       "3     THe book was good as always and Jim Dale consi...  13070.0  \n",
       "4     It seems that the people of the United States ...  13070.0  \n",
       "...                                                 ...      ...  \n",
       "9995  Wayne thinks he's the first one to discover wh...  12960.0  \n",
       "9996  Having read Jones' book, I can't help but wond...  12960.0  \n",
       "9997  In court Bob Jones admitted that this book was...  12960.0  \n",
       "9998  If you thought you would learn the actual meth...  12960.0  \n",
       "9999  The level of violence in this book reminds me ...  12960.0  \n",
       "\n",
       "[10000 rows x 15 columns]"
      ]
     },
     "execution_count": 12,
     "metadata": {},
     "output_type": "execute_result"
    }
   ],
   "source": [
    "tiny_df = pd.DataFrame(rdd_sample.take(10000))\n",
    "tiny_df"
   ]
  },
  {
   "cell_type": "code",
   "execution_count": 13,
   "metadata": {},
   "outputs": [],
   "source": [
    "tiny_df.to_csv('data/size_check.csv')"
   ]
  },
  {
   "cell_type": "code",
   "execution_count": 14,
   "metadata": {},
   "outputs": [],
   "source": [
    "tenK_size = os.path.getsize('data/size_check.csv')"
   ]
  },
  {
   "cell_type": "code",
   "execution_count": 15,
   "metadata": {},
   "outputs": [
    {
     "data": {
      "text/plain": [
       "143974"
      ]
     },
     "execution_count": 15,
     "metadata": {},
     "output_type": "execute_result"
    }
   ],
   "source": [
    "total_rows = rdd_sample.count()\n",
    "total_rows"
   ]
  },
  {
   "cell_type": "code",
   "execution_count": 16,
   "metadata": {},
   "outputs": [],
   "source": [
    "optimal_bytes = 90000000\n",
    "tenK_scale = optimal_bytes/tenK_size\n",
    "optimal_rows = 10000*tenK_scale\n"
   ]
  },
  {
   "cell_type": "code",
   "execution_count": 17,
   "metadata": {},
   "outputs": [],
   "source": [
    "if total_rows <optimal_rows:\n",
    "    temp = pd.DataFrame(rdd_sample.collect())\n",
    "else:\n",
    "    scale = optimal_rows/total_rows\n",
    "    rdd_sample = rdd_sample.filter(lambda x: random.random() < scale)"
   ]
  },
  {
   "cell_type": "code",
   "execution_count": 18,
   "metadata": {},
   "outputs": [
    {
     "data": {
      "text/plain": [
       "66864"
      ]
     },
     "execution_count": 18,
     "metadata": {},
     "output_type": "execute_result"
    }
   ],
   "source": [
    "total_rows = rdd_sample.count()\n",
    "total_rows"
   ]
  },
  {
   "cell_type": "code",
   "execution_count": 19,
   "metadata": {},
   "outputs": [
    {
     "data": {
      "text/plain": [
       "66961.54957533773"
      ]
     },
     "execution_count": 19,
     "metadata": {},
     "output_type": "execute_result"
    }
   ],
   "source": [
    "optimal_rows"
   ]
  },
  {
   "cell_type": "code",
   "execution_count": 20,
   "metadata": {},
   "outputs": [
    {
     "data": {
      "text/plain": [
       "66864"
      ]
     },
     "execution_count": 20,
     "metadata": {},
     "output_type": "execute_result"
    }
   ],
   "source": [
    "total_rows"
   ]
  },
  {
   "cell_type": "code",
   "execution_count": 21,
   "metadata": {},
   "outputs": [
    {
     "data": {
      "text/plain": [
       "0.46509473637835813"
      ]
     },
     "execution_count": 21,
     "metadata": {},
     "output_type": "execute_result"
    }
   ],
   "source": [
    "scale"
   ]
  },
  {
   "cell_type": "code",
   "execution_count": null,
   "metadata": {},
   "outputs": [],
   "source": [
    "for repo_name in repos"
   ]
  },
  {
   "cell_type": "code",
   "execution_count": null,
   "metadata": {},
   "outputs": [],
   "source": [
    "rdd_sample.count()"
   ]
  },
  {
   "cell_type": "code",
   "execution_count": null,
   "metadata": {},
   "outputs": [],
   "source": [
    "temp.to_csv('data/books_sample_1star_10vote.csv',index=False)"
   ]
  },
  {
   "cell_type": "code",
   "execution_count": null,
   "metadata": {},
   "outputs": [],
   "source": [
    "new_sample = pd.read_csv('data/books_sample_1star_10vote.csv')"
   ]
  },
  {
   "cell_type": "code",
   "execution_count": null,
   "metadata": {},
   "outputs": [],
   "source": []
  },
  {
   "cell_type": "code",
   "execution_count": null,
   "metadata": {},
   "outputs": [],
   "source": []
  },
  {
   "cell_type": "code",
   "execution_count": null,
   "metadata": {},
   "outputs": [],
   "source": []
  },
  {
   "cell_type": "code",
   "execution_count": null,
   "metadata": {},
   "outputs": [],
   "source": []
  },
  {
   "cell_type": "code",
   "execution_count": 23,
   "metadata": {},
   "outputs": [
    {
     "data": {
      "text/plain": [
       "['s3://amazon-reviews-pds/tsv/amazon_reviews_us_Wireless_v1_00.tsv.gz',\n",
       " 's3://amazon-reviews-pds/tsv/amazon_reviews_us_Watches_v1_00.tsv.gz',\n",
       " 's3://amazon-reviews-pds/tsv/amazon_reviews_us_Video_Games_v1_00.tsv.gz',\n",
       " 's3://amazon-reviews-pds/tsv/amazon_reviews_us_Video_DVD_v1_00.tsv.gz',\n",
       " 's3://amazon-reviews-pds/tsv/amazon_reviews_us_Video_v1_00.tsv.gz',\n",
       " 's3://amazon-reviews-pds/tsv/amazon_reviews_us_Toys_v1_00.tsv.gz',\n",
       " 's3://amazon-reviews-pds/tsv/amazon_reviews_us_Tools_v1_00.tsv.gz',\n",
       " 's3://amazon-reviews-pds/tsv/amazon_reviews_us_Sports_v1_00.tsv.gz',\n",
       " 's3://amazon-reviews-pds/tsv/amazon_reviews_us_Software_v1_00.tsv.gz',\n",
       " 's3://amazon-reviews-pds/tsv/amazon_reviews_us_Shoes_v1_00.tsv.gz',\n",
       " 's3://amazon-reviews-pds/tsv/amazon_reviews_us_Pet_Products_v1_00.tsv.gz',\n",
       " 's3://amazon-reviews-pds/tsv/amazon_reviews_us_Personal_Care_Appliances_v1_00.tsv.gz',\n",
       " 's3://amazon-reviews-pds/tsv/amazon_reviews_us_PC_v1_00.tsv.gz',\n",
       " 's3://amazon-reviews-pds/tsv/amazon_reviews_us_Outdoors_v1_00.tsv.gz',\n",
       " 's3://amazon-reviews-pds/tsv/amazon_reviews_us_Office_Products_v1_00.tsv.gz',\n",
       " 's3://amazon-reviews-pds/tsv/amazon_reviews_us_Musical_Instruments_v1_00.tsv.gz',\n",
       " 's3://amazon-reviews-pds/tsv/amazon_reviews_us_Music_v1_00.tsv.gz',\n",
       " 's3://amazon-reviews-pds/tsv/amazon_reviews_us_Mobile_Electronics_v1_00.tsv.gz',\n",
       " 's3://amazon-reviews-pds/tsv/amazon_reviews_us_Mobile_Apps_v1_00.tsv.gz',\n",
       " 's3://amazon-reviews-pds/tsv/amazon_reviews_us_Major_Appliances_v1_00.tsv.gz',\n",
       " 's3://amazon-reviews-pds/tsv/amazon_reviews_us_Luggage_v1_00.tsv.gz',\n",
       " 's3://amazon-reviews-pds/tsv/amazon_reviews_us_Lawn_and_Garden_v1_00.tsv.gz',\n",
       " 's3://amazon-reviews-pds/tsv/amazon_reviews_us_Kitchen_v1_00.tsv.gz',\n",
       " 's3://amazon-reviews-pds/tsv/amazon_reviews_us_Jewelry_v1_00.tsv.gz',\n",
       " 's3://amazon-reviews-pds/tsv/amazon_reviews_us_Home_Improvement_v1_00.tsv.gz',\n",
       " 's3://amazon-reviews-pds/tsv/amazon_reviews_us_Home_Entertainment_v1_00.tsv.gz',\n",
       " 's3://amazon-reviews-pds/tsv/amazon_reviews_us_Home_v1_00.tsv.gz',\n",
       " 's3://amazon-reviews-pds/tsv/amazon_reviews_us_Health_Personal_Care_v1_00.tsv.gz',\n",
       " 's3://amazon-reviews-pds/tsv/amazon_reviews_us_Grocery_v1_00.tsv.gz',\n",
       " 's3://amazon-reviews-pds/tsv/amazon_reviews_us_Gift_Card_v1_00.tsv.gz',\n",
       " 's3://amazon-reviews-pds/tsv/amazon_reviews_us_Furniture_v1_00.tsv.gz',\n",
       " 's3://amazon-reviews-pds/tsv/amazon_reviews_us_Electronics_v1_00.tsv.gz',\n",
       " 's3://amazon-reviews-pds/tsv/amazon_reviews_us_Digital_Video_Games_v1_00.tsv.gz',\n",
       " 's3://amazon-reviews-pds/tsv/amazon_reviews_us_Digital_Video_Download_v1_00.tsv.gz',\n",
       " 's3://amazon-reviews-pds/tsv/amazon_reviews_us_Digital_Software_v1_00.tsv.gz',\n",
       " 's3://amazon-reviews-pds/tsv/amazon_reviews_us_Digital_Music_Purchase_v1_00.tsv.gz',\n",
       " 's3://amazon-reviews-pds/tsv/amazon_reviews_us_Digital_Ebook_Purchase_v1_01.tsv.gz',\n",
       " 's3://amazon-reviews-pds/tsv/amazon_reviews_us_Digital_Ebook_Purchase_v1_00.tsv.gz',\n",
       " 's3://amazon-reviews-pds/tsv/amazon_reviews_us_Camera_v1_00.tsv.gz',\n",
       " 's3://amazon-reviews-pds/tsv/amazon_reviews_us_Books_v1_02.tsv.gz',\n",
       " 's3://amazon-reviews-pds/tsv/amazon_reviews_us_Books_v1_01.tsv.gz',\n",
       " 's3://amazon-reviews-pds/tsv/amazon_reviews_us_Books_v1_00.tsv.gz',\n",
       " 's3://amazon-reviews-pds/tsv/amazon_reviews_us_Beauty_v1_00.tsv.gz',\n",
       " 's3://amazon-reviews-pds/tsv/amazon_reviews_us_Baby_v1_00.tsv.gz',\n",
       " 's3://amazon-reviews-pds/tsv/amazon_reviews_us_Automotive_v1_00.tsv.gz',\n",
       " 's3://amazon-reviews-pds/tsv/amazon_reviews_us_Apparel_v1_00.tsv.gz']"
      ]
     },
     "execution_count": 23,
     "metadata": {},
     "output_type": "execute_result"
    }
   ],
   "source": [
    "repos"
   ]
  },
  {
   "cell_type": "code",
   "execution_count": null,
   "metadata": {},
   "outputs": [],
   "source": []
  },
  {
   "cell_type": "code",
   "execution_count": null,
   "metadata": {},
   "outputs": [],
   "source": []
  }
 ],
 "metadata": {
  "kernelspec": {
   "display_name": "Python 3",
   "language": "python",
   "name": "python3"
  },
  "language_info": {
   "codemirror_mode": {
    "name": "ipython",
    "version": 3
   },
   "file_extension": ".py",
   "mimetype": "text/x-python",
   "name": "python",
   "nbconvert_exporter": "python",
   "pygments_lexer": "ipython3",
   "version": "3.7.4"
  }
 },
 "nbformat": 4,
 "nbformat_minor": 2
}
