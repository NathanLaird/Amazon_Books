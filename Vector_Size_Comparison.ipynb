{
 "cells": [
  {
   "cell_type": "code",
   "execution_count": 1,
   "metadata": {},
   "outputs": [
    {
     "name": "stderr",
     "output_type": "stream",
     "text": [
      "[nltk_data] Downloading collection 'popular'\n",
      "[nltk_data]    | \n",
      "[nltk_data]    | Downloading package cmudict to\n",
      "[nltk_data]    |     /Users/nathan/nltk_data...\n",
      "[nltk_data]    |   Package cmudict is already up-to-date!\n",
      "[nltk_data]    | Downloading package gazetteers to\n",
      "[nltk_data]    |     /Users/nathan/nltk_data...\n",
      "[nltk_data]    |   Package gazetteers is already up-to-date!\n",
      "[nltk_data]    | Downloading package genesis to\n",
      "[nltk_data]    |     /Users/nathan/nltk_data...\n",
      "[nltk_data]    |   Package genesis is already up-to-date!\n",
      "[nltk_data]    | Downloading package gutenberg to\n",
      "[nltk_data]    |     /Users/nathan/nltk_data...\n",
      "[nltk_data]    |   Package gutenberg is already up-to-date!\n",
      "[nltk_data]    | Downloading package inaugural to\n",
      "[nltk_data]    |     /Users/nathan/nltk_data...\n",
      "[nltk_data]    |   Package inaugural is already up-to-date!\n",
      "[nltk_data]    | Downloading package movie_reviews to\n",
      "[nltk_data]    |     /Users/nathan/nltk_data...\n",
      "[nltk_data]    |   Package movie_reviews is already up-to-date!\n",
      "[nltk_data]    | Downloading package names to\n",
      "[nltk_data]    |     /Users/nathan/nltk_data...\n",
      "[nltk_data]    |   Package names is already up-to-date!\n",
      "[nltk_data]    | Downloading package shakespeare to\n",
      "[nltk_data]    |     /Users/nathan/nltk_data...\n",
      "[nltk_data]    |   Package shakespeare is already up-to-date!\n",
      "[nltk_data]    | Downloading package stopwords to\n",
      "[nltk_data]    |     /Users/nathan/nltk_data...\n",
      "[nltk_data]    |   Package stopwords is already up-to-date!\n",
      "[nltk_data]    | Downloading package treebank to\n",
      "[nltk_data]    |     /Users/nathan/nltk_data...\n",
      "[nltk_data]    |   Package treebank is already up-to-date!\n",
      "[nltk_data]    | Downloading package twitter_samples to\n",
      "[nltk_data]    |     /Users/nathan/nltk_data...\n",
      "[nltk_data]    |   Package twitter_samples is already up-to-date!\n",
      "[nltk_data]    | Downloading package omw to /Users/nathan/nltk_data...\n",
      "[nltk_data]    |   Package omw is already up-to-date!\n",
      "[nltk_data]    | Downloading package wordnet to\n",
      "[nltk_data]    |     /Users/nathan/nltk_data...\n",
      "[nltk_data]    |   Package wordnet is already up-to-date!\n",
      "[nltk_data]    | Downloading package wordnet_ic to\n",
      "[nltk_data]    |     /Users/nathan/nltk_data...\n",
      "[nltk_data]    |   Package wordnet_ic is already up-to-date!\n",
      "[nltk_data]    | Downloading package words to\n",
      "[nltk_data]    |     /Users/nathan/nltk_data...\n",
      "[nltk_data]    |   Package words is already up-to-date!\n",
      "[nltk_data]    | Downloading package maxent_ne_chunker to\n",
      "[nltk_data]    |     /Users/nathan/nltk_data...\n",
      "[nltk_data]    |   Package maxent_ne_chunker is already up-to-date!\n",
      "[nltk_data]    | Downloading package punkt to\n",
      "[nltk_data]    |     /Users/nathan/nltk_data...\n",
      "[nltk_data]    |   Package punkt is already up-to-date!\n",
      "[nltk_data]    | Downloading package snowball_data to\n",
      "[nltk_data]    |     /Users/nathan/nltk_data...\n",
      "[nltk_data]    |   Package snowball_data is already up-to-date!\n",
      "[nltk_data]    | Downloading package averaged_perceptron_tagger to\n",
      "[nltk_data]    |     /Users/nathan/nltk_data...\n",
      "[nltk_data]    |   Package averaged_perceptron_tagger is already up-\n",
      "[nltk_data]    |       to-date!\n",
      "[nltk_data]    | \n",
      "[nltk_data]  Done downloading collection popular\n",
      "[nltk_data] Downloading package wordnet to /Users/nathan/nltk_data...\n",
      "[nltk_data]   Package wordnet is already up-to-date!\n",
      "[nltk_data] Downloading package wordnet to /Users/nathan/nltk_data...\n",
      "[nltk_data]   Package wordnet is already up-to-date!\n"
     ]
    }
   ],
   "source": [
    "import pandas as pd\n",
    "import numpy as np\n",
    "from sklearn import model_selection, naive_bayes, svm\n",
    "from sklearn.metrics import accuracy_score ,f1_score,roc_curve,precision_recall_curve\n",
    "import matplotlib.pyplot as plt\n",
    "\n",
    "%load_ext autoreload\n",
    "%autoreload 2\n",
    "from data_prep import df_prep  \n",
    "from data_prep import  NLP_Vectorizer\n",
    "from data_prep import parse_line\n",
    "from model_src import NLP_model\n",
    "import time\n"
   ]
  },
  {
   "cell_type": "code",
   "execution_count": 2,
   "metadata": {},
   "outputs": [
    {
     "name": "stdout",
     "output_type": "stream",
     "text": [
      "0: marketplace\n",
      "1: customer_id\n",
      "2: review_id\n",
      "3: product_id\n",
      "4: product_parent\n",
      "5: product_title\n",
      "6: product_category\n",
      "7: star_rating\n",
      "8: helpful_votes\n",
      "9: total_votes\n",
      "10: vine\n",
      "11: verified_purchase\n",
      "12: review_headline\n",
      "13: review_body\n",
      "14: review_date\n"
     ]
    }
   ],
   "source": [
    "col_names = ['marketplace','customer_id','review_id','product_id','product_parent','product_title','product_category','star_rating','helpful_votes','total_votes','vine','verified_purchase','review_headline','review_body','review_date']\n",
    "cols = {}\n",
    "for i in range(len(col_names)):\n",
    "    print (str(i)+': '+col_names[i])\n",
    "    cols[col_names[i]] = i"
   ]
  },
  {
   "cell_type": "code",
   "execution_count": 3,
   "metadata": {},
   "outputs": [
    {
     "data": {
      "text/plain": [
       "6672"
      ]
     },
     "execution_count": 3,
     "metadata": {},
     "output_type": "execute_result"
    }
   ],
   "source": [
    "np.random.seed(500)\n",
    "df = pd.read_csv('data/Spark_Pulls/us_Books_v1_02.csv')\n",
    "\n",
    "\n",
    "df = df.sample(frac=.1, random_state=1)\n",
    "len(df)"
   ]
  },
  {
   "cell_type": "code",
   "execution_count": 4,
   "metadata": {},
   "outputs": [],
   "source": [
    "#Corpus = df_prep(df,np.mean(df['8']/df['9']),.0)\n",
    "Corpus = pd.read_csv('data/Books_02_Corpus.csv')\n",
    "Corpus['text_final'] = Corpus['text_final'].fillna(' ')"
   ]
  },
  {
   "cell_type": "code",
   "execution_count": 5,
   "metadata": {},
   "outputs": [],
   "source": [
    "Train_X, Test_X, Train_Y, Test_Y = model_selection.train_test_split(Corpus[['text','text_final','help_score','help_votes','stars']],Corpus['label'],test_size=0.3)\n",
    "\n"
   ]
  },
  {
   "cell_type": "code",
   "execution_count": 6,
   "metadata": {},
   "outputs": [
    {
     "data": {
      "text/plain": [
       "text          0\n",
       "text_final    0\n",
       "help_score    0\n",
       "help_votes    0\n",
       "stars         0\n",
       "dtype: int64"
      ]
     },
     "execution_count": 6,
     "metadata": {},
     "output_type": "execute_result"
    }
   ],
   "source": [
    "Train_X.isna().sum()"
   ]
  },
  {
   "cell_type": "code",
   "execution_count": 7,
   "metadata": {},
   "outputs": [],
   "source": [
    "CV_2K = NLP_Vectorizer('CV',{'max_features':2000,'ngram_range':(1,3)})\n",
    "TF_IDF_2K =NLP_Vectorizer('TF_IDF',{'max_features':2000,'ngram_range':(1,3)})\n",
    "\n",
    "CV_4K = NLP_Vectorizer('CV',{'max_features':4000,'ngram_range':(1,3)})\n",
    "TF_IDF_4K =NLP_Vectorizer('TF_IDF',{'max_features':4000,'ngram_range':(1,3)}) \n",
    "\n",
    "CV_400 = NLP_Vectorizer('CV',{'max_features':400,'ngram_range':(1,3)})\n",
    "TF_IDF_400 =NLP_Vectorizer('TF_IDF',{'max_features':400,'ngram_range':(1,3)})\n",
    "\n",
    "\n",
    "\n",
    "orig_Train_Y = Train_Y\n",
    "Test_Y = CV_2K.encode_Y(Test_Y)\n",
    "Train_Y = CV_2K.encode_Y(Train_Y)\n",
    "\n",
    "CV_2K.fit(Train_X['text_final'])\n",
    "Train_X_Vector_CV_2K = CV_2K.transform(Train_X['text_final'])\n",
    "Test_X_Vector_CV_2K = CV_2K.transform(Test_X['text_final'])\n",
    "\n",
    "CV_4K.fit(Train_X['text_final'])\n",
    "Train_X_Vector_CV_4K = CV_4K.transform(Train_X['text_final'])\n",
    "Test_X_Vector_CV_4K = CV_4K.transform(Test_X['text_final'])\n",
    "\n",
    "CV_400.fit(Train_X['text_final'])\n",
    "Train_X_Vector_CV_400 = CV_400.transform(Train_X['text_final'])\n",
    "Test_X_Vector_CV_400 = CV_400.transform(Test_X['text_final'])\n",
    "\n",
    "TF_IDF_2K.fit(Train_X['text_final'])\n",
    "Train_X_Vector_TF_IDF_2K = TF_IDF_2K.transform(Train_X['text_final'])\n",
    "Test_X_Vector_TF_IDF_2K = TF_IDF_2K.transform(Test_X['text_final'])\n",
    "\n",
    "TF_IDF_4K.fit(Train_X['text_final'])\n",
    "Train_X_Vector_TF_IDF_4K = TF_IDF_4K.transform(Train_X['text_final'])\n",
    "Test_X_Vector_TF_IDF_4K = TF_IDF_4K.transform(Test_X['text_final'])\n",
    "\n",
    "TF_IDF_400.fit(Train_X['text_final'])\n",
    "Train_X_Vector_TF_IDF_400 = TF_IDF_400.transform(Train_X['text_final'])\n",
    "Test_X_Vector_TF_IDF_400 = TF_IDF_400.transform(Test_X['text_final'])\n"
   ]
  },
  {
   "cell_type": "code",
   "execution_count": 8,
   "metadata": {},
   "outputs": [],
   "source": [
    "SVC_Standard = NLP_model('SVC',{'degree':3,'gamma':'auto','kernel':'linear','C':1.0})\n",
    "\n",
    "RF_Standard =  NLP_model('RF',{'n_estimators':1500})\n",
    "\n",
    "LR_Standard = NLP_model('LR')\n",
    "\n",
    "XG_Standard = NLP_model('XGBoost',{'max_depth':5,'n_estimators':1000,'learning_rate':.01})"
   ]
  },
  {
   "cell_type": "code",
   "execution_count": 9,
   "metadata": {},
   "outputs": [],
   "source": [
    "\n",
    "data_set_train = Train_X_Vector_TF_IDF_400\n",
    "data_set_test = Test_X_Vector_TF_IDF_400\n"
   ]
  },
  {
   "cell_type": "code",
   "execution_count": 10,
   "metadata": {},
   "outputs": [],
   "source": [
    "trains = [Train_X_Vector_TF_IDF_400,Train_X_Vector_TF_IDF_2K,Train_X_Vector_TF_IDF_4K]\n",
    "tests = [Test_X_Vector_TF_IDF_400,Test_X_Vector_TF_IDF_2K,Test_X_Vector_TF_IDF_4K]\n",
    "names = ['TF_IDF_400','TF_IDF_2K','TF_IDF_4K']"
   ]
  },
  {
   "cell_type": "code",
   "execution_count": null,
   "metadata": {},
   "outputs": [
    {
     "name": "stdout",
     "output_type": "stream",
     "text": [
      "a\n"
     ]
    }
   ],
   "source": [
    "for data_set_train,data_set_test,name in zip(trains,tests,names):\n",
    "    ts = time.time()\n",
    "    print('a')\n",
    "    SVC_Standard.fit(data_set_train,Train_Y)\n",
    "\n",
    "    SVC_Standard_predict_proba = SVC_Standard.predict_proba(data_set_test)\n",
    "\n",
    "    SVC_fpr, SVC_tpr, SVC_thresholds = roc_curve(Test_Y,SVC_Standard_predict_proba[:,1])\n",
    "\n",
    "    SVC_precision, SVC_recall, SVC_thresholds = precision_recall_curve(Test_Y,SVC_Standard_predict_proba[:,1])\n",
    "\n",
    "    print('b')\n",
    "    RF_Standard.fit(data_set_train,Train_Y)\n",
    "\n",
    "    RF_Standard_predict_proba = RF_Standard.predict_proba(data_set_test)\n",
    "\n",
    "    RF_fpr, RF_tpr, thresholds = roc_curve(Test_Y,RF_Standard_predict_proba[:,1])\n",
    "\n",
    "    RF_precision, RF_recall, thresholds = precision_recall_curve(Test_Y,RF_Standard_predict_proba[:,1])\n",
    "    print('c')\n",
    "\n",
    "    XG_Standard.fit(data_set_train,Train_Y)\n",
    "\n",
    "    XG_Standard_predict_proba = XG_Standard.predict_proba(data_set_test)\n",
    "\n",
    "    XG_fpr, XG_tpr, thresholds = roc_curve(Test_Y,XG_Standard_predict_proba[:,1])\n",
    "\n",
    "    XG_precision, XG_recall, thresholds = precision_recall_curve(Test_Y,XG_Standard_predict_proba[:,1])\n",
    "\n",
    "    print('d')\n",
    "\n",
    "    LR_Standard.fit(data_set_train,Train_Y)\n",
    "\n",
    "    LR_Standard_predict_proba = LR_Standard.predict_proba(data_set_test)\n",
    "\n",
    "    LR_fpr, LR_tpr, thresholds = roc_curve(Test_Y,LR_Standard_predict_proba[:,1])\n",
    "\n",
    "    LR_precision, LR_recall, thresholds = precision_recall_curve(Test_Y,LR_Standard_predict_proba[:,1])\n",
    "\n",
    "    print('f')\n",
    "    plt.figure(figsize=(10,10))\n",
    "    plt.plot(LR_fpr,LR_tpr,label='Logistic Regression')\n",
    "    plt.plot(XG_fpr,XG_tpr,label='XGBoost')\n",
    "    plt.plot(RF_fpr,RF_tpr,label='Random Forest')\n",
    "    plt.plot(SVC_fpr,SVC_tpr,label='Support Vector Classifier')\n",
    "    plt.plot([0,1],[0,1])\n",
    "    plt.xlabel('False Positive')\n",
    "    plt.ylabel('True Positive')\n",
    "    plt.legend()\n",
    "    plt.savefig('Viz/'+name+'_ROC_Curve.png')\n",
    "    \n",
    "    print(time.time()-ts)\n",
    "\n",
    "\n"
   ]
  },
  {
   "cell_type": "code",
   "execution_count": null,
   "metadata": {},
   "outputs": [],
   "source": []
  },
  {
   "cell_type": "code",
   "execution_count": null,
   "metadata": {},
   "outputs": [],
   "source": [
    "plt.figure(figsize=(10,10))\n",
    "plt.plot(LR_precision,LR_recall,label='Logistic Regression')\n",
    "plt.plot(XG_precision,XG_recall,label='XGBoost')\n",
    "plt.plot(RF_precision,RF_recall,label='Random Forest')\n",
    "plt.plot(SVC_precision,SVC_recall,label='Support Vector Classifier')\n",
    "\n",
    "plt.xlabel('precision')\n",
    "plt.ylabel('recall')\n",
    "plt.ylim(.1,1)\n",
    "plt.xlim(.5,1)\n",
    "plt.legend()\n",
    "plt.savefig('Viz/Precision_Recall_Curve.png')"
   ]
  },
  {
   "cell_type": "code",
   "execution_count": null,
   "metadata": {},
   "outputs": [],
   "source": [
    "fprs = []\n",
    "tprs = []\n",
    "\n",
    "for data_set_train,data_set_test,name in zip(trains,tests,names):\n",
    "    LR_Standard.fit(data_set_train,Train_Y)\n",
    "\n",
    "    LR_Standard_predict_proba = LR_Standard.predict_proba(data_set_test)\n",
    "\n",
    "    LR_fpr, LR_tpr, thresholds = roc_curve(Test_Y,LR_Standard_predict_proba[:,1])\n",
    "\n",
    "    LR_precision, LR_recall, thresholds = precision_recall_curve(Test_Y,LR_Standard_predict_proba[:,1])\n",
    "    fprs.append(LR_fpr)\n",
    "    tprs.append(LR_tpr)\n",
    "    "
   ]
  },
  {
   "cell_type": "code",
   "execution_count": null,
   "metadata": {},
   "outputs": [],
   "source": [
    "plt.figure(figsize=(10,10))\n",
    "plt.plot(fprs[0],tprs[0],label=names[0])\n",
    "plt.plot(fprs[1],tprs[1],label=names[1])\n",
    "plt.plot(fprs[2],tprs[2],label=names[2])\n",
    "\n",
    "plt.plot([0,1],[0,1])\n",
    "plt.xlabel('False Positive')\n",
    "plt.ylabel('True Positive')\n",
    "plt.legend()\n",
    "plt.savefig('Viz/'+'TD_IDF_Size'+'_ROC_Curve.png')\n",
    "    "
   ]
  },
  {
   "cell_type": "code",
   "execution_count": null,
   "metadata": {},
   "outputs": [],
   "source": [
    "plt.hist(df['14']%365,bins=365)"
   ]
  },
  {
   "cell_type": "code",
   "execution_count": null,
   "metadata": {},
   "outputs": [],
   "source": []
  }
 ],
 "metadata": {
  "kernelspec": {
   "display_name": "Python 3",
   "language": "python",
   "name": "python3"
  },
  "language_info": {
   "codemirror_mode": {
    "name": "ipython",
    "version": 3
   },
   "file_extension": ".py",
   "mimetype": "text/x-python",
   "name": "python",
   "nbconvert_exporter": "python",
   "pygments_lexer": "ipython3",
   "version": "3.7.4"
  }
 },
 "nbformat": 4,
 "nbformat_minor": 2
}
